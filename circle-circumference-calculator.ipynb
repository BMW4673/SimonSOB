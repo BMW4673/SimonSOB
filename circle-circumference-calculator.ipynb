{
 "cells": [
  {
   "cell_type": "code",
   "execution_count": null,
   "id": "07ec22ee-8e20-458f-af88-7c8fb0d53ed4",
   "metadata": {},
   "outputs": [],
   "source": [
    "#Input the diameter of a circle that is positive and a non-zero integer without error correction\n",
    "diameter = input (\"Please input the diameter of a circle in inches: \")\n",
    "\n",
    "#Convert diameter to integer\n",
    "diameter = int(diameter)\n",
    "\n",
    "#Calculate circumference with pi defined as a variable\n",
    "pi=3.14159\n",
    "circumference = diameter * pi \n",
    "\n",
    "print(\"\")\n",
    "print(\"The circumference of the circle is \", round(circumference,2), \" inches.\")\n",
    "\n",
    "#End of Script"
   ]
  }
 ],
 "metadata": {
  "kernelspec": {
   "display_name": "Python [conda env:base] *",
   "language": "python",
   "name": "conda-base-py"
  },
  "language_info": {
   "codemirror_mode": {
    "name": "ipython",
    "version": 3
   },
   "file_extension": ".py",
   "mimetype": "text/x-python",
   "name": "python",
   "nbconvert_exporter": "python",
   "pygments_lexer": "ipython3",
   "version": "3.12.7"
  }
 },
 "nbformat": 4,
 "nbformat_minor": 5
}
