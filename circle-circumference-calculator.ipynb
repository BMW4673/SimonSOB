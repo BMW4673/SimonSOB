{
 "cells": [
  {
   "cell_type": "code",
   "execution_count": 3,
   "id": "07ec22ee-8e20-458f-af88-7c8fb0d53ed4",
   "metadata": {},
   "outputs": [
    {
     "name": "stdin",
     "output_type": "stream",
     "text": [
      "Please input the diameter of a circle in inches:  25\n"
     ]
    },
    {
     "name": "stdout",
     "output_type": "stream",
     "text": [
      "\n",
      "The circumference of the circle is 78.54 inches.\n"
     ]
    }
   ],
   "source": [
    "#Input the diameter of a circle that is positive and a non-zero integer without error correction\n",
    "diameter = int(input (\"Please input the diameter of a circle in inches: \"))\n",
    "\n",
    "#Calculate circumference with pi defined as a variable\n",
    "pi=3.14159\n",
    "circumference = diameter * pi \n",
    "circumference = round(circumference,2)\n",
    "print(\"The circumference of the circle is \" + str(circumference) + \" inches.\")\n",
    "\n",
    "#End of Script"
   ]
  },
  {
   "cell_type": "code",
   "execution_count": null,
   "id": "55aa8849-49d7-46cc-bac4-cb102ae269d7",
   "metadata": {},
   "outputs": [],
   "source": []
  }
 ],
 "metadata": {
  "kernelspec": {
   "display_name": "Python [conda env:base] *",
   "language": "python",
   "name": "conda-base-py"
  },
  "language_info": {
   "codemirror_mode": {
    "name": "ipython",
    "version": 3
   },
   "file_extension": ".py",
   "mimetype": "text/x-python",
   "name": "python",
   "nbconvert_exporter": "python",
   "pygments_lexer": "ipython3",
   "version": "3.12.7"
  }
 },
 "nbformat": 4,
 "nbformat_minor": 5
}
