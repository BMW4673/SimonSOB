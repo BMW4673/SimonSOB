{
 "cells": [
  {
   "cell_type": "code",
   "execution_count": 65,
   "id": "18dea2a8",
   "metadata": {},
   "outputs": [],
   "source": [
    "#Data Analysis Setup\n",
    "import pandas as pd\n",
    "from scipy.stats import binom\n",
    "data = 0\n",
    "data2 = 0\n",
    "df = 0\n",
    "df2 = 0\n",
    "\n",
    "\n"
   ]
  },
  {
   "cell_type": "code",
   "execution_count": 66,
   "id": "49504710",
   "metadata": {},
   "outputs": [],
   "source": [
    "#PROBLEM 1\n",
    "#Create the contingency table with totals\n",
    "data = {\n",
    "    'LOST WEIGHT': {'DRUG': 640, 'PLACEBO': 500},\n",
    "    'DID NOT LOSE WEIGHT': {'DRUG': 360, 'PLACEBO': 500}\n",
    "}\n",
    "\n",
    "df = pd.DataFrame(data)\n",
    "df['TOTALS'] = df.sum(axis=1)\n",
    "df.loc['TOTALS'] = df.sum()"
   ]
  },
  {
   "cell_type": "code",
   "execution_count": null,
   "id": "4281ac6f",
   "metadata": {},
   "outputs": [
    {
     "data": {
      "text/plain": [
       "0.5614035087719299"
      ]
     },
     "execution_count": 67,
     "metadata": {},
     "output_type": "execute_result"
    }
   ],
   "source": [
    "#Calculate probabilities\n",
    "#Total number of participants\n",
    "total_participants = df.loc['TOTALS', 'TOTALS']\n",
    "\n",
    "#Number of people who lost weight (both groups)\n",
    "total_lost_weight = df.loc['TOTALS', 'LOST WEIGHT']\n",
    "\n",
    "#Probability of losing weight overall\n",
    "p_lost_weight = total_lost_weight / total_participants\n",
    "\n",
    "#Probability of group 1 (drug group) losing weight\n",
    "p_lost_weight_drug = df.loc['DRUG', 'LOST WEIGHT'] / df.loc['DRUG', 'TOTALS']\n",
    "\n",
    "\n",
    "#Probability of group 2 (placebo group) losing weight\n",
    "p_lost_weight_placebo = df.loc['PLACEBO', 'LOST WEIGHT'] / df.loc['PLACEBO', 'TOTALS']\n",
    "p_lost_weight_placebo\n",
    "\n",
    "#Jamie lost weight, what is the probability she was in the drug group?\n",
    "#Using Bayes' Theorem\n",
    "#P(Drug | Lost Weight) = P(Lost Weight | Drug) * P(Drug) / P(Lost Weight)\n",
    "p_drug = df.loc['DRUG', 'TOTALS'] / total_participants\n",
    "p_drug_given_lost_weight = (p_lost_weight_drug * p_drug) / p_lost_weight\n",
    "p_drug_given_lost_weight    "
   ]
  },
  {
   "cell_type": "code",
   "execution_count": null,
   "id": "4b457735",
   "metadata": {},
   "outputs": [
    {
     "name": "stdout",
     "output_type": "stream",
     "text": [
      "Problem 1:\n",
      "-----------------------\n",
      "Contingency Table with Totals:         LOST WEIGHT  DID NOT LOSE WEIGHT  TOTALS\n",
      "DRUG             640                  360    1000\n",
      "PLACEBO          500                  500    1000\n",
      "TOTALS          1140                  860    2000\n",
      "\n",
      "Statistical Analysis Results:\n",
      "-----------------------\n",
      "- Total number of participants: 2000\n",
      "- Number of people who lost weight: 1140\n",
      "(A) Probability of losing weight overall: 0.570\n",
      "(B) Probability of losing weight (Drug group): 0.640\n",
      "(C) Probability of losing weight (Placebo group): 0.500\n",
      "(D) Probability Jamie was in the drug group given they lost weight: 0.561\n",
      "    - Jamie is more likely to be in the drug group.\n"
     ]
    }
   ],
   "source": [
    "#Problem 1 Output\n",
    "print(\n",
    "    'Problem 1:\\n'\n",
    "    '-----------------------\\n'\n",
    "    f'Contingency Table with Totals:{df}\\n'\n",
    "    '\\n'\n",
    "    'Statistical Analysis Results:\\n'\n",
    "    '-----------------------\\n'\n",
    "    f'- Total number of participants: {total_participants}\\n'\n",
    "    f'- Number of people who lost weight: {total_lost_weight}\\n'\n",
    "    f'(A) Probability of losing weight overall: {p_lost_weight:.3f}\\n'\n",
    "    f'(B) Probability of losing weight (Drug group): {p_lost_weight_drug:.3f}\\n'\n",
    "    f'(C) Probability of losing weight (Placebo group): {p_lost_weight_placebo:.3f}\\n'\n",
    "    f'(D) Probability Jamie was in the drug group given they lost weight: {p_drug_given_lost_weight:.3f}\\n'\n",
    "    f'    - {\"Jamie is more likely to be in the drug group.\" if p_drug_given_lost_weight > 0.5 else \"Jamie is more likely to be in the placebo group.\"}'\n",
    ")"
   ]
  },
  {
   "cell_type": "code",
   "execution_count": 69,
   "id": "539434b6",
   "metadata": {},
   "outputs": [],
   "source": [
    "#PROBLEM 2\n",
    "# Create the contingency table\n",
    "data2 = {\n",
    "    'QUALIFIED': {\n",
    "        'TRAINED': 0.67, \n",
    "        'UNTRAINED': 1 - 0.67\n",
    "    },\n",
    "    'NOT QUALIFIED': {\n",
    "        'TRAINED': 0.20, \n",
    "        'UNTRAINED': 1 - 0.20\n",
    "    }\n",
    "}\n",
    "df2 = pd.DataFrame(data2)\n",
    "\n"
   ]
  },
  {
   "cell_type": "code",
   "execution_count": 70,
   "id": "025db764",
   "metadata": {},
   "outputs": [],
   "source": [
    "#Calculate Probabilities\n",
    "#Define marginal probabilities\n",
    "p_qualified = 0.60\n",
    "p_not_qualified = 1 - p_qualified\n",
    "\n",
    "#Pull conditional probabilities from the DataFrame\n",
    "p_trained_given_qualified = df2.loc['TRAINED', 'QUALIFIED']\n",
    "p_trained_given_not_qualified = df2.loc['TRAINED', 'NOT QUALIFIED']\n",
    "\n",
    "#Apply Law of Total Probabilities\n",
    "p_trained = (p_trained_given_qualified * p_qualified) + (p_trained_given_not_qualified * p_not_qualified)"
   ]
  },
  {
   "cell_type": "code",
   "execution_count": 71,
   "id": "92399094",
   "metadata": {},
   "outputs": [
    {
     "name": "stdout",
     "output_type": "stream",
     "text": [
      "Problem 2:\n",
      "-----------------------\n",
      "CONTINGENCY TABLE\n",
      "           QUALIFIED  NOT QUALIFIED\n",
      "TRAINED         0.67            0.2\n",
      "UNTRAINED       0.33            0.8\n",
      "The probability that a randomly selected applicant was trained is 48.20%\n",
      "\n",
      "It is recommended the perseonnel director does not limit qualified applicants to those\n",
      "who have been trained, as the liklihood of qualified and trained is less than 50%.\n",
      "\n"
     ]
    }
   ],
   "source": [
    "#Problem 2 Output\n",
    "print(\n",
    "    f'Problem 2:\\n'\n",
    "    '-----------------------\\n'\n",
    "    f'CONTINGENCY TABLE\\n{df2}\\n'\n",
    "    f'The probability that a randomly selected applicant was trained is {p_trained*100:.2f}%\\n'\n",
    "    '\\n'\n",
    "    'It is recommended the perseonnel director does not limit qualified applicants to those\\n'\n",
    "    'who have been trained, as the liklihood of qualified and trained is less than 50%.\\n'\n",
    ")"
   ]
  },
  {
   "cell_type": "code",
   "execution_count": 72,
   "id": "2673628a",
   "metadata": {},
   "outputs": [],
   "source": [
    "#Problem 3\n",
    "#Create the contingency table\n",
    "data3 = {\n",
    "    'S1': {'DEFECT RATE': 0.05, 'SHIPMENT': 20},\n",
    "    'S2': {'DEFECT RATE': 0.10, 'SHIPMENT': 10}\n",
    "}\n",
    "df3 = pd.DataFrame(data3)\n",
    "\n",
    "#Total Units\n",
    "total_units = df3.loc['SHIPMENT'].sum()\n",
    "\n",
    "#Total defectve units by supplier\n",
    "s1_defects = df3.loc['DEFECT RATE', 'S1'] * df3.loc['SHIPMENT', 'S1']\n",
    "s2_defects = df3.loc['DEFECT RATE', 'S2'] * df3.loc['SHIPMENT', 'S2']\n",
    "\n",
    "#Total defective units\n",
    "total_defective_units = s1_defects + s2_defects\n",
    "\n",
    "weighted_defect = (\n",
    "    df3.loc['DEFECT RATE', 'S1'] * df3.loc['SHIPMENT', 'S1'] +\n",
    "    df3.loc['DEFECT RATE', 'S2'] * df3.loc['SHIPMENT', 'S2']\n",
    ") / (\n",
    "    df3.loc['SHIPMENT', 'S1'] + df3.loc['SHIPMENT', 'S2']\n",
    ")\n",
    "n = 10      #number of products\n",
    "k = 1       #exactly 1 defective product\n",
    "p = 0.10    #defect rate for S2 shipment\n",
    "\n",
    "#Calculate bonomial probability\n",
    "p_1_defect = binom.pmf(k, n, p)\n",
    "\n",
    "#Law of Total Probabilities - Bayes Theorem\n",
    "p_rand_defect = (total_defective_units / total_units)\n",
    "#Priors\n",
    "p_s1 = df3.loc['SHIPMENT', 'S1'] / df3.loc['SHIPMENT'].sum()\n",
    "p_s2 = df3.loc['SHIPMENT', 'S2'] / df3.loc['SHIPMENT'].sum()\n",
    "\n",
    "#Likelihoods\n",
    "p_not_def_s1 = 1 - df3.loc['DEFECT RATE', 'S1']\n",
    "p_not_def_s2 = 1 - df3.loc['DEFECT RATE', 'S2']\n",
    "\n",
    "#Total prbobability of not defective\n",
    "p_not_defective = (p_not_def_s1 * p_s1) + (p_not_def_s2 * p_s2)\n",
    "\n",
    "\n"
   ]
  },
  {
   "cell_type": "code",
   "execution_count": 73,
   "id": "ac3e4e63",
   "metadata": {},
   "outputs": [
    {
     "name": "stdout",
     "output_type": "stream",
     "text": [
      "Problem 3:\n",
      "-----------------------\n",
      "CONTINGENCY TABLE\n",
      "                S1    S2\n",
      "DEFECT RATE   0.05   0.1\n",
      "SHIPMENT     20.00  10.0\n",
      "\n",
      "The weighted defect rate across both suppliers is 6.67%\n",
      "(A) Probability of exactly 1 defect in a sample of 10 from supplier S2 is 38.74%\n",
      "(B) Probability of a randomly selected product of 30 being defective is 6.67%\n",
      "(C) Probability that a non-defective unit came from S2: 0.9000 or 90.00%\n"
     ]
    }
   ],
   "source": [
    "#Problem 3 Output\n",
    "print(\n",
    "    'Problem 3:\\n'\n",
    "    '-----------------------\\n'\n",
    "    f'CONTINGENCY TABLE\\n{df3}\\n'\n",
    "    '\\n'\n",
    "    f'The weighted defect rate across both suppliers is {weighted_defect*100:.2f}%\\n'\n",
    "    f'(A) Probability of exactly 1 defect in a sample of 10 from supplier S2 is {p_1_defect*100:.2f}%\\n'\n",
    "    f'(B) Probability of a randomly selected product of 30 being defective is {p_rand_defect*100:.2f}%\\n'\n",
    "    f'(C) Probability that a non-defective unit came from S2: {p_not_def_s2:.4f} or {p_not_def_s2*100:.2f}%'\n",
    ")"
   ]
  },
  {
   "cell_type": "code",
   "execution_count": 74,
   "id": "58410149",
   "metadata": {},
   "outputs": [
    {
     "data": {
      "text/html": [
       "<div>\n",
       "<style scoped>\n",
       "    .dataframe tbody tr th:only-of-type {\n",
       "        vertical-align: middle;\n",
       "    }\n",
       "\n",
       "    .dataframe tbody tr th {\n",
       "        vertical-align: top;\n",
       "    }\n",
       "\n",
       "    .dataframe thead th {\n",
       "        text-align: right;\n",
       "    }\n",
       "</style>\n",
       "<table border=\"1\" class=\"dataframe\">\n",
       "  <thead>\n",
       "    <tr style=\"text-align: right;\">\n",
       "      <th></th>\n",
       "      <th>PROHIBITED_ITEMS</th>\n",
       "      <th>PERMITTED_ITEMS</th>\n",
       "    </tr>\n",
       "  </thead>\n",
       "  <tbody>\n",
       "    <tr>\n",
       "      <th>CORRECT_ID</th>\n",
       "      <td>0.05</td>\n",
       "      <td>0.98</td>\n",
       "    </tr>\n",
       "    <tr>\n",
       "      <th>INCORRECT_ID</th>\n",
       "      <td>0.95</td>\n",
       "      <td>0.02</td>\n",
       "    </tr>\n",
       "  </tbody>\n",
       "</table>\n",
       "</div>"
      ],
      "text/plain": [
       "              PROHIBITED_ITEMS  PERMITTED_ITEMS\n",
       "CORRECT_ID                0.05             0.98\n",
       "INCORRECT_ID              0.95             0.02"
      ]
     },
     "execution_count": 74,
     "metadata": {},
     "output_type": "execute_result"
    }
   ],
   "source": [
    "#Problem 4\n",
    "#Create contingecy table\n",
    "\n",
    "def4 = {\n",
    "    'PROHIBITED_ITEMS': {'CORRECT_ID': 0.05, 'INCORRECT_ID': 0.95},\n",
    "    'PERMITTED_ITEMS': {'CORRECT_ID': 0.98, 'INCORRECT_ID': 0.02}\n",
    "}\n",
    "df4 = pd.DataFrame(def4)\n",
    "df4"
   ]
  }
 ],
 "metadata": {
  "kernelspec": {
   "display_name": "base",
   "language": "python",
   "name": "python3"
  },
  "language_info": {
   "codemirror_mode": {
    "name": "ipython",
    "version": 3
   },
   "file_extension": ".py",
   "mimetype": "text/x-python",
   "name": "python",
   "nbconvert_exporter": "python",
   "pygments_lexer": "ipython3",
   "version": "3.12.7"
  }
 },
 "nbformat": 4,
 "nbformat_minor": 5
}
