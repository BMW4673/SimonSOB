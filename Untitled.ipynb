{
 "cells": [
  {
   "cell_type": "code",
   "execution_count": 1,
   "id": "368fc33e-4efe-49bf-8033-4f2ec8a8a510",
   "metadata": {},
   "outputs": [
    {
     "data": {
      "text/plain": [
       "False"
      ]
     },
     "execution_count": 1,
     "metadata": {},
     "output_type": "execute_result"
    }
   ],
   "source": [
    "revenue = True\n",
    "profit = False\n",
    "revenue and profit"
   ]
  },
  {
   "cell_type": "code",
   "execution_count": 3,
   "id": "3dde78bc-c5c7-4117-9f3d-6924ba857319",
   "metadata": {},
   "outputs": [
    {
     "data": {
      "text/plain": [
       "True"
      ]
     },
     "execution_count": 3,
     "metadata": {},
     "output_type": "execute_result"
    }
   ],
   "source": [
    "revenue and revenue"
   ]
  },
  {
   "cell_type": "code",
   "execution_count": 5,
   "id": "ef60a5aa-edf2-4976-a18a-6c5125a7523f",
   "metadata": {},
   "outputs": [
    {
     "data": {
      "text/plain": [
       "False"
      ]
     },
     "execution_count": 5,
     "metadata": {},
     "output_type": "execute_result"
    }
   ],
   "source": [
    "profit and profit"
   ]
  },
  {
   "cell_type": "code",
   "execution_count": 7,
   "id": "eaa1fb02-1160-4a1c-9db5-53184a3e5adc",
   "metadata": {},
   "outputs": [
    {
     "data": {
      "text/plain": [
       "bool"
      ]
     },
     "execution_count": 7,
     "metadata": {},
     "output_type": "execute_result"
    }
   ],
   "source": [
    "type(revenue)"
   ]
  },
  {
   "cell_type": "code",
   "execution_count": 13,
   "id": "a99bf52d-77c9-4e72-875a-1fc97bfdb263",
   "metadata": {},
   "outputs": [
    {
     "name": "stdout",
     "output_type": "stream",
     "text": [
      "Cast the line into the water.\n"
     ]
    }
   ],
   "source": [
    "# let's keep track of the worm\n",
    "isWormOnHook = True\n",
    "\n",
    "# is the worm on the hook?\n",
    "if (isWormOnHook == True):{\n",
    "    print (\"Cast the line into the water.\")\n",
    "}"
   ]
  },
  {
   "cell_type": "code",
   "execution_count": 15,
   "id": "82f8d58d-5d43-44d6-b526-cb10ca0e9535",
   "metadata": {},
   "outputs": [
    {
     "ename": "NameError",
     "evalue": "name 'LightsAreOn' is not defined",
     "output_type": "error",
     "traceback": [
      "\u001b[0;31m---------------------------------------------------------------------------\u001b[0m",
      "\u001b[0;31mNameError\u001b[0m                                 Traceback (most recent call last)",
      "Cell \u001b[0;32mIn[15], line 1\u001b[0m\n\u001b[0;32m----> 1\u001b[0m \u001b[38;5;28;01mif\u001b[39;00m (LightsAreOn \u001b[38;5;241m==\u001b[39m \u001b[38;5;28;01mTrue\u001b[39;00m):\n\u001b[1;32m      2\u001b[0m     \u001b[38;5;28mprint\u001b[39m (\u001b[38;5;124m\"\u001b[39m\u001b[38;5;124mLights on\u001b[39m\u001b[38;5;124m\"\u001b[39m)\n",
      "\u001b[0;31mNameError\u001b[0m: name 'LightsAreOn' is not defined"
     ]
    }
   ],
   "source": [
    "if (LightsAreOn == True):\n",
    "    print (\"Lights on\")"
   ]
  },
  {
   "cell_type": "code",
   "execution_count": 19,
   "id": "bfe28b4f-3bfb-4185-853a-cd2862d5dd76",
   "metadata": {},
   "outputs": [
    {
     "name": "stdout",
     "output_type": "stream",
     "text": [
      "Customer gets the value meal 10% discount.\n"
     ]
    }
   ],
   "source": [
    "# let's keep track of a fast-food order\n",
    "orderHasCheeseBurger = True\n",
    "orderHasFrenchFries = True\n",
    "\n",
    "# should we ring this up with a value meal discount?\n",
    "if (orderHasCheeseBurger == True and orderHasFrenchFries == True):\n",
    "    print (\"Customer gets the value meal 10% discount.\")"
   ]
  },
  {
   "cell_type": "code",
   "execution_count": 27,
   "id": "ac1b4024-b282-4f07-90d0-db96ec691efd",
   "metadata": {},
   "outputs": [],
   "source": [
    "if (orderHasCheeseBurger == True and orderHasFrenchFries == False):\n",
    "    print (\"Customer pays full price\")"
   ]
  },
  {
   "cell_type": "code",
   "execution_count": 29,
   "id": "01039e44-01f3-414e-8b31-7682518bd1c8",
   "metadata": {},
   "outputs": [
    {
     "name": "stdout",
     "output_type": "stream",
     "text": [
      "Run the play!\n"
     ]
    }
   ],
   "source": [
    "# track the football game\n",
    "# what down (chance is it)\n",
    "down = 3\n",
    "# should we run a play or punt?\n",
    "# teams usualy put on down 4\n",
    "if (down <4): \n",
    "    print (\"Run the play!\")\n",
    "else:\n",
    "    print (\"Let's piunt the ball away.\")\n",
    "\n"
   ]
  },
  {
   "cell_type": "code",
   "execution_count": 41,
   "id": "3c9ac067-b390-4633-9b1d-343f2da5c7e6",
   "metadata": {},
   "outputs": [
    {
     "ename": "SyntaxError",
     "evalue": "invalid syntax (3661205473.py, line 7)",
     "output_type": "error",
     "traceback": [
      "\u001b[0;36m  Cell \u001b[0;32mIn[41], line 7\u001b[0;36m\u001b[0m\n\u001b[0;31m    if (down == 3) {\u001b[0m\n\u001b[0m                   ^\u001b[0m\n\u001b[0;31mSyntaxError\u001b[0m\u001b[0;31m:\u001b[0m invalid syntax\n"
     ]
    }
   ],
   "source": [
    "# track the football game\n",
    "# what down (chance is it)\n",
    "down = 3\n",
    "yardsToGo = 3\n",
    "if (down == 3) {\n",
    "    if (yardsToGo <=5) { print (\"Run the play!\") }\n",
    "    else { print (\"Let's punt the ball away.\") }\n",
    "}"
   ]
  },
  {
   "cell_type": "code",
   "execution_count": 74,
   "id": "e4de2878-91ae-4b8c-8b81-ea3bb951551e",
   "metadata": {},
   "outputs": [
    {
     "ename": "SyntaxError",
     "evalue": "unterminated string literal (detected at line 29) (2305607889.py, line 29)",
     "output_type": "error",
     "traceback": [
      "\u001b[0;36m  Cell \u001b[0;32mIn[74], line 29\u001b[0;36m\u001b[0m\n\u001b[0;31m    print (\"Good job! You get the perfect amount of sleep!)\u001b[0m\n\u001b[0m           ^\u001b[0m\n\u001b[0;31mSyntaxError\u001b[0m\u001b[0;31m:\u001b[0m unterminated string literal (detected at line 29)\n"
     ]
    }
   ],
   "source": [
    "# -----------------------------------------\n",
    "# DATA\n",
    "# -----------------------------------------\n",
    "\n",
    "sleepQuality = \"\"\n",
    "\n",
    "# -----------------------------------------\n",
    "# BUSINESS LOGIC\n",
    "# -----------------------------------------\n",
    "\n",
    "if (nuHoursOfSleep >= thresholdTooLittle and numHoursOfSleep <= thresholdTooMuch):\n",
    "\n",
    "    sleepQuality = \"just_right\"\n",
    "\n",
    "elif (numHoursOfSleep , thresholdToolittle:\n",
    "\n",
    "    sleepQuality = \"too_little\"\n",
    "\n",
    "else:\n",
    "\n",
    "    sleepQuality = \"too_much\"\n",
    "\n",
    "# -----------------------------------------\n",
    "# PRESENTATION\n",
    "# -----------------------------------------\n",
    "\n",
    "if (sleepQuality == \"just_right\")\n",
    "\n",
    "    print (\"Good job! You get the perfect amount of sleep!)\n",
    "\n",
    "\n",
    "elif (sleepQuality == \"too_little\")\n",
    "\n",
    "    print (\"You need to get more sleep!)\n",
    "\n",
    "else:\n",
    "    print (\"You are getting too much sleep!\")"
   ]
  },
  {
   "cell_type": "code",
   "execution_count": 76,
   "id": "6b3d1a04-5c15-4617-a179-9b2216d392c8",
   "metadata": {},
   "outputs": [
    {
     "name": "stdin",
     "output_type": "stream",
     "text": [
      "How much sleep do you get? 18\n"
     ]
    },
    {
     "name": "stdout",
     "output_type": "stream",
     "text": [
      "You are getting too much sleep!\n"
     ]
    }
   ],
   "source": [
    "# capture how much sleep I get as a float\n",
    "\n",
    "numHoursOfSleep = float(input(\"How much sleep do you get?\"))\n",
    "\n",
    "# do I get between 7 and 9 hours of sleep per night?\n",
    "# Option 1\n",
    "# if (numHoursOfSleep >= 7):\n",
    "#    if (numHoursOfSleep <=9):\n",
    "#        print (\"Good job! You get the perfect amount of sleep!\")\n",
    "# Option 2\n",
    "#if (7 <= numHoursOfSleep <= 9):\n",
    "#    print (\"Good job! You get the perfect amount of sleep!\")\n",
    "# Option 3\n",
    "if (numHoursOfSleep >= 7 and numHoursOfSleep <=9):\n",
    "    print (\"You need to get more sleep!\")\n",
    "elif (numHoursOfSleep < 7):\n",
    "    print (\"You need to get more sleep!\")\n",
    "else:\n",
    "    print (\"You are getting too much sleep!\")"
   ]
  },
  {
   "cell_type": "code",
   "execution_count": null,
   "id": "9209a78a-a3f7-4059-a9ec-dd15c85eaefc",
   "metadata": {},
   "outputs": [],
   "source": []
  }
 ],
 "metadata": {
  "kernelspec": {
   "display_name": "Python [conda env:base] *",
   "language": "python",
   "name": "conda-base-py"
  },
  "language_info": {
   "codemirror_mode": {
    "name": "ipython",
    "version": 3
   },
   "file_extension": ".py",
   "mimetype": "text/x-python",
   "name": "python",
   "nbconvert_exporter": "python",
   "pygments_lexer": "ipython3",
   "version": "3.12.7"
  }
 },
 "nbformat": 4,
 "nbformat_minor": 5
}
