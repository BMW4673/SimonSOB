{
 "cells": [
  {
   "cell_type": "code",
   "execution_count": 111,
   "id": "c2c01253-c0a8-4984-872c-4795914d7748",
   "metadata": {},
   "outputs": [
    {
     "name": "stdin",
     "output_type": "stream",
     "text": [
      "Please enter your name Brett\n"
     ]
    },
    {
     "name": "stdout",
     "output_type": "stream",
     "text": [
      "Brett's Bank Account:  200000 pennies\n",
      "Brett's Salary:  12480000 pennies per hour\n",
      "Pennies Earned Today:  100040000\n",
      "Brett's Bank Account:  200000\n"
     ]
    }
   ],
   "source": [
    "#Penny Tracker\n",
    "\n",
    "#Define initial variables\n",
    "myName = input(\"Please enter your name\")\n",
    "numPenniesInBank = 200000\n",
    "\n",
    "#Output\n",
    "print((myName)+\"'s\", \"Bank Account: \",(numPenniesInBank),\"pennies\")\n",
    "\n",
    "#Data Analyst Average Salary\n",
    "salaryInDollars = 124800\n",
    "\n",
    "#Calculate hourly rate in pennies\n",
    "hourlyRateInPennies = round(salaryInDollars * 100,2)\n",
    "\n",
    "#Output\n",
    "print((myName)+\"'s\", \"Salary: \",(hourlyRateInPennies), \"pennies per hour\")\n",
    "\n",
    "#Hard Work\n",
    "numHoursWorked = 8\n",
    "\n",
    "#Calculate hourly rate per day in pennies\n",
    "numPenniesEarned = hourlyRateInPennies * numHoursWorked\n",
    "\n",
    "#Add to Bank Account\n",
    "numPenniesEarned = numPenniesEarned + numPenniesInBank\n",
    "\n",
    "#Output\n",
    "print(\"Pennies Earned Today: \",numPenniesEarned)\n",
    "print((myName)+\"'s\", \"Bank Account: \", (numPenniesInBank))"
   ]
  },
  {
   "cell_type": "code",
   "execution_count": null,
   "id": "f5fbdbc9-a8b3-4b69-b7f1-aa067de96ea5",
   "metadata": {},
   "outputs": [],
   "source": []
  }
 ],
 "metadata": {
  "kernelspec": {
   "display_name": "Python [conda env:base] *",
   "language": "python",
   "name": "conda-base-py"
  },
  "language_info": {
   "codemirror_mode": {
    "name": "ipython",
    "version": 3
   },
   "file_extension": ".py",
   "mimetype": "text/x-python",
   "name": "python",
   "nbconvert_exporter": "python",
   "pygments_lexer": "ipython3",
   "version": "3.12.7"
  }
 },
 "nbformat": 4,
 "nbformat_minor": 5
}
