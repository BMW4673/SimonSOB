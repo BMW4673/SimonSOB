{
 "cells": [
  {
   "cell_type": "markdown",
   "metadata": {},
   "source": [
    "# Activity - Practice with Methods (Starter)"
   ]
  },
  {
   "cell_type": "markdown",
   "metadata": {},
   "source": [
    "## Bark It Out\n",
    "\n",
    "**Actions:**\n",
    "\n",
    "- Modify your `Dog` class (from Activity 02) in the cell below.\n",
    "    - Add a new behavior (method) called `bark`.\n",
    "    - When bark() is called, the following string is printed: \"[*dog's name*]: bark, bark, bark!\".\n",
    "- Instantiate the Dog class to create an object.  Use the constructor to give your dog a name.\n",
    "- Store the created object in a variable named `dog`.\n",
    "- Make the `dog` bark!\n",
    "- Example output (for Rex):\n",
    "\n",
    "```\n",
    "Rex: bark, bark, bark!\n",
    "```\n",
    "\n",
    "- Call the bark method on the dog object."
   ]
  },
  {
   "cell_type": "code",
   "execution_count": 26,
   "metadata": {},
   "outputs": [],
   "source": [
    "# Your implementation:\n",
    "class Dog:\n",
    "    def __init__(self, n):\n",
    "        self.name = n\n",
    "\n",
    "    def bark(self):\n",
    "        s = self.name + \": bark, bark, bark!\"\n",
    "        return s"
   ]
  },
  {
   "cell_type": "code",
   "execution_count": 28,
   "metadata": {},
   "outputs": [],
   "source": [
    "dog = Dog(\"Rex\")"
   ]
  },
  {
   "cell_type": "code",
   "execution_count": 30,
   "metadata": {},
   "outputs": [
    {
     "name": "stdout",
     "output_type": "stream",
     "text": [
      "Rex\n"
     ]
    },
    {
     "data": {
      "text/plain": [
       "'Rex: bark, bark, bark!'"
      ]
     },
     "execution_count": 30,
     "metadata": {},
     "output_type": "execute_result"
    }
   ],
   "source": [
    "print (dog.name)\n",
    "dog.bark()"
   ]
  },
  {
   "cell_type": "code",
   "execution_count": null,
   "metadata": {},
   "outputs": [],
   "source": []
  }
 ],
 "metadata": {
  "kernelspec": {
   "display_name": "Python [conda env:base] *",
   "language": "python",
   "name": "conda-base-py"
  },
  "language_info": {
   "codemirror_mode": {
    "name": "ipython",
    "version": 3
   },
   "file_extension": ".py",
   "mimetype": "text/x-python",
   "name": "python",
   "nbconvert_exporter": "python",
   "pygments_lexer": "ipython3",
   "version": "3.12.7"
  }
 },
 "nbformat": 4,
 "nbformat_minor": 4
}
