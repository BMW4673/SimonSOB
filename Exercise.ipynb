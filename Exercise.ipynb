{
 "cells": [
  {
   "cell_type": "code",
   "execution_count": 20,
   "id": "7a192016-9578-4441-8bfc-7817228ff0d3",
   "metadata": {},
   "outputs": [],
   "source": [
    "import pandas as pd\n",
    "import numpy as np\n",
    "\n",
    "tnc = pd.read_csv('Titanic.csv')"
   ]
  },
  {
   "cell_type": "code",
   "execution_count": 22,
   "id": "ce3339f8-498a-484e-8299-ebf93ef5202a",
   "metadata": {},
   "outputs": [
    {
     "name": "stdout",
     "output_type": "stream",
     "text": [
      "<class 'pandas.core.frame.DataFrame'>\n",
      "RangeIndex: 891 entries, 0 to 890\n",
      "Data columns (total 9 columns):\n",
      " #   Column       Non-Null Count  Dtype  \n",
      "---  ------       --------------  -----  \n",
      " 0   PassengerId  891 non-null    int64  \n",
      " 1   Survived     891 non-null    object \n",
      " 2   Pclass       891 non-null    int64  \n",
      " 3   Sex          891 non-null    object \n",
      " 4   Age          887 non-null    float64\n",
      " 5   SibSp        891 non-null    int64  \n",
      " 6   ParCh        891 non-null    int64  \n",
      " 7   Fare         891 non-null    float64\n",
      " 8   Embarked     889 non-null    object \n",
      "dtypes: float64(2), int64(4), object(3)\n",
      "memory usage: 62.8+ KB\n"
     ]
    }
   ],
   "source": [
    "tnc.info()"
   ]
  },
  {
   "cell_type": "code",
   "execution_count": 24,
   "id": "dc21b00e-5576-4a25-82e0-de92b1b45b4d",
   "metadata": {},
   "outputs": [
    {
     "data": {
      "text/plain": [
       "Survived      object\n",
       "Pclass      category\n",
       "Sex           object\n",
       "Age          float64\n",
       "SibSp          int64\n",
       "ParCh          int64\n",
       "Fare         float64\n",
       "Embarked      object\n",
       "dtype: object"
      ]
     },
     "execution_count": 24,
     "metadata": {},
     "output_type": "execute_result"
    }
   ],
   "source": [
    "#manipulating data\n",
    "del tnc['PassengerId'] #delete UID\n",
    "tnc = tnc.astype({'Pclass' : 'category'}) #change to category\n",
    "tnc.dtypes #print data types"
   ]
  },
  {
   "cell_type": "code",
   "execution_count": 28,
   "id": "e06b4353-9ed9-4cb9-a883-fab11ce293e3",
   "metadata": {},
   "outputs": [
    {
     "name": "stdout",
     "output_type": "stream",
     "text": [
      "0      Medium\n",
      "1      Medium\n",
      "2      Single\n",
      "3      Medium\n",
      "4      Single\n",
      "        ...  \n",
      "886    Single\n",
      "887    Single\n",
      "888    Medium\n",
      "889    Single\n",
      "890    Single\n",
      "Name: FamType, Length: 891, dtype: category\n",
      "Categories (3, object): ['Single' < 'Medium' < 'Large']\n",
      "FamType\n",
      "Single    537\n",
      "Medium    307\n",
      "Large      47\n",
      "Name: count, dtype: int64\n"
     ]
    }
   ],
   "source": [
    "#facilitate data\n",
    "#create another variable based on family size\n",
    "# - 0 = single, >0<=4 medium, >5 large\n",
    "tnc['FamilySize'] = tnc['SibSp'] + tnc['ParCh'] #calculate family size\n",
    "bins = [np.NINF, 0, 4, np.inf] #create bins\n",
    "\n",
    "names = ['Single', 'Medium', 'Large'] #name cateogries\n",
    "\n",
    "tnc['FamType'] = pd.cut(tnc['FamilySize'], bins, labels = names) #create new column\n",
    "print(tnc.FamType)\n",
    "print(tnc.FamType.value_counts())"
   ]
  },
  {
   "cell_type": "code",
   "execution_count": 30,
   "id": "8d874b3b-1b5f-4f6d-a01c-024fc3a48039",
   "metadata": {},
   "outputs": [],
   "source": [
    "del bins, names"
   ]
  },
  {
   "cell_type": "code",
   "execution_count": 32,
   "id": "f914b5ba-60c2-4d1d-9960-082c06cd09f9",
   "metadata": {},
   "outputs": [
    {
     "name": "stdout",
     "output_type": "stream",
     "text": [
      "0      Medium\n",
      "1      Medium\n",
      "2      Single\n",
      "3      Medium\n",
      "4      Single\n",
      "        ...  \n",
      "886    Single\n",
      "887    Single\n",
      "888    Medium\n",
      "889    Single\n",
      "890    Single\n",
      "Name: FamType, Length: 891, dtype: category\n",
      "Categories (3, object): ['Single' < 'Medium' < 'Large']\n",
      "FamType\n",
      "Single    537\n",
      "Medium    307\n",
      "Large      47\n",
      "Name: count, dtype: int64\n"
     ]
    }
   ],
   "source": [
    "print(tnc.FamType)\n",
    "print(tnc.FamType.value_counts())"
   ]
  },
  {
   "cell_type": "code",
   "execution_count": 34,
   "id": "2fce01fd-8ab0-41d1-9a2c-1ca909130b14",
   "metadata": {},
   "outputs": [],
   "source": [
    "tnc['SurvTF'] = (tnc.Survived == 'Yes')"
   ]
  },
  {
   "cell_type": "code",
   "execution_count": 36,
   "id": "f7495f09-3331-4ab8-a05f-df04eb540ddf",
   "metadata": {},
   "outputs": [
    {
     "data": {
      "text/plain": [
       "Survived        object\n",
       "Pclass        category\n",
       "Sex             object\n",
       "Age            float64\n",
       "SibSp            int64\n",
       "ParCh            int64\n",
       "Fare           float64\n",
       "Embarked        object\n",
       "FamilySize       int64\n",
       "FamType       category\n",
       "SurvTF            bool\n",
       "dtype: object"
      ]
     },
     "execution_count": 36,
     "metadata": {},
     "output_type": "execute_result"
    }
   ],
   "source": [
    "tnc.dtypes"
   ]
  },
  {
   "cell_type": "code",
   "execution_count": 40,
   "id": "0c709492-1665-457d-adce-66ff079d5f9f",
   "metadata": {},
   "outputs": [],
   "source": [
    "tnc.to_csv('Titanic2.csv')"
   ]
  },
  {
   "cell_type": "code",
   "execution_count": 44,
   "id": "978e0088-44d2-447c-aa45-bdb0ace12a01",
   "metadata": {},
   "outputs": [
    {
     "data": {
      "text/plain": [
       "<bound method DataFrame.info of     Survived Pclass     Sex   Age  SibSp  ParCh     Fare Embarked  FamilySize  \\\n",
       "0         No      3    male  22.0      1      0   7.2500        S           1   \n",
       "1        Yes      1  female  38.0      1      0  71.2833        C           1   \n",
       "2        Yes      3  female  26.0      0      0   7.9250        S           0   \n",
       "3        Yes      1  female  35.0      1      0  53.1000        S           1   \n",
       "4         No      3    male  35.0      0      0   8.0500        S           0   \n",
       "..       ...    ...     ...   ...    ...    ...      ...      ...         ...   \n",
       "886       No      2    male  27.0      0      0  13.0000        S           0   \n",
       "887      Yes      1  female  19.0      0      0  30.0000        S           0   \n",
       "888       No      3  female   7.0      1      2  23.4500        S           3   \n",
       "889      Yes      1    male  26.0      0      0  30.0000        C           0   \n",
       "890       No      3    male  32.0      0      0   7.7500        Q           0   \n",
       "\n",
       "    FamType  SurvTF  \n",
       "0    Medium   False  \n",
       "1    Medium    True  \n",
       "2    Single    True  \n",
       "3    Medium    True  \n",
       "4    Single   False  \n",
       "..      ...     ...  \n",
       "886  Single   False  \n",
       "887  Single    True  \n",
       "888  Medium   False  \n",
       "889  Single    True  \n",
       "890  Single   False  \n",
       "\n",
       "[891 rows x 11 columns]>"
      ]
     },
     "execution_count": 44,
     "metadata": {},
     "output_type": "execute_result"
    }
   ],
   "source": [
    "tnc.info"
   ]
  },
  {
   "cell_type": "code",
   "execution_count": 46,
   "id": "c3652930-91a7-4ef4-bc2d-12ce406e3f29",
   "metadata": {},
   "outputs": [
    {
     "data": {
      "text/plain": [
       "Survived\n",
       "No     549\n",
       "Yes    342\n",
       "Name: count, dtype: int64"
      ]
     },
     "execution_count": 46,
     "metadata": {},
     "output_type": "execute_result"
    }
   ],
   "source": [
    "tnc.Survived.value_counts()"
   ]
  },
  {
   "cell_type": "code",
   "execution_count": 60,
   "id": "66ea0d85-b456-4afe-9130-3e222213454f",
   "metadata": {},
   "outputs": [
    {
     "name": "stderr",
     "output_type": "stream",
     "text": [
      "/var/folders/rq/b0x_q_0j2ldcwn543bj__9zw0000gn/T/ipykernel_79661/3536178361.py:1: FutureWarning: The default of observed=False is deprecated and will be changed to True in a future version of pandas. Pass observed=False to retain current behavior or observed=True to adopt the future default and silence this warning.\n",
      "  tnc.groupby('Pclass').SurvTF.mean()\n"
     ]
    },
    {
     "data": {
      "text/plain": [
       "Pclass\n",
       "1    0.629630\n",
       "2    0.472826\n",
       "3    0.242363\n",
       "Name: SurvTF, dtype: float64"
      ]
     },
     "execution_count": 60,
     "metadata": {},
     "output_type": "execute_result"
    }
   ],
   "source": [
    "tnc.groupby('Pclass').SurvTF.mean()"
   ]
  },
  {
   "cell_type": "code",
   "execution_count": 66,
   "id": "84c53a7e-959b-4960-b69d-296a658a3bb2",
   "metadata": {},
   "outputs": [
    {
     "name": "stderr",
     "output_type": "stream",
     "text": [
      "/var/folders/rq/b0x_q_0j2ldcwn543bj__9zw0000gn/T/ipykernel_79661/1716739299.py:1: FutureWarning: The default of observed=False is deprecated and will be changed to True in a future version of pandas. Pass observed=False to retain current behavior or observed=True to adopt the future default and silence this warning.\n",
      "  tnc.groupby('Pclass').SurvTF.mean().plot(kind = 'bar')\n"
     ]
    },
    {
     "ename": "NameError",
     "evalue": "name 'plt' is not defined",
     "output_type": "error",
     "traceback": [
      "\u001b[0;31m---------------------------------------------------------------------------\u001b[0m",
      "\u001b[0;31mNameError\u001b[0m                                 Traceback (most recent call last)",
      "Cell \u001b[0;32mIn[66], line 2\u001b[0m\n\u001b[1;32m      1\u001b[0m tnc\u001b[38;5;241m.\u001b[39mgroupby(\u001b[38;5;124m'\u001b[39m\u001b[38;5;124mPclass\u001b[39m\u001b[38;5;124m'\u001b[39m)\u001b[38;5;241m.\u001b[39mSurvTF\u001b[38;5;241m.\u001b[39mmean()\u001b[38;5;241m.\u001b[39mplot(kind \u001b[38;5;241m=\u001b[39m \u001b[38;5;124m'\u001b[39m\u001b[38;5;124mbar\u001b[39m\u001b[38;5;124m'\u001b[39m)\n\u001b[0;32m----> 2\u001b[0m plt\u001b[38;5;241m.\u001b[39mshow()\n",
      "\u001b[0;31mNameError\u001b[0m: name 'plt' is not defined"
     ]
    },
    {
     "data": {
      "image/png": "[encoded data removed]",
      "text/plain": [
       "<Figure size 640x480 with 1 Axes>"
      ]
     },
     "metadata": {},
     "output_type": "display_data"
    }
   ],
   "source": [
    "tnc.groupby('Pclass').SurvTF.mean().plot(kind = 'bar')\n",
    "plt.show()"
   ]
  },
  {
   "cell_type": "code",
   "execution_count": 64,
   "id": "81b31215-2898-49e6-89d9-3f8ec6d156e4",
   "metadata": {},
   "outputs": [
    {
     "ename": "NameError",
     "evalue": "name 'plt' is not defined",
     "output_type": "error",
     "traceback": [
      "\u001b[0;31m---------------------------------------------------------------------------\u001b[0m",
      "\u001b[0;31mNameError\u001b[0m                                 Traceback (most recent call last)",
      "Cell \u001b[0;32mIn[64], line 1\u001b[0m\n\u001b[0;32m----> 1\u001b[0m plt\u001b[38;5;241m.\u001b[39mshow()\n",
      "\u001b[0;31mNameError\u001b[0m: name 'plt' is not defined"
     ]
    }
   ],
   "source": []
  },
  {
   "cell_type": "code",
   "execution_count": 70,
   "id": "8d0aacba-99bd-4934-8870-30953e1bfd8e",
   "metadata": {},
   "outputs": [
    {
     "data": {
      "text/plain": [
       "Fare\n",
       "False    0.277670\n",
       "True     0.529255\n",
       "Name: SurvTF, dtype: float64"
      ]
     },
     "execution_count": 70,
     "metadata": {},
     "output_type": "execute_result"
    }
   ],
   "source": [
    "tnc.groupby(tnc.Fare > 20).SurvTF.mean()"
   ]
  },
  {
   "cell_type": "code",
   "execution_count": 72,
   "id": "02a3e592-44b2-4025-84a3-a8ab8202df78",
   "metadata": {},
   "outputs": [
    {
     "data": {
      "text/plain": [
       "Age\n",
       "False    0.371824\n",
       "True     0.395197\n",
       "Name: SurvTF, dtype: float64"
      ]
     },
     "execution_count": 72,
     "metadata": {},
     "output_type": "execute_result"
    }
   ],
   "source": [
    "tnc.groupby((tnc.Age >= 25) & (tnc.Age <= 50)).SurvTF.mean()"
   ]
  },
  {
   "cell_type": "code",
   "execution_count": 74,
   "id": "d604a73c-f732-418d-bdd9-675c2a11c866",
   "metadata": {},
   "outputs": [
    {
     "name": "stderr",
     "output_type": "stream",
     "text": [
      "/var/folders/rq/b0x_q_0j2ldcwn543bj__9zw0000gn/T/ipykernel_79661/1982329685.py:1: FutureWarning: The default of observed=False is deprecated and will be changed to True in a future version of pandas. Pass observed=False to retain current behavior or observed=True to adopt the future default and silence this warning.\n",
      "  tnc.groupby(['Pclass', 'Sex']).SurvTF.mean()\n"
     ]
    },
    {
     "data": {
      "text/plain": [
       "Pclass  Sex   \n",
       "1       female    0.968085\n",
       "        male      0.368852\n",
       "2       female    0.921053\n",
       "        male      0.157407\n",
       "3       female    0.500000\n",
       "        male      0.135447\n",
       "Name: SurvTF, dtype: float64"
      ]
     },
     "execution_count": 74,
     "metadata": {},
     "output_type": "execute_result"
    }
   ],
   "source": [
    "tnc.groupby(['Pclass', 'Sex']).SurvTF.mean()"
   ]
  },
  {
   "cell_type": "code",
   "execution_count": 76,
   "id": "b1cec628-9319-4ea3-bfe0-8091ea5231eb",
   "metadata": {},
   "outputs": [
    {
     "data": {
      "text/plain": [
       "Survived\n",
       "No     22.117887\n",
       "Yes    48.395408\n",
       "Name: Fare, dtype: float64"
      ]
     },
     "execution_count": 76,
     "metadata": {},
     "output_type": "execute_result"
    }
   ],
   "source": [
    "tnc.groupby('Survived').Fare.mean()"
   ]
  },
  {
   "cell_type": "code",
   "execution_count": 78,
   "id": "ae5be73a-6082-471c-ae0d-dfa4dfd3ff46",
   "metadata": {},
   "outputs": [
    {
     "data": {
      "text/plain": [
       "Survived\n",
       "No     10.5\n",
       "Yes    26.0\n",
       "Name: Fare, dtype: float64"
      ]
     },
     "execution_count": 78,
     "metadata": {},
     "output_type": "execute_result"
    }
   ],
   "source": [
    "tnc.groupby('Survived').Fare.median()"
   ]
  },
  {
   "cell_type": "code",
   "execution_count": 80,
   "id": "2c59935e-39b9-4812-8550-ce930451f4e4",
   "metadata": {},
   "outputs": [
    {
     "data": {
      "text/plain": [
       "Survived\n",
       "No     31.388207\n",
       "Yes    66.596998\n",
       "Name: Fare, dtype: float64"
      ]
     },
     "execution_count": 80,
     "metadata": {},
     "output_type": "execute_result"
    }
   ],
   "source": [
    "tnc.groupby('Survived').Fare.std()"
   ]
  },
  {
   "cell_type": "code",
   "execution_count": 82,
   "id": "e88e80b3-6cc6-49cf-9901-1b41848f24d9",
   "metadata": {},
   "outputs": [
    {
     "data": {
      "text/plain": [
       "Age\n",
       "0.42       8.5167\n",
       "0.67      14.5000\n",
       "0.75      19.2583\n",
       "0.83      23.8750\n",
       "0.92     151.5500\n",
       "           ...   \n",
       "70.00     40.7500\n",
       "70.50      7.7500\n",
       "71.00     42.0792\n",
       "74.00      7.7750\n",
       "80.00     30.0000\n",
       "Name: Fare, Length: 89, dtype: float64"
      ]
     },
     "execution_count": 82,
     "metadata": {},
     "output_type": "execute_result"
    }
   ],
   "source": [
    "tnc.groupby('Age').Fare.mean()"
   ]
  },
  {
   "cell_type": "code",
   "execution_count": 86,
   "id": "156fc583-a819-4ce0-818e-7959df625da8",
   "metadata": {},
   "outputs": [
    {
     "data": {
      "text/html": [
       "<div>\n",
       "<style scoped>\n",
       "    .dataframe tbody tr th:only-of-type {\n",
       "        vertical-align: middle;\n",
       "    }\n",
       "\n",
       "    .dataframe tbody tr th {\n",
       "        vertical-align: top;\n",
       "    }\n",
       "\n",
       "    .dataframe thead tr th {\n",
       "        text-align: left;\n",
       "    }\n",
       "\n",
       "    .dataframe thead tr:last-of-type th {\n",
       "        text-align: right;\n",
       "    }\n",
       "</style>\n",
       "<table border=\"1\" class=\"dataframe\">\n",
       "  <thead>\n",
       "    <tr>\n",
       "      <th></th>\n",
       "      <th colspan=\"3\" halign=\"left\">Fare</th>\n",
       "      <th colspan=\"3\" halign=\"left\">Age</th>\n",
       "    </tr>\n",
       "    <tr>\n",
       "      <th></th>\n",
       "      <th>mean</th>\n",
       "      <th>median</th>\n",
       "      <th>std</th>\n",
       "      <th>mean</th>\n",
       "      <th>median</th>\n",
       "      <th>std</th>\n",
       "    </tr>\n",
       "    <tr>\n",
       "      <th>Survived</th>\n",
       "      <th></th>\n",
       "      <th></th>\n",
       "      <th></th>\n",
       "      <th></th>\n",
       "      <th></th>\n",
       "      <th></th>\n",
       "    </tr>\n",
       "  </thead>\n",
       "  <tbody>\n",
       "    <tr>\n",
       "      <th>No</th>\n",
       "      <td>22.12</td>\n",
       "      <td>10.5</td>\n",
       "      <td>31.39</td>\n",
       "      <td>30.14</td>\n",
       "      <td>28.0</td>\n",
       "      <td>13.90</td>\n",
       "    </tr>\n",
       "    <tr>\n",
       "      <th>Yes</th>\n",
       "      <td>48.40</td>\n",
       "      <td>26.0</td>\n",
       "      <td>66.60</td>\n",
       "      <td>28.41</td>\n",
       "      <td>28.0</td>\n",
       "      <td>14.43</td>\n",
       "    </tr>\n",
       "  </tbody>\n",
       "</table>\n",
       "</div>"
      ],
      "text/plain": [
       "           Fare                  Age              \n",
       "           mean median    std   mean median    std\n",
       "Survived                                          \n",
       "No        22.12   10.5  31.39  30.14   28.0  13.90\n",
       "Yes       48.40   26.0  66.60  28.41   28.0  14.43"
      ]
     },
     "execution_count": 86,
     "metadata": {},
     "output_type": "execute_result"
    }
   ],
   "source": [
    "tnc.groupby('Survived')[['Fare', 'Age']].agg(['mean', 'median', 'std']).round(2)"
   ]
  },
  {
   "cell_type": "code",
   "execution_count": 88,
   "id": "281db5b3-43fb-41ac-be50-58d562e389be",
   "metadata": {},
   "outputs": [
    {
     "name": "stderr",
     "output_type": "stream",
     "text": [
      "/var/folders/rq/b0x_q_0j2ldcwn543bj__9zw0000gn/T/ipykernel_79661/4115327969.py:1: FutureWarning: The default of observed=False is deprecated and will be changed to True in a future version of pandas. Pass observed=False to retain current behavior or observed=True to adopt the future default and silence this warning.\n",
      "  tnc.groupby('Pclass').size()\n"
     ]
    },
    {
     "data": {
      "text/plain": [
       "Pclass\n",
       "1    216\n",
       "2    184\n",
       "3    491\n",
       "dtype: int64"
      ]
     },
     "execution_count": 88,
     "metadata": {},
     "output_type": "execute_result"
    }
   ],
   "source": [
    "tnc.groupby('Pclass').size()"
   ]
  },
  {
   "cell_type": "code",
   "execution_count": 92,
   "id": "968d7667-fd6a-455b-8c60-8979d301ec35",
   "metadata": {},
   "outputs": [
    {
     "name": "stderr",
     "output_type": "stream",
     "text": [
      "/var/folders/rq/b0x_q_0j2ldcwn543bj__9zw0000gn/T/ipykernel_79661/359208594.py:1: FutureWarning: The default of observed=False is deprecated and will be changed to True in a future version of pandas. Pass observed=False to retain current behavior or observed=True to adopt the future default and silence this warning.\n",
      "  tnc.groupby('Pclass').count()\n"
     ]
    },
    {
     "data": {
      "text/html": [
       "<div>\n",
       "<style scoped>\n",
       "    .dataframe tbody tr th:only-of-type {\n",
       "        vertical-align: middle;\n",
       "    }\n",
       "\n",
       "    .dataframe tbody tr th {\n",
       "        vertical-align: top;\n",
       "    }\n",
       "\n",
       "    .dataframe thead th {\n",
       "        text-align: right;\n",
       "    }\n",
       "</style>\n",
       "<table border=\"1\" class=\"dataframe\">\n",
       "  <thead>\n",
       "    <tr style=\"text-align: right;\">\n",
       "      <th></th>\n",
       "      <th>Survived</th>\n",
       "      <th>Sex</th>\n",
       "      <th>Age</th>\n",
       "      <th>SibSp</th>\n",
       "      <th>ParCh</th>\n",
       "      <th>Fare</th>\n",
       "      <th>Embarked</th>\n",
       "      <th>FamilySize</th>\n",
       "      <th>FamType</th>\n",
       "      <th>SurvTF</th>\n",
       "    </tr>\n",
       "    <tr>\n",
       "      <th>Pclass</th>\n",
       "      <th></th>\n",
       "      <th></th>\n",
       "      <th></th>\n",
       "      <th></th>\n",
       "      <th></th>\n",
       "      <th></th>\n",
       "      <th></th>\n",
       "      <th></th>\n",
       "      <th></th>\n",
       "      <th></th>\n",
       "    </tr>\n",
       "  </thead>\n",
       "  <tbody>\n",
       "    <tr>\n",
       "      <th>1</th>\n",
       "      <td>216</td>\n",
       "      <td>216</td>\n",
       "      <td>216</td>\n",
       "      <td>216</td>\n",
       "      <td>216</td>\n",
       "      <td>216</td>\n",
       "      <td>214</td>\n",
       "      <td>216</td>\n",
       "      <td>216</td>\n",
       "      <td>216</td>\n",
       "    </tr>\n",
       "    <tr>\n",
       "      <th>2</th>\n",
       "      <td>184</td>\n",
       "      <td>184</td>\n",
       "      <td>184</td>\n",
       "      <td>184</td>\n",
       "      <td>184</td>\n",
       "      <td>184</td>\n",
       "      <td>184</td>\n",
       "      <td>184</td>\n",
       "      <td>184</td>\n",
       "      <td>184</td>\n",
       "    </tr>\n",
       "    <tr>\n",
       "      <th>3</th>\n",
       "      <td>491</td>\n",
       "      <td>491</td>\n",
       "      <td>487</td>\n",
       "      <td>491</td>\n",
       "      <td>491</td>\n",
       "      <td>491</td>\n",
       "      <td>491</td>\n",
       "      <td>491</td>\n",
       "      <td>491</td>\n",
       "      <td>491</td>\n",
       "    </tr>\n",
       "  </tbody>\n",
       "</table>\n",
       "</div>"
      ],
      "text/plain": [
       "        Survived  Sex  Age  SibSp  ParCh  Fare  Embarked  FamilySize  FamType  \\\n",
       "Pclass                                                                          \n",
       "1            216  216  216    216    216   216       214         216      216   \n",
       "2            184  184  184    184    184   184       184         184      184   \n",
       "3            491  491  487    491    491   491       491         491      491   \n",
       "\n",
       "        SurvTF  \n",
       "Pclass          \n",
       "1          216  \n",
       "2          184  \n",
       "3          491  "
      ]
     },
     "execution_count": 92,
     "metadata": {},
     "output_type": "execute_result"
    }
   ],
   "source": [
    "tnc.groupby('Pclass').count()"
   ]
  },
  {
   "cell_type": "code",
   "execution_count": 94,
   "id": "37902990-030e-4402-8096-8d4dc048b501",
   "metadata": {},
   "outputs": [
    {
     "name": "stderr",
     "output_type": "stream",
     "text": [
      "/var/folders/rq/b0x_q_0j2ldcwn543bj__9zw0000gn/T/ipykernel_79661/1189563072.py:1: FutureWarning: The default of observed=False is deprecated and will be changed to True in a future version of pandas. Pass observed=False to retain current behavior or observed=True to adopt the future default and silence this warning.\n",
      "  tnc.groupby(['Pclass', 'Survived']).size().unstack()\n"
     ]
    },
    {
     "data": {
      "text/html": [
       "<div>\n",
       "<style scoped>\n",
       "    .dataframe tbody tr th:only-of-type {\n",
       "        vertical-align: middle;\n",
       "    }\n",
       "\n",
       "    .dataframe tbody tr th {\n",
       "        vertical-align: top;\n",
       "    }\n",
       "\n",
       "    .dataframe thead th {\n",
       "        text-align: right;\n",
       "    }\n",
       "</style>\n",
       "<table border=\"1\" class=\"dataframe\">\n",
       "  <thead>\n",
       "    <tr style=\"text-align: right;\">\n",
       "      <th>Survived</th>\n",
       "      <th>No</th>\n",
       "      <th>Yes</th>\n",
       "    </tr>\n",
       "    <tr>\n",
       "      <th>Pclass</th>\n",
       "      <th></th>\n",
       "      <th></th>\n",
       "    </tr>\n",
       "  </thead>\n",
       "  <tbody>\n",
       "    <tr>\n",
       "      <th>1</th>\n",
       "      <td>80</td>\n",
       "      <td>136</td>\n",
       "    </tr>\n",
       "    <tr>\n",
       "      <th>2</th>\n",
       "      <td>97</td>\n",
       "      <td>87</td>\n",
       "    </tr>\n",
       "    <tr>\n",
       "      <th>3</th>\n",
       "      <td>372</td>\n",
       "      <td>119</td>\n",
       "    </tr>\n",
       "  </tbody>\n",
       "</table>\n",
       "</div>"
      ],
      "text/plain": [
       "Survived   No  Yes\n",
       "Pclass            \n",
       "1          80  136\n",
       "2          97   87\n",
       "3         372  119"
      ]
     },
     "execution_count": 94,
     "metadata": {},
     "output_type": "execute_result"
    }
   ],
   "source": [
    "tnc.groupby(['Pclass', 'Survived']).size().unstack()"
   ]
  },
  {
   "cell_type": "code",
   "execution_count": null,
   "id": "787119dd-a6e5-4eaf-a374-9de67a235135",
   "metadata": {},
   "outputs": [],
   "source": []
  }
 ],
 "metadata": {
  "kernelspec": {
   "display_name": "Python [conda env:base] *",
   "language": "python",
   "name": "conda-base-py"
  },
  "language_info": {
   "codemirror_mode": {
    "name": "ipython",
    "version": 3
   },
   "file_extension": ".py",
   "mimetype": "text/x-python",
   "name": "python",
   "nbconvert_exporter": "python",
   "pygments_lexer": "ipython3",
   "version": "3.12.7"
  }
 },
 "nbformat": 4,
 "nbformat_minor": 5
}
