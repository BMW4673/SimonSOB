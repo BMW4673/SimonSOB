{
 "cells": [
  {
   "cell_type": "markdown",
   "metadata": {},
   "source": [
    "# Skill-Building with Functions (Say Hello) (Starter)"
   ]
  },
  {
   "cell_type": "markdown",
   "metadata": {},
   "source": [
    "Rubric:\n",
    "\n",
    "- Part A - A Simple Hello (10 Points)\n",
    "- Part B - Lots of Hellos (10 Points)\n",
    "- Part C - Say Hello to a Friend (10 Points)\n",
    "- Part D - Say Hello to Lots of Friends (10 Points)\n",
    "- Part E - Jack and Jill (10 Points)\n",
    "- Part F - Working with Default Parameters (10 Points)\n",
    "- Part G - None as a Default Parameter (15 Points)\n",
    "- Part H - Do The Math (10 Points)\n",
    "- Part I - Lots of Math (15 Points)\n",
    "\n",
    "Deductions for:\n",
    "\n",
    "- Incomplete sections\n",
    "- Incorrect results\n",
    "- Using Python techniques not covered up to this point in the course.\n",
    "\n",
    "Pseudocode is not required, though you will find your code much more readable and maintainable if you include them."
   ]
  },
  {
   "cell_type": "markdown",
   "metadata": {},
   "source": [
    "## Part A - A Simple Hello\n",
    "**Actions:**\n",
    "- Create a function called `hello` that prints `\"Hello, World!\"` to the screen.\n",
    "- Call the function."
   ]
  },
  {
   "cell_type": "code",
   "execution_count": 6,
   "metadata": {},
   "outputs": [
    {
     "data": {
      "text/plain": [
       "<function __main__.hello()>"
      ]
     },
     "execution_count": 6,
     "metadata": {},
     "output_type": "execute_result"
    }
   ],
   "source": [
    "# Your implementation:\n",
    "def hello():\n",
    "    print (\"Hello, World!\")\n",
    "\n",
    "hello"
   ]
  },
  {
   "cell_type": "markdown",
   "metadata": {},
   "source": [
    "## Part B - Lots of Hellos\n",
    "\n",
    "**Actions:**\n",
    "- Using a for loop and a range, call your `hello` function (from Part A) five (5) times.\n",
    "- Make sure this loop is not part of the function body itself."
   ]
  },
  {
   "cell_type": "code",
   "execution_count": 11,
   "metadata": {},
   "outputs": [
    {
     "name": "stdout",
     "output_type": "stream",
     "text": [
      "Hello World!\n",
      "Hello World!\n",
      "Hello World!\n",
      "Hello World!\n",
      "Hello World!\n"
     ]
    }
   ],
   "source": [
    "# Your implementation:\n",
    "\n",
    "for (i) in range (5):\n",
    "    hello()"
   ]
  },
  {
   "cell_type": "markdown",
   "metadata": {},
   "source": [
    "## Part C - Say Hello to a Friend\n",
    "\n",
    "**Actions:**\n",
    "- Think of a friend's name.\n",
    "- Create a function called `sayHelloToAFriend` so that you can pass in an argument to a function parameter called `friendName`.\n",
    "- Output a hello message which includes the value of the parameter.  For example, if your friend's name is \"Dennis\":\n",
    "\n",
    "```\n",
    "Hello, Dennis!\n",
    "```\n",
    "\n",
    "- Call the function, using your friend's name."
   ]
  },
  {
   "cell_type": "code",
   "execution_count": 17,
   "metadata": {},
   "outputs": [
    {
     "name": "stdout",
     "output_type": "stream",
     "text": [
      "Hello, Connor!\n"
     ]
    }
   ],
   "source": [
    "# Your implementation:\n",
    "\n",
    "def sayHelloToAFriend(friendName):\n",
    "    print(f\"Hello, {friendName}!\")\n",
    "\n",
    "sayHelloToAFriend(\"Connor\")\n"
   ]
  },
  {
   "cell_type": "markdown",
   "metadata": {},
   "source": [
    "## Part D - Say Hello to Lots of Friends\n",
    "\n",
    "**Actions:**\n",
    "\n",
    "- Create a list called `friends` which contains five (5) strings.\n",
    "- Iterate over the list, calling `sayHelloToAFriend` for each item."
   ]
  },
  {
   "cell_type": "code",
   "execution_count": 33,
   "metadata": {},
   "outputs": [
    {
     "name": "stdout",
     "output_type": "stream",
     "text": [
      "Hello, Jordan!\n",
      "Hello, Jonathan!\n",
      "Hello, Joey!\n",
      "Hello, Donnie!\n",
      "Hello, Danny!\n"
     ]
    }
   ],
   "source": [
    "# Your implementation:\n",
    "friends = [\"Jordan\", \"Jonathan\", \"Joey\", \"Donnie\", \"Danny\"]\n",
    "\n",
    "for friendName in friends:\n",
    "    print(f\"Hello, {friendName}!\")\n"
   ]
  },
  {
   "cell_type": "markdown",
   "metadata": {},
   "source": [
    "## Part E - Jack and Jill\n",
    "\n",
    "**Actions:**\n",
    "- Create a function called `sayHelloFromTo` where you can pass in two (2) names as two (2) separate parameters called `name1` and `name2`.\n",
    "- Output a hello message where the first name says hello to the second.  For example, if `name1` = \"Jack\" and `name2` = \"Jill\":\n",
    "\n",
    "```\n",
    "Jack says hello to Jill!\n",
    "```\n",
    "\n",
    "- Call the function, using any two names."
   ]
  },
  {
   "cell_type": "code",
   "execution_count": 76,
   "metadata": {},
   "outputs": [
    {
     "name": "stdout",
     "output_type": "stream",
     "text": [
      "Millie says hello to Vanillie!\n"
     ]
    }
   ],
   "source": [
    "# Your implementation:\n",
    "\n",
    "def sayHelloFromTo(name1, name2):\n",
    "    print(f\"{name1} says hello to {name2}!\")\n",
    "\n",
    "sayHelloFromTo(\"Millie\", \"Vanillie\")"
   ]
  },
  {
   "cell_type": "markdown",
   "metadata": {},
   "source": [
    "## Part F - Working with Default Parameters\n",
    "\n",
    "**Actions:**\n",
    "- Modify your `sayHelloFromTo` function in the cell below so that `name2` is an optional parameter with a default value of your name.\n",
    "- Call the function, passing only one argument for `name1`.  It should output the first name saying hello to you."
   ]
  },
  {
   "cell_type": "code",
   "execution_count": 39,
   "metadata": {},
   "outputs": [
    {
     "name": "stdout",
     "output_type": "stream",
     "text": [
      "Jewel says hello to Whitney!\n"
     ]
    }
   ],
   "source": [
    "# Your implementation:\n",
    "\n",
    "def sayHelloFromTo(name1, name2 = \"Whitney\"):\n",
    "    print(f\"{name1} says hello to {name2}!\")\n",
    "\n",
    "sayHelloFromTo(\"Jewel\")"
   ]
  },
  {
   "cell_type": "markdown",
   "metadata": {},
   "source": [
    "## Part G - None as a Default Parameter\n",
    "\n",
    "**Actions:**\n",
    "\n",
    "- Modify your `sayHelloFromTo` function in the cell below so that the `name2` parameter has a default value of `None`.\n",
    "- Modify your function body by adding a conditional statement that checks for the value of `name2`.  If `name2` is `None`, output `name1` saying hello.  For example:\n",
    "\n",
    "```\n",
    "Jack says hello!\n",
    "```\n",
    "\n",
    "- Otherwise, have `name1` say hello to `name2`.  For example:\n",
    "\n",
    "```\n",
    "Jack says hello to Jill!\n",
    "```\n",
    "\n",
    "- Call the function, passing in only one argument for `name1`.\n",
    "- Call the function again, passing argument values for both `name1` and `name2`."
   ]
  },
  {
   "cell_type": "code",
   "execution_count": 55,
   "metadata": {},
   "outputs": [
    {
     "name": "stdout",
     "output_type": "stream",
     "text": [
      "Liam says hello!\n",
      "Liam says hello to Noel!\n"
     ]
    }
   ],
   "source": [
    "# Your implementation:\n",
    "\n",
    "def sayHelloFromTo(name1, name2 = \"None\"):\n",
    "    if name2 == \"None\":\n",
    "        print(f\"{name1} says hello!\")\n",
    "    else:\n",
    "        print(f\"{name1} says hello to {name2}!\")\n",
    "\n",
    "sayHelloFromTo(\"Liam\")\n",
    "sayHelloFromTo(\"Liam\", \"Noel\")"
   ]
  },
  {
   "cell_type": "markdown",
   "metadata": {},
   "source": [
    "## Part H - Do The Math\n",
    "\n",
    "**Actions:**\n",
    "- Create a function called `add` which adds two (2) numbers together and returns the sum.\n",
    "- The function has two parameters, `a` and `b`.\n",
    "- Call the function to add any two (2) numbers together.\n",
    "- Store the returned value in a variable, then print the variable."
   ]
  },
  {
   "cell_type": "code",
   "execution_count": 63,
   "metadata": {},
   "outputs": [
    {
     "name": "stdout",
     "output_type": "stream",
     "text": [
      "13\n"
     ]
    }
   ],
   "source": [
    "# Your implementation:\n",
    "\n",
    "def add(a, b):\n",
    "    return a + b\n",
    "\n",
    "result = add(6, 7)\n",
    "print(result)"
   ]
  },
  {
   "cell_type": "markdown",
   "metadata": {},
   "source": [
    "## Part I - Lots of Math\n",
    "\n",
    "**Actions:**\n",
    "- Create a function called `addLotsOfNumbers` which accepts only one (1) parameter: a list of numbers.\n",
    "- The function adds up all the numbers in the list and returns the sum.\n",
    "- Call the function so that it returns to sum of five (5) different numbers.  Print the returned value."
   ]
  },
  {
   "cell_type": "code",
   "execution_count": 79,
   "metadata": {},
   "outputs": [
    {
     "name": "stdout",
     "output_type": "stream",
     "text": [
      "9,984\n"
     ]
    }
   ],
   "source": [
    "# Your implementation:\n",
    "\n",
    "def addLotsOfNumbers(numbers):\n",
    "    return sum(numbers)\n",
    "\n",
    "#Call the function with 5 different numbers of the releases of Intel chips\n",
    "result = addLotsOfNumbers([1993, 1995, 1997, 1999, 2000])\n",
    "\n",
    "print(f\"{result:,}\")"
   ]
  },
  {
   "cell_type": "code",
   "execution_count": null,
   "metadata": {},
   "outputs": [],
   "source": []
  }
 ],
 "metadata": {
  "kernelspec": {
   "display_name": "Python [conda env:base] *",
   "language": "python",
   "name": "conda-base-py"
  },
  "language_info": {
   "codemirror_mode": {
    "name": "ipython",
    "version": 3
   },
   "file_extension": ".py",
   "mimetype": "text/x-python",
   "name": "python",
   "nbconvert_exporter": "python",
   "pygments_lexer": "ipython3",
   "version": "3.12.7"
  }
 },
 "nbformat": 4,
 "nbformat_minor": 4
}
