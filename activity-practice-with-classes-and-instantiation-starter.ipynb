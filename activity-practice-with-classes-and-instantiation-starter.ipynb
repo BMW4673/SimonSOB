{
 "cells": [
  {
   "cell_type": "markdown",
   "metadata": {},
   "source": [
    "# Activity - Practice with Classes and Instantiation (Starter)"
   ]
  },
  {
   "cell_type": "markdown",
   "metadata": {},
   "source": [
    "## Who Let The Dogs Out\n",
    "\n",
    "**Actions:**\n",
    "\n",
    "- Create a class named `Dog`.\n",
    "    - The class has no attributes.\n",
    "    - The class has no behaviors (methods).\n",
    "    - The class has no constructor.\n",
    "- Instantiate the `Dog` class to create an object.\n",
    "- Store the created object in a variable named `dog`.\n",
    "- Print the `dog` object.\n",
    "- Print the type of the `dog` object."
   ]
  },
  {
   "cell_type": "code",
   "execution_count": 4,
   "metadata": {},
   "outputs": [],
   "source": [
    "# Your implementation:\n",
    "\n",
    "class Dog:\n",
    "    pass"
   ]
  },
  {
   "cell_type": "code",
   "execution_count": 8,
   "metadata": {},
   "outputs": [],
   "source": [
    "# Instantiate the Dog class to create an object.\n",
    "# Store the created object in a variable named 'dog'.\n",
    "\n",
    "dog = Dog()"
   ]
  },
  {
   "cell_type": "code",
   "execution_count": 10,
   "metadata": {},
   "outputs": [
    {
     "name": "stdout",
     "output_type": "stream",
     "text": [
      "<__main__.Dog object at 0x175e67500>\n",
      "<class '__main__.Dog'>\n"
     ]
    }
   ],
   "source": [
    "# Print the dog object\n",
    "# Print the type of the dog object\n",
    "\n",
    "print (dog)\n",
    "print (type(dog))"
   ]
  },
  {
   "cell_type": "code",
   "execution_count": null,
   "metadata": {},
   "outputs": [],
   "source": []
  }
 ],
 "metadata": {
  "kernelspec": {
   "display_name": "Python [conda env:base] *",
   "language": "python",
   "name": "conda-base-py"
  },
  "language_info": {
   "codemirror_mode": {
    "name": "ipython",
    "version": 3
   },
   "file_extension": ".py",
   "mimetype": "text/x-python",
   "name": "python",
   "nbconvert_exporter": "python",
   "pygments_lexer": "ipython3",
   "version": "3.12.7"
  }
 },
 "nbformat": 4,
 "nbformat_minor": 4
}
