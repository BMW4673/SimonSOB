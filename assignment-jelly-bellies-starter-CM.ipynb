{
 "cells": [
  {
   "cell_type": "markdown",
   "metadata": {
    "id": "DH0OfxNLX72E"
   },
   "source": [
    "# Putting It All Together (Jelly Bellies) (Starter)"
   ]
  },
  {
   "cell_type": "markdown",
   "metadata": {
    "id": "hzBfYqF4X72F"
   },
   "source": [
    "- Part A - The Jelly Belly Flavors (5 Points)\n",
    "- Part B - The Jelly Belly Fan Club Members (5 Points)\n",
    "- Part C - The Bean Bags (10 Points)\n",
    "- Part D - The Promo Beans (5 Points)\n",
    "- Part E - All The Beans (5 Points)\n",
    "- Part F - The Trades (10 Points)\n",
    "- Part G - The Recipes (10 Points)\n",
    "- Part H - Initializing Recipe Counts (10 Points)\n",
    "- Part I - Making Recipes (20 Points)\n",
    "- Part J - Display Recipe Counts (10 Points)\n",
    "- Part K - The Final Results (10 Points)\n",
    "\n",
    "\n",
    "- Deductions for:\n",
    "    - Incomplete sections\n",
    "    - Incorrect results\n",
    "    - Using Python techniques not covered up to this point in the course.\n",
    "\n",
    "- Pseudocode is not required, though you will find your code much more readable and maintainable if you include them.\n",
    "- When things get hard (especially Part I, go back to first principles of Thinking Like a Programmer - don't just run to Generative AI - this will cripple you as a programmer)."
   ]
  },
  {
   "cell_type": "markdown",
   "metadata": {
    "id": "KWRBYrngX72F"
   },
   "source": [
    "## Part A - The Jelly Belly Flavors\n",
    "Below is a `list` of popular Jelly Belly `flavors`.\n",
    "\n",
    "**Action:** Execute the following code block."
   ]
  },
  {
   "cell_type": "code",
   "execution_count": 53,
   "metadata": {
    "executionInfo": {
     "elapsed": 19,
     "status": "ok",
     "timestamp": 1760201535877,
     "user": {
      "displayName": "Colleen Miller",
      "userId": "13318505713755673453"
     },
     "user_tz": 240
    },
    "id": "fuqlUQJcX72F"
   },
   "outputs": [],
   "source": [
    "flavors = [ \"Coconut\", \"Strawberry Cheesecake\", \"Green Apple\", \"Licorice\", \"Kiwi\", \"Berry Blue\", \"Dr. Pepper\", \"Sunkist Orange\", \"Chili Mango\", \"Pomegranate\", \"Sunkist Lime\", \"Caramel Corn\", \"Cappuccino\", \"French Vanilla\", \"Red Apple\", \"Very Cherry\", \"Buttered Popcorn\", \"Lemon Drop\", \"Orange Sherbet\", \"Tutti-Fruitti\", \"Sunkist Lemon\", \"Sunkist Tangerine\", \"Strawberry Daiquiri\", \"Plum\", \"Sizzling Cinnamon\", \"Margarita\", \"A&W Cream Soda\", \"Cotton Candy\", \"Island Punch\", \"Raspberry\", \"Strawberry Jam\", \"Bubble Gum\", \"Lemon Lime\", \"Top Banana\", \"Cinnamon\", \"Peach\", \"Crushed Pineapple\", \"Watermelon\", \"A&W Root Beer\", \"Blueberry\", \"Sunkist Pink Grapefruit\", \"Mango\", \"Pina Colada\", \"Juicy Pear\", \"Mixed Berry Smoothie\", \"Toasted Marshmallow\", \"Chocolate Pudding\", \"Wild Blackberry\", \"Sour Cherry\", \"Cantaloupe\" ]"
   ]
  },
  {
   "cell_type": "markdown",
   "metadata": {
    "id": "WOOcnRAmX72G"
   },
   "source": [
    "**Actions:**\n",
    "\n",
    "- Sort `flavors` alphabetically by name.\n",
    "- Convert the sorted list `flavors` into a tuple.\n",
    "- Reassign the `tuple` back into the `flavors` variable.\n",
    "- Using a `while` loop along with a counter variable, output each flavor in `flavors` out on a separate line, along with a one-based count.  Example:\n",
    "\n",
    "```\n",
    "1. A&W Cream Soda\n",
    "2. A&W Root Beer\n",
    "...\n",
    "49. Watermelon\n",
    "50. Wild Blackberry\n",
    "```"
   ]
  },
  {
   "cell_type": "code",
   "execution_count": 54,
   "metadata": {
    "executionInfo": {
     "elapsed": 2,
     "status": "ok",
     "timestamp": 1760201535879,
     "user": {
      "displayName": "Colleen Miller",
      "userId": "13318505713755673453"
     },
     "user_tz": 240
    },
    "id": "-XRuWjLw-CKr"
   },
   "outputs": [],
   "source": [
    "# Sort flavors alphabetically by name\n",
    "\n",
    "flavors.sort()"
   ]
  },
  {
   "cell_type": "code",
   "execution_count": 55,
   "metadata": {
    "colab": {
     "base_uri": "https://localhost:8080/"
    },
    "executionInfo": {
     "elapsed": 8,
     "status": "ok",
     "timestamp": 1760201535887,
     "user": {
      "displayName": "Colleen Miller",
      "userId": "13318505713755673453"
     },
     "user_tz": 240
    },
    "id": "PrbApTMr6Thn",
    "outputId": "d46429bf-3aa2-4ab0-94d0-b07dc7069301"
   },
   "outputs": [
    {
     "name": "stdout",
     "output_type": "stream",
     "text": [
      "['A&W Cream Soda', 'A&W Root Beer', 'Berry Blue', 'Blueberry', 'Bubble Gum', 'Buttered Popcorn', 'Cantaloupe', 'Cappuccino', 'Caramel Corn', 'Chili Mango', 'Chocolate Pudding', 'Cinnamon', 'Coconut', 'Cotton Candy', 'Crushed Pineapple', 'Dr. Pepper', 'French Vanilla', 'Green Apple', 'Island Punch', 'Juicy Pear', 'Kiwi', 'Lemon Drop', 'Lemon Lime', 'Licorice', 'Mango', 'Margarita', 'Mixed Berry Smoothie', 'Orange Sherbet', 'Peach', 'Pina Colada', 'Plum', 'Pomegranate', 'Raspberry', 'Red Apple', 'Sizzling Cinnamon', 'Sour Cherry', 'Strawberry Cheesecake', 'Strawberry Daiquiri', 'Strawberry Jam', 'Sunkist Lemon', 'Sunkist Lime', 'Sunkist Orange', 'Sunkist Pink Grapefruit', 'Sunkist Tangerine', 'Toasted Marshmallow', 'Top Banana', 'Tutti-Fruitti', 'Very Cherry', 'Watermelon', 'Wild Blackberry']\n"
     ]
    }
   ],
   "source": [
    "# inspection\n",
    "\n",
    "print(flavors)"
   ]
  },
  {
   "cell_type": "code",
   "execution_count": 56,
   "metadata": {
    "colab": {
     "base_uri": "https://localhost:8080/"
    },
    "executionInfo": {
     "elapsed": 5,
     "status": "ok",
     "timestamp": 1760201535893,
     "user": {
      "displayName": "Colleen Miller",
      "userId": "13318505713755673453"
     },
     "user_tz": 240
    },
    "id": "BZm1QKP7-AW4",
    "outputId": "8f1d36d1-426d-4050-ddba-4ece10f459b6"
   },
   "outputs": [
    {
     "name": "stdout",
     "output_type": "stream",
     "text": [
      "1. A&W Cream Soda\n",
      "2. A&W Root Beer\n",
      "3. Berry Blue\n",
      "4. Blueberry\n",
      "5. Bubble Gum\n",
      "6. Buttered Popcorn\n",
      "7. Cantaloupe\n",
      "8. Cappuccino\n",
      "9. Caramel Corn\n",
      "10. Chili Mango\n",
      "11. Chocolate Pudding\n",
      "12. Cinnamon\n",
      "13. Coconut\n",
      "14. Cotton Candy\n",
      "15. Crushed Pineapple\n",
      "16. Dr. Pepper\n",
      "17. French Vanilla\n",
      "18. Green Apple\n",
      "19. Island Punch\n",
      "20. Juicy Pear\n",
      "21. Kiwi\n",
      "22. Lemon Drop\n",
      "23. Lemon Lime\n",
      "24. Licorice\n",
      "25. Mango\n",
      "26. Margarita\n",
      "27. Mixed Berry Smoothie\n",
      "28. Orange Sherbet\n",
      "29. Peach\n",
      "30. Pina Colada\n",
      "31. Plum\n",
      "32. Pomegranate\n",
      "33. Raspberry\n",
      "34. Red Apple\n",
      "35. Sizzling Cinnamon\n",
      "36. Sour Cherry\n",
      "37. Strawberry Cheesecake\n",
      "38. Strawberry Daiquiri\n",
      "39. Strawberry Jam\n",
      "40. Sunkist Lemon\n",
      "41. Sunkist Lime\n",
      "42. Sunkist Orange\n",
      "43. Sunkist Pink Grapefruit\n",
      "44. Sunkist Tangerine\n",
      "45. Toasted Marshmallow\n",
      "46. Top Banana\n",
      "47. Tutti-Fruitti\n",
      "48. Very Cherry\n",
      "49. Watermelon\n",
      "50. Wild Blackberry\n"
     ]
    }
   ],
   "source": [
    "# Convert the list flavors into a tuple\n",
    "\n",
    "flavorsTuple = tuple(flavors)\n",
    "\n",
    "# Reasign the tuple back into the 'flavors' variable\n",
    "\n",
    "flavors = flavorsTuple\n",
    "\n",
    "# Use a while loop along with a counter variable, output each flavor in flavors out on a separate line\n",
    "# Each line starts with a one-based count.\n",
    "\n",
    "c=0\n",
    "length = len(flavors)\n",
    "\n",
    "while (c < length):\n",
    "    print(str(c+1)+\". \"+flavors[c])\n",
    "    c = c + 1"
   ]
  },
  {
   "cell_type": "markdown",
   "metadata": {
    "id": "MRt8Z9jyX72G"
   },
   "source": [
    "## Part B - The Jelly Belly Fan Club Members\n",
    "\n",
    "There are three University of Rochester students in local chapter of the Jelly Belly Fan Club: Clara, Ben, and Alex.\n",
    "\n",
    "They love Jelly Bellies!\n",
    "\n",
    "**Actions:**\n",
    "- Create a `list` named `memberNames` which contains the names \"Clara\", \"Ben\", and \"Alex\", in that order.\n",
    "- Sort `memberNames` alphabetically by name.\n",
    "- Convert the sorted list `memberNames` into a `tuple`.\n",
    "- Reassign the `tuple` back into the `memberNames` variable.\n",
    "- Using a `for` loop, print each name in `memberNames` out on a separate line."
   ]
  },
  {
   "cell_type": "code",
   "execution_count": 57,
   "metadata": {
    "colab": {
     "base_uri": "https://localhost:8080/"
    },
    "executionInfo": {
     "elapsed": 29,
     "status": "ok",
     "timestamp": 1760201535923,
     "user": {
      "displayName": "Colleen Miller",
      "userId": "13318505713755673453"
     },
     "user_tz": 240
    },
    "id": "ecOAIkJDX72G",
    "outputId": "8c33509f-766d-4171-a28c-d701744d2cc0"
   },
   "outputs": [
    {
     "name": "stdout",
     "output_type": "stream",
     "text": [
      "['Alex', 'Ben', 'Clara']\n"
     ]
    }
   ],
   "source": [
    "# Create a list named memberNames containing the names Clara, Ben, and Alex\n",
    "\n",
    "memberNames = [\"Clara\", \"Ben\", \"Alex\"]\n",
    "\n",
    "# Sort memberNames alphabetically by name\n",
    "\n",
    "memberNames.sort()\n",
    "\n",
    "# Inspection\n",
    "\n",
    "print(memberNames)\n",
    "\n"
   ]
  },
  {
   "cell_type": "code",
   "execution_count": 58,
   "metadata": {
    "colab": {
     "base_uri": "https://localhost:8080/"
    },
    "executionInfo": {
     "elapsed": 7,
     "status": "ok",
     "timestamp": 1760201535952,
     "user": {
      "displayName": "Colleen Miller",
      "userId": "13318505713755673453"
     },
     "user_tz": 240
    },
    "id": "a31px9yd-9P6",
    "outputId": "0d1f03b4-adc6-4aa8-c2df-25df4858900b"
   },
   "outputs": [
    {
     "name": "stdout",
     "output_type": "stream",
     "text": [
      "Alex\n",
      "Ben\n",
      "Clara\n"
     ]
    }
   ],
   "source": [
    "# Convert the sorted list memberBanes into a tuple\n",
    "\n",
    "memberNamesTuple = tuple(memberNames)\n",
    "\n",
    "# Reassign the tuple back into the memberNames variable\n",
    "\n",
    "memberNames = memberNamesTuple\n",
    "\n",
    "# Use a for loop to print each name in memberNames out on a separate line\n",
    "\n",
    "for name in memberNames:\n",
    "    print(name)\n"
   ]
  },
  {
   "cell_type": "markdown",
   "metadata": {
    "id": "oFxjahLKX72G"
   },
   "source": [
    "## Part C - The Bean Bags\n",
    "\n",
    "As a club event, the Jelly Belly Fan Club Members went to store, where each member bought an oversized bag of assorted Jelly Belly jelly beans.\n",
    "\n",
    "Jelly Belly corporate quality control tells us that each bag contains between 20-50 beans for each flavor in `flavors`.\n",
    "\n",
    "That's a lot of beans in each bag!"
   ]
  },
  {
   "cell_type": "markdown",
   "metadata": {
    "id": "Nx3ZYvkJX72G"
   },
   "source": [
    "**Action:** Create an empty `dictionary` called `beanBags` that will hold all the contents of each bag."
   ]
  },
  {
   "cell_type": "code",
   "execution_count": 59,
   "metadata": {
    "executionInfo": {
     "elapsed": 1,
     "status": "ok",
     "timestamp": 1760201535954,
     "user": {
      "displayName": "Colleen Miller",
      "userId": "13318505713755673453"
     },
     "user_tz": 240
    },
    "id": "SrjJP9ZpEUIM"
   },
   "outputs": [],
   "source": [
    "# Create an empty dictionary called beanBags\n",
    "\n",
    "beanBags = {\n",
    "\n",
    "\n",
    "}\n"
   ]
  },
  {
   "cell_type": "markdown",
   "metadata": {
    "id": "AercI97iX72H"
   },
   "source": [
    "The members returned to their club room to sort and count their beans by flavor.\n",
    "\n",
    "Below are the results.\n",
    "\n",
    "**Action:** Execute the following code block."
   ]
  },
  {
   "cell_type": "code",
   "execution_count": 60,
   "metadata": {
    "executionInfo": {
     "elapsed": 22,
     "status": "ok",
     "timestamp": 1760201535977,
     "user": {
      "displayName": "Colleen Miller",
      "userId": "13318505713755673453"
     },
     "user_tz": 240
    },
    "id": "dTh4CBuUX72H"
   },
   "outputs": [],
   "source": [
    "alexBeans = { 'A&W Cream Soda': 24, 'A&W Root Beer': 50, 'Berry Blue': 49, 'Blueberry': 25, 'Bubble Gum': 37, 'Buttered Popcorn': 27, 'Cantaloupe': 25, 'Cappuccino': 36, 'Caramel Corn': 36, 'Chili Mango': 29, 'Chocolate Pudding': 49, 'Cinnamon': 23, 'Coconut': 27, 'Cotton Candy': 25, 'Crushed Pineapple': 21, 'Dr. Pepper': 21, 'French Vanilla': 38, 'Green Apple': 36, 'Island Punch': 31, 'Juicy Pear': 40, 'Kiwi': 38, 'Lemon Drop': 27, 'Lemon Lime': 42, 'Licorice': 30, 'Mango': 41, 'Margarita': 42, 'Mixed Berry Smoothie': 24, 'Orange Sherbet': 20, 'Peach': 43, 'Pina Colada': 33, 'Plum': 20, 'Pomegranate': 35, 'Raspberry': 41, 'Red Apple': 45, 'Sizzling Cinnamon': 29, 'Sour Cherry': 48, 'Strawberry Cheesecake': 40, 'Strawberry Daiquiri': 23, 'Strawberry Jam': 42, 'Sunkist Lemon': 44, 'Sunkist Lime': 26, 'Sunkist Orange': 45, 'Sunkist Pink Grapefruit': 27, 'Sunkist Tangerine': 22, 'Toasted Marshmallow': 42, 'Top Banana': 22, 'Tutti-Fruitti': 30, 'Very Cherry': 28, 'Watermelon': 33, 'Wild Blackberry': 23 }\n",
    "benBeans = { 'A&W Cream Soda': 46, 'A&W Root Beer': 33, 'Berry Blue': 24, 'Blueberry': 44, 'Bubble Gum': 46, 'Buttered Popcorn': 38, 'Cantaloupe': 48, 'Cappuccino': 46, 'Caramel Corn': 39, 'Chili Mango': 41, 'Chocolate Pudding': 29, 'Cinnamon': 26, 'Coconut': 25, 'Cotton Candy': 45, 'Crushed Pineapple': 30, 'Dr. Pepper': 32, 'French Vanilla': 43, 'Green Apple': 20, 'Island Punch': 33, 'Juicy Pear': 20, 'Kiwi': 41, 'Lemon Drop': 26, 'Lemon Lime': 48, 'Licorice': 50, 'Mango': 41, 'Margarita': 37, 'Mixed Berry Smoothie': 42, 'Orange Sherbet': 31, 'Peach': 47, 'Pina Colada': 46, 'Plum': 47, 'Pomegranate': 25, 'Raspberry': 45, 'Red Apple': 37, 'Sizzling Cinnamon': 48, 'Sour Cherry': 40, 'Strawberry Cheesecake': 21, 'Strawberry Daiquiri': 34, 'Strawberry Jam': 32, 'Sunkist Lemon': 20, 'Sunkist Lime': 20, 'Sunkist Orange': 40, 'Sunkist Pink Grapefruit': 32, 'Sunkist Tangerine': 49, 'Toasted Marshmallow': 34, 'Top Banana': 34, 'Tutti-Fruitti': 38, 'Very Cherry': 27, 'Watermelon': 38, 'Wild Blackberry': 31 }\n",
    "claraBeans = { 'A&W Cream Soda': 32, 'A&W Root Beer': 25, 'Berry Blue': 33, 'Blueberry': 27, 'Bubble Gum': 45, 'Buttered Popcorn': 46, 'Cantaloupe': 35, 'Cappuccino': 30, 'Caramel Corn': 43, 'Chili Mango': 40, 'Chocolate Pudding': 34, 'Cinnamon': 32, 'Coconut': 29, 'Cotton Candy': 42, 'Crushed Pineapple': 44, 'Dr. Pepper': 25, 'French Vanilla': 47, 'Green Apple': 45, 'Island Punch': 27, 'Juicy Pear': 30, 'Kiwi': 33, 'Lemon Drop': 21, 'Lemon Lime': 38, 'Licorice': 22, 'Mango': 29, 'Margarita': 27, 'Mixed Berry Smoothie': 48, 'Orange Sherbet': 21, 'Peach': 46, 'Pina Colada': 31, 'Plum': 47, 'Pomegranate': 46, 'Raspberry': 40, 'Red Apple': 32, 'Sizzling Cinnamon': 32, 'Sour Cherry': 28, 'Strawberry Cheesecake': 30, 'Strawberry Daiquiri': 31, 'Strawberry Jam': 47, 'Sunkist Lemon': 47, 'Sunkist Lime': 44, 'Sunkist Orange': 32, 'Sunkist Pink Grapefruit': 49, 'Sunkist Tangerine': 30, 'Toasted Marshmallow': 31, 'Top Banana': 41, 'Tutti-Fruitti': 49, 'Very Cherry': 40, 'Watermelon': 32, 'Wild Blackberry': 30 }"
   ]
  },
  {
   "cell_type": "markdown",
   "metadata": {
    "id": "0Ctg5jt1X72H"
   },
   "source": [
    "**Actions:**\n",
    "\n",
    "- Add Alex's Jelly Belly counts from `alexBeans` to the `beanBags` dictionary, using `Alex` as the key.\n",
    "- Add Ben's Jelly Belly counts from `benBeans` to the `beanBags` dictionary, using `Ben` as the key.\n",
    "- Add Clara's Jelly Belly counts from `claraBeans` to the `beanBags` dictionary, using `Clara` as the key.\n",
    "- From the `beanBags` dictionary, use a `for` loop with both `key` and a `value` iterator variables.\n",
    "- For each member:\n",
    "    1. Print the key (the member's name)\n",
    "    2. Print the value (the member's Jelly Bellies as a dictionary)"
   ]
  },
  {
   "cell_type": "code",
   "execution_count": 61,
   "metadata": {
    "colab": {
     "base_uri": "https://localhost:8080/"
    },
    "executionInfo": {
     "elapsed": 7,
     "status": "ok",
     "timestamp": 1760201535985,
     "user": {
      "displayName": "Colleen Miller",
      "userId": "13318505713755673453"
     },
     "user_tz": 240
    },
    "id": "wQJ5-UeYX72H",
    "outputId": "3650eb76-971d-4e32-b048-7bbb5390b0cc"
   },
   "outputs": [
    {
     "name": "stdout",
     "output_type": "stream",
     "text": [
      "{'Alex': {'A&W Cream Soda': 24, 'A&W Root Beer': 50, 'Berry Blue': 49, 'Blueberry': 25, 'Bubble Gum': 37, 'Buttered Popcorn': 27, 'Cantaloupe': 25, 'Cappuccino': 36, 'Caramel Corn': 36, 'Chili Mango': 29, 'Chocolate Pudding': 49, 'Cinnamon': 23, 'Coconut': 27, 'Cotton Candy': 25, 'Crushed Pineapple': 21, 'Dr. Pepper': 21, 'French Vanilla': 38, 'Green Apple': 36, 'Island Punch': 31, 'Juicy Pear': 40, 'Kiwi': 38, 'Lemon Drop': 27, 'Lemon Lime': 42, 'Licorice': 30, 'Mango': 41, 'Margarita': 42, 'Mixed Berry Smoothie': 24, 'Orange Sherbet': 20, 'Peach': 43, 'Pina Colada': 33, 'Plum': 20, 'Pomegranate': 35, 'Raspberry': 41, 'Red Apple': 45, 'Sizzling Cinnamon': 29, 'Sour Cherry': 48, 'Strawberry Cheesecake': 40, 'Strawberry Daiquiri': 23, 'Strawberry Jam': 42, 'Sunkist Lemon': 44, 'Sunkist Lime': 26, 'Sunkist Orange': 45, 'Sunkist Pink Grapefruit': 27, 'Sunkist Tangerine': 22, 'Toasted Marshmallow': 42, 'Top Banana': 22, 'Tutti-Fruitti': 30, 'Very Cherry': 28, 'Watermelon': 33, 'Wild Blackberry': 23}, 'Ben': {'A&W Cream Soda': 46, 'A&W Root Beer': 33, 'Berry Blue': 24, 'Blueberry': 44, 'Bubble Gum': 46, 'Buttered Popcorn': 38, 'Cantaloupe': 48, 'Cappuccino': 46, 'Caramel Corn': 39, 'Chili Mango': 41, 'Chocolate Pudding': 29, 'Cinnamon': 26, 'Coconut': 25, 'Cotton Candy': 45, 'Crushed Pineapple': 30, 'Dr. Pepper': 32, 'French Vanilla': 43, 'Green Apple': 20, 'Island Punch': 33, 'Juicy Pear': 20, 'Kiwi': 41, 'Lemon Drop': 26, 'Lemon Lime': 48, 'Licorice': 50, 'Mango': 41, 'Margarita': 37, 'Mixed Berry Smoothie': 42, 'Orange Sherbet': 31, 'Peach': 47, 'Pina Colada': 46, 'Plum': 47, 'Pomegranate': 25, 'Raspberry': 45, 'Red Apple': 37, 'Sizzling Cinnamon': 48, 'Sour Cherry': 40, 'Strawberry Cheesecake': 21, 'Strawberry Daiquiri': 34, 'Strawberry Jam': 32, 'Sunkist Lemon': 20, 'Sunkist Lime': 20, 'Sunkist Orange': 40, 'Sunkist Pink Grapefruit': 32, 'Sunkist Tangerine': 49, 'Toasted Marshmallow': 34, 'Top Banana': 34, 'Tutti-Fruitti': 38, 'Very Cherry': 27, 'Watermelon': 38, 'Wild Blackberry': 31}, 'Clara': {'A&W Cream Soda': 32, 'A&W Root Beer': 25, 'Berry Blue': 33, 'Blueberry': 27, 'Bubble Gum': 45, 'Buttered Popcorn': 46, 'Cantaloupe': 35, 'Cappuccino': 30, 'Caramel Corn': 43, 'Chili Mango': 40, 'Chocolate Pudding': 34, 'Cinnamon': 32, 'Coconut': 29, 'Cotton Candy': 42, 'Crushed Pineapple': 44, 'Dr. Pepper': 25, 'French Vanilla': 47, 'Green Apple': 45, 'Island Punch': 27, 'Juicy Pear': 30, 'Kiwi': 33, 'Lemon Drop': 21, 'Lemon Lime': 38, 'Licorice': 22, 'Mango': 29, 'Margarita': 27, 'Mixed Berry Smoothie': 48, 'Orange Sherbet': 21, 'Peach': 46, 'Pina Colada': 31, 'Plum': 47, 'Pomegranate': 46, 'Raspberry': 40, 'Red Apple': 32, 'Sizzling Cinnamon': 32, 'Sour Cherry': 28, 'Strawberry Cheesecake': 30, 'Strawberry Daiquiri': 31, 'Strawberry Jam': 47, 'Sunkist Lemon': 47, 'Sunkist Lime': 44, 'Sunkist Orange': 32, 'Sunkist Pink Grapefruit': 49, 'Sunkist Tangerine': 30, 'Toasted Marshmallow': 31, 'Top Banana': 41, 'Tutti-Fruitti': 49, 'Very Cherry': 40, 'Watermelon': 32, 'Wild Blackberry': 30}}\n"
     ]
    }
   ],
   "source": [
    "# Add Alex's Jelly Belly counts from alexBeans to the beanBags dictionary, using Alex as the key.\n",
    "\n",
    "beanBags[\"Alex\"] = alexBeans\n",
    "\n",
    "# Add Ben's Jelly Belly counts from benBeans to the beanBags dictionary, using Ben as the key.\n",
    "\n",
    "beanBags[\"Ben\"] = benBeans\n",
    "\n",
    "# Add Clara's Jelly Belly counts from claraBeans to the beanBags dictionary, using Clara as the key.\n",
    "\n",
    "beanBags[\"Clara\"] = claraBeans\n",
    "\n",
    "#Inspection\n",
    "\n",
    "print(beanBags)\n"
   ]
  },
  {
   "cell_type": "code",
   "execution_count": 62,
   "metadata": {
    "colab": {
     "base_uri": "https://localhost:8080/"
    },
    "executionInfo": {
     "elapsed": 5,
     "status": "ok",
     "timestamp": 1760201535991,
     "user": {
      "displayName": "Colleen Miller",
      "userId": "13318505713755673453"
     },
     "user_tz": 240
    },
    "id": "cu7PRCLPFu6x",
    "outputId": "2c12d754-4c8d-483f-c895-1228c0481984"
   },
   "outputs": [
    {
     "name": "stdout",
     "output_type": "stream",
     "text": [
      "Alex\n",
      "{'A&W Cream Soda': 24, 'A&W Root Beer': 50, 'Berry Blue': 49, 'Blueberry': 25, 'Bubble Gum': 37, 'Buttered Popcorn': 27, 'Cantaloupe': 25, 'Cappuccino': 36, 'Caramel Corn': 36, 'Chili Mango': 29, 'Chocolate Pudding': 49, 'Cinnamon': 23, 'Coconut': 27, 'Cotton Candy': 25, 'Crushed Pineapple': 21, 'Dr. Pepper': 21, 'French Vanilla': 38, 'Green Apple': 36, 'Island Punch': 31, 'Juicy Pear': 40, 'Kiwi': 38, 'Lemon Drop': 27, 'Lemon Lime': 42, 'Licorice': 30, 'Mango': 41, 'Margarita': 42, 'Mixed Berry Smoothie': 24, 'Orange Sherbet': 20, 'Peach': 43, 'Pina Colada': 33, 'Plum': 20, 'Pomegranate': 35, 'Raspberry': 41, 'Red Apple': 45, 'Sizzling Cinnamon': 29, 'Sour Cherry': 48, 'Strawberry Cheesecake': 40, 'Strawberry Daiquiri': 23, 'Strawberry Jam': 42, 'Sunkist Lemon': 44, 'Sunkist Lime': 26, 'Sunkist Orange': 45, 'Sunkist Pink Grapefruit': 27, 'Sunkist Tangerine': 22, 'Toasted Marshmallow': 42, 'Top Banana': 22, 'Tutti-Fruitti': 30, 'Very Cherry': 28, 'Watermelon': 33, 'Wild Blackberry': 23}\n",
      "Ben\n",
      "{'A&W Cream Soda': 46, 'A&W Root Beer': 33, 'Berry Blue': 24, 'Blueberry': 44, 'Bubble Gum': 46, 'Buttered Popcorn': 38, 'Cantaloupe': 48, 'Cappuccino': 46, 'Caramel Corn': 39, 'Chili Mango': 41, 'Chocolate Pudding': 29, 'Cinnamon': 26, 'Coconut': 25, 'Cotton Candy': 45, 'Crushed Pineapple': 30, 'Dr. Pepper': 32, 'French Vanilla': 43, 'Green Apple': 20, 'Island Punch': 33, 'Juicy Pear': 20, 'Kiwi': 41, 'Lemon Drop': 26, 'Lemon Lime': 48, 'Licorice': 50, 'Mango': 41, 'Margarita': 37, 'Mixed Berry Smoothie': 42, 'Orange Sherbet': 31, 'Peach': 47, 'Pina Colada': 46, 'Plum': 47, 'Pomegranate': 25, 'Raspberry': 45, 'Red Apple': 37, 'Sizzling Cinnamon': 48, 'Sour Cherry': 40, 'Strawberry Cheesecake': 21, 'Strawberry Daiquiri': 34, 'Strawberry Jam': 32, 'Sunkist Lemon': 20, 'Sunkist Lime': 20, 'Sunkist Orange': 40, 'Sunkist Pink Grapefruit': 32, 'Sunkist Tangerine': 49, 'Toasted Marshmallow': 34, 'Top Banana': 34, 'Tutti-Fruitti': 38, 'Very Cherry': 27, 'Watermelon': 38, 'Wild Blackberry': 31}\n",
      "Clara\n",
      "{'A&W Cream Soda': 32, 'A&W Root Beer': 25, 'Berry Blue': 33, 'Blueberry': 27, 'Bubble Gum': 45, 'Buttered Popcorn': 46, 'Cantaloupe': 35, 'Cappuccino': 30, 'Caramel Corn': 43, 'Chili Mango': 40, 'Chocolate Pudding': 34, 'Cinnamon': 32, 'Coconut': 29, 'Cotton Candy': 42, 'Crushed Pineapple': 44, 'Dr. Pepper': 25, 'French Vanilla': 47, 'Green Apple': 45, 'Island Punch': 27, 'Juicy Pear': 30, 'Kiwi': 33, 'Lemon Drop': 21, 'Lemon Lime': 38, 'Licorice': 22, 'Mango': 29, 'Margarita': 27, 'Mixed Berry Smoothie': 48, 'Orange Sherbet': 21, 'Peach': 46, 'Pina Colada': 31, 'Plum': 47, 'Pomegranate': 46, 'Raspberry': 40, 'Red Apple': 32, 'Sizzling Cinnamon': 32, 'Sour Cherry': 28, 'Strawberry Cheesecake': 30, 'Strawberry Daiquiri': 31, 'Strawberry Jam': 47, 'Sunkist Lemon': 47, 'Sunkist Lime': 44, 'Sunkist Orange': 32, 'Sunkist Pink Grapefruit': 49, 'Sunkist Tangerine': 30, 'Toasted Marshmallow': 31, 'Top Banana': 41, 'Tutti-Fruitti': 49, 'Very Cherry': 40, 'Watermelon': 32, 'Wild Blackberry': 30}\n"
     ]
    }
   ],
   "source": [
    "# From the beanBags dictionary, use a for loop with both key and a value iterator variables Your implementation:\n",
    "\n",
    "for name in beanBags:\n",
    "    print(name)\n",
    "    print(beanBags[name])\n"
   ]
  },
  {
   "cell_type": "markdown",
   "metadata": {
    "id": "1mEptiHzX72H"
   },
   "source": [
    "**Action:**\n",
    "\n",
    "- Access and print out the following values:\n",
    "\n",
    "    1. How many \"Bubble Gum\" beans does Alex have?\n",
    "    2. How many *more* \"Watermelon\" beans does Ben have compared to Clara?\n",
    "    3. How many \"Mixed Berry Smoothie\" beans does Clara have?"
   ]
  },
  {
   "cell_type": "code",
   "execution_count": 63,
   "metadata": {
    "colab": {
     "base_uri": "https://localhost:8080/"
    },
    "executionInfo": {
     "elapsed": 4,
     "status": "ok",
     "timestamp": 1760201535995,
     "user": {
      "displayName": "Colleen Miller",
      "userId": "13318505713755673453"
     },
     "user_tz": 240
    },
    "id": "bNmzmceWX72H",
    "outputId": "e4d8af92-07af-4b89-8457-ff52d51a058c"
   },
   "outputs": [
    {
     "name": "stdout",
     "output_type": "stream",
     "text": [
      "Alex has 37 Bubble Gum beans.\n"
     ]
    }
   ],
   "source": [
    "# Access and print: How many Bubble Gum beans does Alex have?\n",
    "\n",
    "#if alexBeans[\"Bubble Gum\"] == true:\n",
    " #   print(\"Alex has \"+alexBeans[\"Bubble Gum\"]+ \"Bubble Gum beans\")\n",
    "\n",
    "#else:\n",
    " #   print(\"Alex has no Bubble Gum beans\")\n",
    "\n",
    "#print(\"Alex has \"+str(alexBeans[\"Bubble Gum\"])+\" Bubble Gum beans.\")\n",
    "\n",
    "print(\"Alex has \"+str(beanBags[\"Alex\"][\"Bubble Gum\"])+\" Bubble Gum beans.\")\n"
   ]
  },
  {
   "cell_type": "code",
   "execution_count": 64,
   "metadata": {
    "colab": {
     "base_uri": "https://localhost:8080/"
    },
    "executionInfo": {
     "elapsed": 28,
     "status": "ok",
     "timestamp": 1760201536024,
     "user": {
      "displayName": "Colleen Miller",
      "userId": "13318505713755673453"
     },
     "user_tz": 240
    },
    "id": "g7MkkO1UHAdD",
    "outputId": "54e1774c-7bd0-40de-adcb-a28425048f9a"
   },
   "outputs": [
    {
     "name": "stdout",
     "output_type": "stream",
     "text": [
      "Ben has 6 more Watermelon beans than Clara.\n"
     ]
    }
   ],
   "source": [
    "# Access and print: How many more Watermelon beans does Ben have compared to Clara?\n",
    "\n",
    "beanDifference = (beanBags[\"Ben\"][\"Watermelon\"]) - (beanBags[\"Clara\"][\"Watermelon\"])\n",
    "\n",
    "print(\"Ben has \"+str(beanDifference)+\" more Watermelon beans than Clara.\")\n"
   ]
  },
  {
   "cell_type": "code",
   "execution_count": 65,
   "metadata": {
    "colab": {
     "base_uri": "https://localhost:8080/"
    },
    "executionInfo": {
     "elapsed": 5,
     "status": "ok",
     "timestamp": 1760201536028,
     "user": {
      "displayName": "Colleen Miller",
      "userId": "13318505713755673453"
     },
     "user_tz": 240
    },
    "id": "jIaaK3blHAPY",
    "outputId": "c9c20a2c-c597-4886-ed0a-ac8764d7a42a"
   },
   "outputs": [
    {
     "name": "stdout",
     "output_type": "stream",
     "text": [
      "Clara has 48 Mixed Berry Smoothie beans.\n"
     ]
    }
   ],
   "source": [
    "# Access and print: How many Mixed Berry Smoothie beans does Clara have?\n",
    "\n",
    "#beanBags[\"Clara\"][\"Mixed Berry Smoothie\"]\n",
    "\n",
    "print(\"Clara has \"+str(beanBags[\"Clara\"][\"Mixed Berry Smoothie\"])+\" Mixed Berry Smoothie beans.\")\n"
   ]
  },
  {
   "cell_type": "markdown",
   "metadata": {
    "id": "nhm8ZOSRX72H"
   },
   "source": [
    "## Part D - The Promo Beans\n",
    "\n",
    "When checking out at the store, each member received a free, promotional (\"promo\") bag of Jelly Bellies.\n",
    "\n",
    "Each promo bag has exactly 200 beans, and each promo bag has the exact same flavors and flavor quantity of beans.\n",
    "\n",
    "Alex inventoried the flavors in the promo bag, listing each flavor separately.  Below are the results.\n",
    "\n",
    "**Action:** Execute the following code block."
   ]
  },
  {
   "cell_type": "code",
   "execution_count": 66,
   "metadata": {
    "executionInfo": {
     "elapsed": 1,
     "status": "ok",
     "timestamp": 1760201536030,
     "user": {
      "displayName": "Colleen Miller",
      "userId": "13318505713755673453"
     },
     "user_tz": 240
    },
    "id": "1jdqjKA-X72H"
   },
   "outputs": [],
   "source": [
    "promoBeans = ('French Vanilla', 'Green Apple', 'Cinnamon', 'Red Apple', 'Sunkist Lime', 'Licorice', 'Blueberry', 'Sunkist Lemon', 'Plum', 'Pina Colada', 'Bubble Gum', 'Strawberry Cheesecake', 'French Vanilla', 'Coconut', 'Licorice', 'Caramel Corn', 'Strawberry Cheesecake', 'Cinnamon', 'Cappuccino', 'Pina Colada', 'French Vanilla', 'Very Cherry', 'Lemon Drop', 'Blueberry', 'Dr. Pepper', 'Watermelon', 'Plum', 'Kiwi', 'Sizzling Cinnamon', 'Pina Colada', 'A&W Root Beer', 'Kiwi', 'A&W Cream Soda', 'Buttered Popcorn', 'Strawberry Cheesecake', 'Peach', 'Sunkist Lemon', 'Blueberry', 'Bubble Gum', 'Blueberry', 'Cinnamon', 'Cappuccino', 'Cotton Candy', 'Berry Blue', 'Tutti-Fruitti', 'Pomegranate', 'Toasted Marshmallow', 'Caramel Corn', 'Watermelon', 'Red Apple', 'Pomegranate', 'Cinnamon', 'Sunkist Lime', 'Cantaloupe', 'Margarita', 'Toasted Marshmallow', 'Sunkist Lime', 'Strawberry Daiquiri', 'Cappuccino', 'A&W Cream Soda', 'Juicy Pear', 'Green Apple', 'Strawberry Cheesecake', 'Red Apple', 'Mango', 'Chili Mango', 'Sizzling Cinnamon', 'Blueberry', 'Chili Mango', 'Plum', 'Cotton Candy', 'Cappuccino', 'Sizzling Cinnamon', 'Caramel Corn', 'Top Banana', 'Sunkist Lime', 'Buttered Popcorn', 'Pina Colada', 'Peach', 'Berry Blue', 'Sunkist Lime', 'Strawberry Jam', 'Berry Blue', 'Licorice', 'A&W Cream Soda', 'Strawberry Jam', 'Tutti-Fruitti', 'Peach', 'Coconut', 'Tutti-Fruitti', 'Mixed Berry Smoothie', 'Watermelon', 'Sunkist Pink Grapefruit', 'Licorice', 'Toasted Marshmallow', 'Coconut', 'Caramel Corn', 'Green Apple', 'Juicy Pear', 'Coconut', 'Island Punch', 'Sizzling Cinnamon', 'Caramel Corn', 'Cantaloupe', 'Berry Blue', 'Lemon Drop', 'Crushed Pineapple', 'Cotton Candy', 'Blueberry', 'Strawberry Daiquiri', 'Strawberry Jam', 'Lemon Drop', 'Caramel Corn', 'Licorice', 'Very Cherry', 'Raspberry', 'Toasted Marshmallow', 'Watermelon', 'Red Apple', 'Toasted Marshmallow', 'Sunkist Pink Grapefruit', 'Strawberry Daiquiri', 'Sour Cherry', 'Red Apple', 'Tutti-Fruitti', 'Mango', 'A&W Cream Soda', 'A&W Cream Soda', 'Dr. Pepper', 'Very Cherry', 'Toasted Marshmallow', 'Blueberry', 'Chocolate Pudding', 'Sunkist Lemon', 'Red Apple', 'A&W Cream Soda', 'Dr. Pepper', 'Pomegranate', 'Watermelon', 'Strawberry Jam', 'Sunkist Lime', 'Plum', 'Top Banana', 'Lemon Lime', 'Very Cherry', 'Wild Blackberry', 'Chocolate Pudding', 'Pomegranate', 'Peach', 'Bubble Gum', 'Coconut', 'Bubble Gum', 'Strawberry Jam', 'Cappuccino', 'Pina Colada', 'Strawberry Jam', 'Cantaloupe', 'Cotton Candy', 'French Vanilla', 'Sunkist Pink Grapefruit', 'Berry Blue', 'Raspberry', 'Berry Blue', 'Caramel Corn', 'A&W Root Beer', 'Kiwi', 'Pina Colada', 'Cotton Candy', 'Red Apple', 'A&W Cream Soda', 'Sizzling Cinnamon', 'Coconut', 'Wild Blackberry', 'A&W Cream Soda', 'Orange Sherbet', 'Sour Cherry', 'Watermelon', 'Caramel Corn', 'Orange Sherbet', 'Green Apple', 'Wild Blackberry', 'Bubble Gum', 'Sunkist Orange', 'Sunkist Pink Grapefruit', 'Tutti-Fruitti', 'Red Apple', 'Lemon Drop', 'Sizzling Cinnamon', 'Strawberry Cheesecake', 'Caramel Corn', 'Sunkist Pink Grapefruit', 'Lemon Lime', 'Green Apple', 'Buttered Popcorn', 'Lemon Lime', 'Juicy Pear', 'Plum', 'Watermelon', 'Sunkist Pink Grapefruit', 'Pomegranate')"
   ]
  },
  {
   "cell_type": "markdown",
   "metadata": {
    "id": "DSlmac9jX72H"
   },
   "source": [
    "**Action:** Adjust (increment) each member's bean totals based on their promo bag.\n",
    "\n",
    "Notes/Hints on your adjustment algorithm:\n",
    "- Each item/flavor in the `promoBeans` tuple represents one(1) bean of that flavor.\n",
    "- You may want to use a nested `for` loop.\n",
    "- The first/outer `for` loop iterates over the memberNames.\n",
    "- The second/inner `for` loop iterates over the promoBeans.\n",
    "- Inside the inner loop, add one(1) bean to the current flavor total for the current member."
   ]
  },
  {
   "cell_type": "code",
   "execution_count": 67,
   "metadata": {
    "executionInfo": {
     "elapsed": 1,
     "status": "ok",
     "timestamp": 1760201536031,
     "user": {
      "displayName": "Colleen Miller",
      "userId": "13318505713755673453"
     },
     "user_tz": 240
    },
    "id": "ghPrtyHhX72H"
   },
   "outputs": [],
   "source": [
    "# Increment each member's bean totals based on their promo bag\n",
    "\n",
    "# for each name in beanBags\n",
    "\n",
    "for name in memberNames:\n",
    "\n",
    "# add beans from promoBeans into beanBags\n",
    "# add one bean for each member\n",
    "\n",
    "    for bean in promoBeans:\n",
    "        beanBags[name][bean] += 1\n",
    "\n",
    "\n",
    "\n"
   ]
  },
  {
   "cell_type": "markdown",
   "metadata": {
    "id": "5ETu75bBX72H"
   },
   "source": [
    "**Actions:**\n",
    "\n",
    "- Access and print out the following values:\n",
    "\n",
    "    1. Now, how many \"Bubble Gum\" beans does Alex have?\n",
    "    2. Now, how many *more* \"Watermelon\" beans does Ben have compared to Clara?\n",
    "    3. Now, how many \"Mixed Berry Smoothie\" beans does Clara have?"
   ]
  },
  {
   "cell_type": "code",
   "execution_count": 68,
   "metadata": {
    "colab": {
     "base_uri": "https://localhost:8080/"
    },
    "executionInfo": {
     "elapsed": 5,
     "status": "ok",
     "timestamp": 1760201536037,
     "user": {
      "displayName": "Colleen Miller",
      "userId": "13318505713755673453"
     },
     "user_tz": 240
    },
    "id": "RAhYqKB2X72H",
    "outputId": "6176a8ec-3b8d-45e7-bdf8-d43e3270e180"
   },
   "outputs": [
    {
     "name": "stdout",
     "output_type": "stream",
     "text": [
      "Alex has 42 Bubble Gum beans.\n"
     ]
    }
   ],
   "source": [
    "# Access and print: How many Bubble Gum beans does Alex have?\n",
    "\n",
    "print(\"Alex has \"+str(beanBags[\"Alex\"][\"Bubble Gum\"])+\" Bubble Gum beans.\")"
   ]
  },
  {
   "cell_type": "code",
   "execution_count": 69,
   "metadata": {
    "colab": {
     "base_uri": "https://localhost:8080/"
    },
    "executionInfo": {
     "elapsed": 4,
     "status": "ok",
     "timestamp": 1760201536062,
     "user": {
      "displayName": "Colleen Miller",
      "userId": "13318505713755673453"
     },
     "user_tz": 240
    },
    "id": "sMK95sHFZ8wG",
    "outputId": "c1907b28-0c6c-46a1-b2e1-45e2904e2da3"
   },
   "outputs": [
    {
     "name": "stdout",
     "output_type": "stream",
     "text": [
      "Ben has 6 more Watermelon beans than Clara.\n"
     ]
    }
   ],
   "source": [
    "# Access and print: How many more Watermelon beans does Ben have compared to Clara?\n",
    "\n",
    "beanDifference = (beanBags[\"Ben\"][\"Watermelon\"]) - (beanBags[\"Clara\"][\"Watermelon\"])\n",
    "\n",
    "print(\"Ben has \"+str(beanDifference)+\" more Watermelon beans than Clara.\")"
   ]
  },
  {
   "cell_type": "code",
   "execution_count": 70,
   "metadata": {
    "colab": {
     "base_uri": "https://localhost:8080/"
    },
    "executionInfo": {
     "elapsed": 5,
     "status": "ok",
     "timestamp": 1760201536066,
     "user": {
      "displayName": "Colleen Miller",
      "userId": "13318505713755673453"
     },
     "user_tz": 240
    },
    "id": "UiPfCEGJZ7pW",
    "outputId": "183848e3-4807-4317-e297-a963849548c1"
   },
   "outputs": [
    {
     "data": {
      "text/plain": [
       "49"
      ]
     },
     "execution_count": 70,
     "metadata": {},
     "output_type": "execute_result"
    }
   ],
   "source": [
    "# Access and print: How many Mixed Berry Smoothie beans does Clara have?\n",
    "\n",
    "beanBags[\"Clara\"][\"Mixed Berry Smoothie\"]\n"
   ]
  },
  {
   "cell_type": "markdown",
   "metadata": {
    "id": "fcx7uKZRX72H"
   },
   "source": [
    "## Part E - All The Beans\n",
    "**Actions:**\n",
    "\n",
    "- Using a `for` loop and the `memberNames` list, how many total Lemon Lime beans would the members have if they pooled all their beans together?\n",
    "- **Do not** reference \"Alex\", \"Ben\", or \"Clara\" as a hard-coded string.  There is a more dynamic way to do this using the loop.\n",
    "- You may use a hard-coded string for \"Lemon Lime\".\n",
    "- Store the result in a variable called `totalLemonLimeAllMembers`.\n",
    "- Output `totalLemonLimeAllMembers` to the screen."
   ]
  },
  {
   "cell_type": "code",
   "execution_count": 71,
   "metadata": {
    "colab": {
     "base_uri": "https://localhost:8080/"
    },
    "executionInfo": {
     "elapsed": 6,
     "status": "ok",
     "timestamp": 1760201536073,
     "user": {
      "displayName": "Colleen Miller",
      "userId": "13318505713755673453"
     },
     "user_tz": 240
    },
    "id": "uBDHlTPyX72H",
    "outputId": "75fe05e1-1886-451b-bd3e-0a9099795173"
   },
   "outputs": [
    {
     "name": "stdout",
     "output_type": "stream",
     "text": [
      "The total number of Lemon Lime beans for all members is 137.\n"
     ]
    }
   ],
   "source": [
    "# Using a for loop and memberNames, how many total Lemon Lime beans would the members have?\n",
    "# Store the value in a variable called totalLemonLimeAllMembers\n",
    "\n",
    "totalLemonLimeAllMembers = 0\n",
    "\n",
    "for name in memberNames:\n",
    "    totalLemonLimeAllMembers += beanBags[name][\"Lemon Lime\"]\n",
    "\n",
    "\n",
    "#Output totalLemonLimeAllMembers\n",
    "\n",
    "print(\"The total number of Lemon Lime beans for all members is \"+str(totalLemonLimeAllMembers)+\".\")"
   ]
  },
  {
   "cell_type": "markdown",
   "metadata": {
    "id": "46ouHdc6X72H"
   },
   "source": [
    "**Action:** If all the members pooled **all** their beans together, how many total beans would they have?\n",
    "\n",
    "- Use a nested `for` loop.\n",
    "- **Do not** reference any member name or flavor with a hard-coded string.\n",
    "- Store your result in `totalBeansAllMembers`.\n",
    "- Output `totalBeansAllMembers` to the screen."
   ]
  },
  {
   "cell_type": "code",
   "execution_count": 72,
   "metadata": {
    "colab": {
     "base_uri": "https://localhost:8080/"
    },
    "executionInfo": {
     "elapsed": 4,
     "status": "ok",
     "timestamp": 1760201536078,
     "user": {
      "displayName": "Colleen Miller",
      "userId": "13318505713755673453"
     },
     "user_tz": 240
    },
    "id": "Pm9vyEjtX72H",
    "outputId": "4ee2ad6f-480c-42e7-bae7-fa739ebe9a37"
   },
   "outputs": [
    {
     "name": "stdout",
     "output_type": "stream",
     "text": [
      "If all members pooled all their beans together, they have 5848 beans.\n"
     ]
    }
   ],
   "source": [
    "# If all the members pool their beans together, how many total beans?\n",
    "# Store in a variable called totalBeansAllMembers\n",
    "\n",
    "totalBeansAllMembers = 0\n",
    "\n",
    "for name in memberNames:\n",
    "    for flavor in beanBags[name]:\n",
    "        totalBeansAllMembers = totalBeansAllMembers + beanBags[name][flavor]\n",
    "\n",
    "#output totalBeansAllMembers\n",
    "\n",
    "print(\"If all members pooled all their beans together, they have \"+str(totalBeansAllMembers)+\" beans.\")"
   ]
  },
  {
   "cell_type": "markdown",
   "metadata": {
    "id": "3yJ2Z4_XX72H"
   },
   "source": [
    "## Part F - The Trades\n",
    "\n",
    "Alex and Ben like to trade Jelly Bellies so each gets more of their favorite flavors.\n",
    "\n",
    "### The First Trade\n",
    "\n",
    "Alex gives Ben five(5) of his \"Pina Colada\" beans in exchange for five(5) of Ben's \"Margarita\" beans.\n",
    "\n",
    "This is an even trade!\n",
    "\n",
    "**Action:** Adjust the values for both Alex's and Ben's beans due to this trade.\n",
    "\n",
    "- Note: You may use hard-coded string values for list, tuple, or dictionary access."
   ]
  },
  {
   "cell_type": "code",
   "execution_count": 73,
   "metadata": {
    "colab": {
     "base_uri": "https://localhost:8080/"
    },
    "executionInfo": {
     "elapsed": 7,
     "status": "ok",
     "timestamp": 1760201536085,
     "user": {
      "displayName": "Colleen Miller",
      "userId": "13318505713755673453"
     },
     "user_tz": 240
    },
    "id": "FzleGEsNkeaa",
    "outputId": "a1ffeaef-ecdc-45aa-9ca8-88a2f7b30bff"
   },
   "outputs": [
    {
     "name": "stdout",
     "output_type": "stream",
     "text": [
      "Alex has 39 Pina Colada beans and 43 Margarita beans.\n",
      "Ben has 52 Pina Colada beans and 38 Margarita beans.\n"
     ]
    }
   ],
   "source": [
    "# Pre-trade check counts\n",
    "\n",
    "s=\"{} has {} {} beans and {} {} beans.\"\n",
    "\n",
    "print(s.format(\"Alex\",beanBags[\"Alex\"][\"Pina Colada\"],\"Pina Colada\",beanBags[\"Alex\"][\"Margarita\"],\"Margarita\"))\n",
    "\n",
    "print(s.format(\"Ben\",beanBags[\"Ben\"][\"Pina Colada\"],\"Pina Colada\",beanBags[\"Ben\"][\"Margarita\"],\"Margarita\"))\n",
    "\n",
    "\n"
   ]
  },
  {
   "cell_type": "code",
   "execution_count": 74,
   "metadata": {
    "executionInfo": {
     "elapsed": 3,
     "status": "ok",
     "timestamp": 1760201536086,
     "user": {
      "displayName": "Colleen Miller",
      "userId": "13318505713755673453"
     },
     "user_tz": 240
    },
    "id": "bFKAzO5FX72H"
   },
   "outputs": [],
   "source": [
    "# Trade beans between Alex and Ben\n",
    "# Alex loses 5 Pina Colada beans and gains 5 Margarita beans\n",
    "\n",
    "beanBags[\"Alex\"][\"Pina Colada\"] = beanBags[\"Alex\"][\"Pina Colada\"] - 5\n",
    "beanBags[\"Alex\"][\"Margarita\"] = beanBags[\"Alex\"][\"Margarita\"] + 5\n",
    "\n",
    "# Ben gains 5 Pina Colada beans and loses 5 Margarita beans\n",
    "\n",
    "beanBags[\"Ben\"][\"Pina Colada\"] = beanBags[\"Ben\"][\"Pina Colada\"] + 5\n",
    "beanBags[\"Ben\"][\"Margarita\"] = beanBags[\"Ben\"][\"Margarita\"] - 5\n"
   ]
  },
  {
   "cell_type": "code",
   "execution_count": 75,
   "metadata": {
    "colab": {
     "base_uri": "https://localhost:8080/"
    },
    "executionInfo": {
     "elapsed": 9,
     "status": "ok",
     "timestamp": 1760201536093,
     "user": {
      "displayName": "Colleen Miller",
      "userId": "13318505713755673453"
     },
     "user_tz": 240
    },
    "id": "SrtOICZAkalv",
    "outputId": "42b4217d-1aa8-4878-d52f-c3ab4b13e9b4"
   },
   "outputs": [
    {
     "name": "stdout",
     "output_type": "stream",
     "text": [
      "Alex has 34 Pina Colada beans and 48 Margarita beans.\n",
      "Ben has 57 Pina Colada beans and 33 Margarita beans.\n"
     ]
    }
   ],
   "source": [
    "# Post-trade check counts\n",
    "\n",
    "s=\"{} has {} {} beans and {} {} beans.\"\n",
    "\n",
    "print(s.format(\"Alex\",beanBags[\"Alex\"][\"Pina Colada\"],\"Pina Colada\",beanBags[\"Alex\"][\"Margarita\"],\"Margarita\"))\n",
    "\n",
    "print(s.format(\"Ben\",beanBags[\"Ben\"][\"Pina Colada\"],\"Pina Colada\",beanBags[\"Ben\"][\"Margarita\"],\"Margarita\"))\n",
    "\n"
   ]
  },
  {
   "cell_type": "markdown",
   "metadata": {
    "id": "75h-1nc_X72I"
   },
   "source": [
    "### The Second Trade\n",
    "Clara also wants to make a trade and get more of her favorite flavors!\n",
    "\n",
    "Clara and Alex swap all their \"A&W Root Beer\" beans.\n",
    "\n",
    "Since Alex has a lot more \"A&W Root Beer\" beans than Clara, to make the trade fair, Clara also gives Alex twenty-five (25) of her \"Chocolate Pudding\" beans.\n",
    "\n",
    "**Action:** Adjust the values for both Clara's and Alex's beans due to this trade.\n",
    "\n",
    "- Note: You may use hard-coded string values for list, tuple, or dictionary access."
   ]
  },
  {
   "cell_type": "code",
   "execution_count": 76,
   "metadata": {
    "colab": {
     "base_uri": "https://localhost:8080/"
    },
    "executionInfo": {
     "elapsed": 18,
     "status": "ok",
     "timestamp": 1760201536111,
     "user": {
      "displayName": "Colleen Miller",
      "userId": "13318505713755673453"
     },
     "user_tz": 240
    },
    "id": "3RqAYnH3X72I",
    "outputId": "9bf49b37-ec6f-4d07-ba06-869275fc09b8"
   },
   "outputs": [
    {
     "name": "stdout",
     "output_type": "stream",
     "text": [
      "Clara has 27 A&W Root Beer beans and 36 Chocolate Pudding beans.\n",
      "Alex has 52 A&W Root Beer beans and 51 Chocolate Pudding beans.\n"
     ]
    }
   ],
   "source": [
    "# Check pre-trade values\n",
    "\n",
    "s=\"{} has {} {} beans and {} {} beans.\"\n",
    "\n",
    "person1 = memberNames[2]\n",
    "person2 = memberNames[0]\n",
    "\n",
    "print(s.format(person1,beanBags[person1][\"A&W Root Beer\"],\"A&W Root Beer\",beanBags[person1][\"Chocolate Pudding\"],\"Chocolate Pudding\"))\n",
    "\n",
    "print(s.format(person2,beanBags[person2][\"A&W Root Beer\"],\"A&W Root Beer\",beanBags[person2][\"Chocolate Pudding\"],\"Chocolate Pudding\"))\n",
    "\n",
    "\n"
   ]
  },
  {
   "cell_type": "code",
   "execution_count": 77,
   "metadata": {
    "executionInfo": {
     "elapsed": 0,
     "status": "ok",
     "timestamp": 1760201536112,
     "user": {
      "displayName": "Colleen Miller",
      "userId": "13318505713755673453"
     },
     "user_tz": 240
    },
    "id": "QeRl8PcwrqBi"
   },
   "outputs": [],
   "source": [
    "# Clara and Alex swap Root Beer beans\n",
    "\n",
    "person1 = memberNames[2]\n",
    "person2 = memberNames[0]\n",
    "\n",
    "# Give Clara all of Alex's A&W Root Beer Beans\n",
    "\n",
    "while beanBags[person2][\"A&W Root Beer\"] > 0:\n",
    "    beanBags[person1][\"A&W Root Beer\"] = beanBags[person1][\"A&W Root Beer\"] + 1\n",
    "    beanBags[person2][\"A&W Root Beer\"] = beanBags[person2][\"A&W Root Beer\"] - 1\n",
    "\n",
    "# Alex gains 25 Chocolate Pudding and Clara loses 25 Chocolate Pudding\n",
    "\n",
    "beanBags[person1][\"Chocolate Pudding\"] = beanBags[person1][\"Chocolate Pudding\"] - 25\n",
    "beanBags[person2][\"Chocolate Pudding\"] = beanBags[person2][\"Chocolate Pudding\"] + 25\n",
    "\n",
    "\n",
    "\n"
   ]
  },
  {
   "cell_type": "code",
   "execution_count": 78,
   "metadata": {
    "colab": {
     "base_uri": "https://localhost:8080/"
    },
    "executionInfo": {
     "elapsed": 8,
     "status": "ok",
     "timestamp": 1760201536121,
     "user": {
      "displayName": "Colleen Miller",
      "userId": "13318505713755673453"
     },
     "user_tz": 240
    },
    "id": "DimSVYkHoY7P",
    "outputId": "98e266a7-ff5b-45e7-b580-1b2474f81337"
   },
   "outputs": [
    {
     "name": "stdout",
     "output_type": "stream",
     "text": [
      "Clara has 79 A&W Root Beer beans and 11 Chocolate Pudding beans.\n",
      "Alex has 0 A&W Root Beer beans and 76 Chocolate Pudding beans.\n"
     ]
    }
   ],
   "source": [
    "# Check post-trade values\n",
    "\n",
    "s=\"{} has {} {} beans and {} {} beans.\"\n",
    "\n",
    "person1 = memberNames[2]\n",
    "person2 = memberNames[0]\n",
    "\n",
    "print(s.format(person1,beanBags[person1][\"A&W Root Beer\"],\"A&W Root Beer\",beanBags[person1][\"Chocolate Pudding\"],\"Chocolate Pudding\"))\n",
    "\n",
    "print(s.format(person2,beanBags[person2][\"A&W Root Beer\"],\"A&W Root Beer\",beanBags[person2][\"Chocolate Pudding\"],\"Chocolate Pudding\"))\n"
   ]
  },
  {
   "cell_type": "markdown",
   "metadata": {
    "id": "VXTK4s1cX72I"
   },
   "source": [
    "### Check on Alex's Beans Post-Trades\n",
    "**Action:** Now that the trades are over, calculate the total number of beans that Alex has in his bag.\n",
    "\n",
    "- Store the value in `totalBeansAlex`.\n",
    "- Output `totalBeansAlex` to the screen.\n",
    "- Note: You may use hard-coded string values for list, tuple, or dictionary access."
   ]
  },
  {
   "cell_type": "code",
   "execution_count": 79,
   "metadata": {
    "colab": {
     "base_uri": "https://localhost:8080/"
    },
    "executionInfo": {
     "elapsed": 6,
     "status": "ok",
     "timestamp": 1760201536128,
     "user": {
      "displayName": "Colleen Miller",
      "userId": "13318505713755673453"
     },
     "user_tz": 240
    },
    "id": "lBj4SKf0X72I",
    "outputId": "d66e620d-3727-478c-8252-b98cd18f2e8f"
   },
   "outputs": [
    {
     "name": "stdout",
     "output_type": "stream",
     "text": [
      "Alex has 1827 beans in his bag.\n"
     ]
    }
   ],
   "source": [
    "# Add all of Alex's beans together in a variable called totalBeansAlex\n",
    "\n",
    "totalBeansAlex = 0\n",
    "\n",
    "for flavor in beanBags[\"Alex\"]:\n",
    "    totalBeansAlex = totalBeansAlex + beanBags[\"Alex\"][flavor]\n",
    "\n",
    "\n",
    "# Output totalBeansAlex\n",
    "\n",
    "print(\"Alex has \"+str(totalBeansAlex)+\" beans in his bag.\")"
   ]
  },
  {
   "cell_type": "markdown",
   "metadata": {
    "id": "cdY5c70VX72I"
   },
   "source": [
    "### Display Final Bean Totals\n",
    "\n",
    "**Action:** Create a table showing the counts of each bean flavor for each of the Jelly Belly Fan Club members.\n",
    "\n",
    "- Use the `tabulate` Python package to achieve column-based layout.\n",
    "- Column 1: Flavor (display the flavor name of the bean)\n",
    "- Column 2: Alex (display the number of beans of this flavor belonging to Alex)\n",
    "- Column 3: Ben (display the number of beans of this flavor belonging to Ben)\n",
    "- Column 4: Clara (display the number of beans of this flavor belonging to Clara)\n",
    "- Do not use hard-coded strings for flavor names.\n",
    "- Do not use hard-coded strings for member names."
   ]
  },
  {
   "cell_type": "code",
   "execution_count": 80,
   "metadata": {
    "colab": {
     "base_uri": "https://localhost:8080/"
    },
    "executionInfo": {
     "elapsed": 25,
     "status": "ok",
     "timestamp": 1760201536155,
     "user": {
      "displayName": "Colleen Miller",
      "userId": "13318505713755673453"
     },
     "user_tz": 240
    },
    "id": "5zOg37NKLeCd",
    "outputId": "1eb48bcc-e82e-4704-c7bd-aa4e36e1e354"
   },
   "outputs": [
    {
     "name": "stdout",
     "output_type": "stream",
     "text": [
      "{'Alex': {'A&W Cream Soda': 32, 'A&W Root Beer': 0, 'Berry Blue': 55, 'Blueberry': 32, 'Bubble Gum': 42, 'Buttered Popcorn': 30, 'Cantaloupe': 28, 'Cappuccino': 41, 'Caramel Corn': 45, 'Chili Mango': 31, 'Chocolate Pudding': 76, 'Cinnamon': 27, 'Coconut': 33, 'Cotton Candy': 30, 'Crushed Pineapple': 22, 'Dr. Pepper': 24, 'French Vanilla': 42, 'Green Apple': 41, 'Island Punch': 32, 'Juicy Pear': 43, 'Kiwi': 41, 'Lemon Drop': 31, 'Lemon Lime': 45, 'Licorice': 35, 'Mango': 43, 'Margarita': 48, 'Mixed Berry Smoothie': 25, 'Orange Sherbet': 22, 'Peach': 47, 'Pina Colada': 34, 'Plum': 25, 'Pomegranate': 40, 'Raspberry': 43, 'Red Apple': 53, 'Sizzling Cinnamon': 35, 'Sour Cherry': 50, 'Strawberry Cheesecake': 45, 'Strawberry Daiquiri': 26, 'Strawberry Jam': 48, 'Sunkist Lemon': 47, 'Sunkist Lime': 32, 'Sunkist Orange': 46, 'Sunkist Pink Grapefruit': 33, 'Sunkist Tangerine': 22, 'Toasted Marshmallow': 48, 'Top Banana': 24, 'Tutti-Fruitti': 35, 'Very Cherry': 32, 'Watermelon': 40, 'Wild Blackberry': 26}, 'Ben': {'A&W Cream Soda': 54, 'A&W Root Beer': 35, 'Berry Blue': 30, 'Blueberry': 51, 'Bubble Gum': 51, 'Buttered Popcorn': 41, 'Cantaloupe': 51, 'Cappuccino': 51, 'Caramel Corn': 48, 'Chili Mango': 43, 'Chocolate Pudding': 31, 'Cinnamon': 30, 'Coconut': 31, 'Cotton Candy': 50, 'Crushed Pineapple': 31, 'Dr. Pepper': 35, 'French Vanilla': 47, 'Green Apple': 25, 'Island Punch': 34, 'Juicy Pear': 23, 'Kiwi': 44, 'Lemon Drop': 30, 'Lemon Lime': 51, 'Licorice': 55, 'Mango': 43, 'Margarita': 33, 'Mixed Berry Smoothie': 43, 'Orange Sherbet': 33, 'Peach': 51, 'Pina Colada': 57, 'Plum': 52, 'Pomegranate': 30, 'Raspberry': 47, 'Red Apple': 45, 'Sizzling Cinnamon': 54, 'Sour Cherry': 42, 'Strawberry Cheesecake': 26, 'Strawberry Daiquiri': 37, 'Strawberry Jam': 38, 'Sunkist Lemon': 23, 'Sunkist Lime': 26, 'Sunkist Orange': 41, 'Sunkist Pink Grapefruit': 38, 'Sunkist Tangerine': 49, 'Toasted Marshmallow': 40, 'Top Banana': 36, 'Tutti-Fruitti': 43, 'Very Cherry': 31, 'Watermelon': 45, 'Wild Blackberry': 34}, 'Clara': {'A&W Cream Soda': 40, 'A&W Root Beer': 79, 'Berry Blue': 39, 'Blueberry': 34, 'Bubble Gum': 50, 'Buttered Popcorn': 49, 'Cantaloupe': 38, 'Cappuccino': 35, 'Caramel Corn': 52, 'Chili Mango': 42, 'Chocolate Pudding': 11, 'Cinnamon': 36, 'Coconut': 35, 'Cotton Candy': 47, 'Crushed Pineapple': 45, 'Dr. Pepper': 28, 'French Vanilla': 51, 'Green Apple': 50, 'Island Punch': 28, 'Juicy Pear': 33, 'Kiwi': 36, 'Lemon Drop': 25, 'Lemon Lime': 41, 'Licorice': 27, 'Mango': 31, 'Margarita': 28, 'Mixed Berry Smoothie': 49, 'Orange Sherbet': 23, 'Peach': 50, 'Pina Colada': 37, 'Plum': 52, 'Pomegranate': 51, 'Raspberry': 42, 'Red Apple': 40, 'Sizzling Cinnamon': 38, 'Sour Cherry': 30, 'Strawberry Cheesecake': 35, 'Strawberry Daiquiri': 34, 'Strawberry Jam': 53, 'Sunkist Lemon': 50, 'Sunkist Lime': 50, 'Sunkist Orange': 33, 'Sunkist Pink Grapefruit': 55, 'Sunkist Tangerine': 30, 'Toasted Marshmallow': 37, 'Top Banana': 43, 'Tutti-Fruitti': 54, 'Very Cherry': 44, 'Watermelon': 39, 'Wild Blackberry': 33}}\n"
     ]
    }
   ],
   "source": [
    "# Inspect beanBags (to make sure I'm not crazy)\n",
    "\n",
    "print(beanBags)"
   ]
  },
  {
   "cell_type": "code",
   "execution_count": 81,
   "metadata": {
    "colab": {
     "base_uri": "https://localhost:8080/"
    },
    "executionInfo": {
     "elapsed": 4,
     "status": "ok",
     "timestamp": 1760201536159,
     "user": {
      "displayName": "Colleen Miller",
      "userId": "13318505713755673453"
     },
     "user_tz": 240
    },
    "id": "IbC3rv3PX72I",
    "outputId": "8d68bb84-a8eb-4758-e697-61e29c01e143"
   },
   "outputs": [
    {
     "name": "stdout",
     "output_type": "stream",
     "text": [
      "Flavors                  Alex                     Ben\n",
      "A&W Cream Soda           A&W Cream Soda           A&W Cream Soda\n",
      "A&W Root Beer            A&W Root Beer            A&W Root Beer\n",
      "Berry Blue               Berry Blue               Berry Blue\n",
      "Blueberry                Blueberry                Blueberry\n",
      "Bubble Gum               Bubble Gum               Bubble Gum\n",
      "Buttered Popcorn         Buttered Popcorn         Buttered Popcorn\n",
      "Cantaloupe               Cantaloupe               Cantaloupe\n",
      "Cappuccino               Cappuccino               Cappuccino\n",
      "Caramel Corn             Caramel Corn             Caramel Corn\n",
      "Chili Mango              Chili Mango              Chili Mango\n",
      "Chocolate Pudding        Chocolate Pudding        Chocolate Pudding\n",
      "Cinnamon                 Cinnamon                 Cinnamon\n",
      "Coconut                  Coconut                  Coconut\n",
      "Cotton Candy             Cotton Candy             Cotton Candy\n",
      "Crushed Pineapple        Crushed Pineapple        Crushed Pineapple\n",
      "Dr. Pepper               Dr. Pepper               Dr. Pepper\n",
      "French Vanilla           French Vanilla           French Vanilla\n",
      "Green Apple              Green Apple              Green Apple\n",
      "Island Punch             Island Punch             Island Punch\n",
      "Juicy Pear               Juicy Pear               Juicy Pear\n",
      "Kiwi                     Kiwi                     Kiwi\n",
      "Lemon Drop               Lemon Drop               Lemon Drop\n",
      "Lemon Lime               Lemon Lime               Lemon Lime\n",
      "Licorice                 Licorice                 Licorice\n",
      "Mango                    Mango                    Mango\n",
      "Margarita                Margarita                Margarita\n",
      "Mixed Berry Smoothie     Mixed Berry Smoothie     Mixed Berry Smoothie\n",
      "Orange Sherbet           Orange Sherbet           Orange Sherbet\n",
      "Peach                    Peach                    Peach\n",
      "Pina Colada              Pina Colada              Pina Colada\n",
      "Plum                     Plum                     Plum\n",
      "Pomegranate              Pomegranate              Pomegranate\n",
      "Raspberry                Raspberry                Raspberry\n",
      "Red Apple                Red Apple                Red Apple\n",
      "Sizzling Cinnamon        Sizzling Cinnamon        Sizzling Cinnamon\n",
      "Sour Cherry              Sour Cherry              Sour Cherry\n",
      "Strawberry Cheesecake    Strawberry Cheesecake    Strawberry Cheesecake\n",
      "Strawberry Daiquiri      Strawberry Daiquiri      Strawberry Daiquiri\n",
      "Strawberry Jam           Strawberry Jam           Strawberry Jam\n",
      "Sunkist Lemon            Sunkist Lemon            Sunkist Lemon\n",
      "Sunkist Lime             Sunkist Lime             Sunkist Lime\n",
      "Sunkist Orange           Sunkist Orange           Sunkist Orange\n",
      "Sunkist Pink Grapefruit  Sunkist Pink Grapefruit  Sunkist Pink Grapefruit\n",
      "Sunkist Tangerine        Sunkist Tangerine        Sunkist Tangerine\n",
      "Toasted Marshmallow      Toasted Marshmallow      Toasted Marshmallow\n",
      "Top Banana               Top Banana               Top Banana\n",
      "Tutti-Fruitti            Tutti-Fruitti            Tutti-Fruitti\n",
      "Very Cherry              Very Cherry              Very Cherry\n",
      "Watermelon               Watermelon               Watermelon\n",
      "Wild Blackberry          Wild Blackberry          Wild Blackberry\n"
     ]
    }
   ],
   "source": [
    "# Use tabulate Python package to achieve column-based layout\n",
    "# Column 1: display the flavor name\n",
    "# Column 2: Alex, talying beans of this flavor belonging to Alex\n",
    "# Column 3: Ben\n",
    "# Column 4: Clara\n",
    "import tabulate\n",
    "\n",
    "#data = beanBags[name].items()\n",
    "data = beanBags\n",
    "\n",
    "\n",
    "########## Something about the way I'm putting in the data or headers drops either count of each flavor or the rest of the names#####\n",
    "##### WHAT THE HECK?!?!?!?!?! NOT EVEN AI IS HELPING\n",
    "\n",
    "column_names = [\"Flavors\", memberNames[0], memberNames[1], memberNames[2]]\n",
    "\n",
    "table = tabulate.tabulate (data, headers=column_names, tablefmt = \"plain\", stralign = \"left\", numalign = \"center\")\n",
    "\n",
    "print (table)"
   ]
  },
  {
   "cell_type": "markdown",
   "metadata": {
    "id": "q4oFS1oOX72I"
   },
   "source": [
    "## Part G - The Recipes\n",
    "\n",
    "Fans of Jelly Bellies like to combine beans to form more complicated, unique flavors, such as \"Apple Pie\" and \"Banana Split\".\n",
    "\n",
    "These combinations are called \"recipes\" because they often combine multiple beans as \"ingredients\" to form a well-known food flavor.\n",
    "\n",
    "**Action:** Create an empty dictionary called `recipes`."
   ]
  },
  {
   "cell_type": "code",
   "execution_count": 82,
   "metadata": {
    "executionInfo": {
     "elapsed": 1,
     "status": "ok",
     "timestamp": 1760201536161,
     "user": {
      "displayName": "Colleen Miller",
      "userId": "13318505713755673453"
     },
     "user_tz": 240
    },
    "id": "jpJFPhSiX72I"
   },
   "outputs": [],
   "source": [
    "# Create an empty dictionary called recipes\n",
    "\n",
    "recipes = {}\n",
    "\n"
   ]
  },
  {
   "cell_type": "markdown",
   "metadata": {
    "id": "FJZMImVsX72I"
   },
   "source": [
    "A simple recipe, \"Cola\" calls for one(1) \"Lemon Lime\" bean and one(1) \"Cinnamon\" bean.\n",
    "\n",
    "We will add this recipe to `recipes`.  The name of the recipe \"Cola\" is the key and the value is... another dictionary where the key of the latter dictionary is the ingredient flavor and the value is the ingredient quantity.\n",
    "\n",
    "**Action:** Execute the following code:"
   ]
  },
  {
   "cell_type": "code",
   "execution_count": 83,
   "metadata": {
    "executionInfo": {
     "elapsed": 0,
     "status": "ok",
     "timestamp": 1760201536162,
     "user": {
      "displayName": "Colleen Miller",
      "userId": "13318505713755673453"
     },
     "user_tz": 240
    },
    "id": "II3JjvHEX72I"
   },
   "outputs": [],
   "source": [
    "recipes[\"Cola\"] = { \"Lemon Lime\": 1, \"Cinnamon\": 1 }"
   ]
  },
  {
   "cell_type": "markdown",
   "metadata": {
    "id": "Wm7YI83lX72L"
   },
   "source": [
    "**Actions:** Add the following recipes to `recipes` using the same convention as above:\n",
    "\n",
    "- \"Apple Pie\" is the result of eating 2 \"Green Apple\" beans and 1 \"Cinnamon\" bean.\n",
    "- \"Key Lime Pie\" is the result of eating 1 \"Lemon Lime\" bean and 1 \"Toasted Marshmallow\" bean.\n",
    "- \"Pink Lemonade\" is the result of eating 2 \"Cotton Candy\" beans and 2 \"Sunkist Lemon\" beans.\n",
    "- \"Root Beer Float\" is the result of eating 2 \"A&W Root Beer\" beans and 1 \"A&W Cream Soda\" bean.\n",
    "- \"Cafe Mocha\" is the result of eating 2 \"Cappuccino\" beans, 1 \"Chocolate Pudding\" bean, and 1 \"French Vanilla\" bean.\n",
    "- \"Hot Chocolate\" is the result of eating 1 \"Toasted Marshmallow\" bean and 1 \"Chocolate Pudding\" bean.\n",
    "- \"Chocolate-Dipped Strawberries\" is the result of eating 2 \"Strawberry Daiquiri\" beans and 1 \"Chocolate Pudding\" bean.\n",
    "- \"S'mores\" is the result of eating 1 \"Caramel Corn\" bean, 2 \"Toasted Marshmallow\" beans, and 1 \"Chocolate Pudding\" bean.\n",
    "- \"Banana Split\" is the result of eating 1 \"Top Banana\" bean, 1 \"Chocolate Pudding\" bean, 1 \"Crushed Pineapple\" bean, 1 \"Strawberry Jam\" bean, 1 \"Very Cherry\" bean, and 1 \"French Vanilla\" bean."
   ]
  },
  {
   "cell_type": "code",
   "execution_count": 84,
   "metadata": {
    "executionInfo": {
     "elapsed": 1,
     "status": "ok",
     "timestamp": 1760201536164,
     "user": {
      "displayName": "Colleen Miller",
      "userId": "13318505713755673453"
     },
     "user_tz": 240
    },
    "id": "nL0g9FPUX72L"
   },
   "outputs": [],
   "source": [
    "# \"Apple Pie\" is the result of eating 2 \"Green Apple\" beans and 1 \"Cinnamon\" bean.\n",
    "\n",
    "recipes[\"Apple Pie\"] = { \"Green Apple\": 2, \"Cinnamon\": 1 }\n",
    "\n",
    "#\"Key Lime Pie\" is the result of eating 1 \"Lemon Lime\" bean and 1 \"Toasted Marshmallow\" bean.\n",
    "\n",
    "recipes[\"Key Lime Pie\"] = { \"Lemon Lime\": 1, \"Toasted Marshmallow\": 1 }\n",
    "\n",
    "#\"Pink Lemonade\" is the result of eating 2 \"Cotton Candy\" beans and 2 \"Sunkist Lemon\" beans.\n",
    "\n",
    "recipes[\"Pink Lemonade\"] = { \"Cotton Candy\": 2, \"Sunkist Lemon\": 2 }\n",
    "\n",
    "#\"Root Beer Float\" is the result of eating 2 \"A&W Root Beer\" beans and 1 \"A&W Cream Soda\" bean.\n",
    "\n",
    "recipes[\"Root Beer Float\"] = { \"A&W Root Beer\": 2, \"A&W Cream Soda\": 1 }\n",
    "\n",
    "#\"Cafe Mocha\" is the result of eating 2 \"Cappuccino\" beans, 1 \"Chocolate Pudding\" bean, and 1 \"French Vanilla\" bean.\n",
    "\n",
    "recipes[\"Cafe Mocha\"] = { \"Cappuccino\": 2, \"Chocolate Pudding\": 1, \"French Vanilla\": 1 }\n",
    "\n",
    "#\"Hot Chocolate\" is the result of eating 1 \"Toasted Marshmallow\" bean and 1 \"Chocolate Pudding\" bean.\n",
    "\n",
    "recipes[\"Hot Chocolate\"] = { \"Toasted Marshmallow\": 1, \"Chocolate Pudding\": 1 }\n",
    "\n",
    "#\"Chocolate-Dipped Strawberries\" is the result of eating 2 \"Strawberry Daiquiri\" beans and 1 \"Chocolate Pudding\" bean.\n",
    "\n",
    "recipes[\"Chocolate-Dipped Strawberries\"] = { \"Strawberry Daiquiri\": 2, \"Chocolate Pudding\": 1 }\n",
    "\n",
    "#\"S'mores\" is the result of eating 1 \"Caramel Corn\" bean, 2 \"Toasted Marshmallow\" beans, and 1 \"Chocolate Pudding\" bean.\n",
    "\n",
    "recipes[\"S'mores\"] = { \"Caramel Corn\": 1, \"Toasted Marshmallow\": 2, \"Chocolate Pudding\": 1 }\n",
    "\n",
    "#\"Banana Split\" is the result of eating 1 \"Top Banana\" bean, 1 \"Chocolate Pudding\" bean, 1 \"Crushed Pineapple\" bean, 1 \"Strawberry Jam\" bean, 1 \"Very Cherry\" bean, and 1 \"French Vanilla\" bean.\n",
    "\n",
    "recipes[\"Banana Split\"] = { \"Top Banana\": 1, \"Chocolate Pudding\": 1, \"Crushed Pineapple\": 1, \"Strawberry Jam\": 1, \"Very Cherry\": 1, \"French Vanilla\": 1 }"
   ]
  },
  {
   "cell_type": "markdown",
   "metadata": {
    "id": "FQSARnjlX72L"
   },
   "source": [
    "Sitting around the table, the members have decided to make specific recipes from their beans.\n",
    "\n",
    "They will make the recipes, one at a time, in the following order:\n",
    "\n",
    "1. Key Lime Pie\n",
    "2. Apple Pie\n",
    "3. Cafe Mocha\n",
    "4. Cola\n",
    "5. Hot Chocolate\n",
    "6. Chocolate-Dipped Strawberries\n",
    "7. Pink Lemonade\n",
    "8. Root Beer Float\n",
    "9. Banana Split\n",
    "10. S'mores\n",
    "\n",
    "**Action:** Create a list called `recipeNamesInOrder` to hold the names of these recipes in the order."
   ]
  },
  {
   "cell_type": "code",
   "execution_count": 85,
   "metadata": {
    "executionInfo": {
     "elapsed": 17,
     "status": "ok",
     "timestamp": 1760201536182,
     "user": {
      "displayName": "Colleen Miller",
      "userId": "13318505713755673453"
     },
     "user_tz": 240
    },
    "id": "BNrONrMYX72L"
   },
   "outputs": [],
   "source": [
    "# Create a list called recipeNamesInOrder to hold names of recipes in specific order\n",
    "\n",
    "recipeNamesInOrder = [\"Key Lime Pie\", \"Apple Pie\", \"Cafe Mocha\", \"Cola\", \"Hot Chocolate\", \"Chocolate-Dipped Strawberries\", \"Pink Lemonade\", \"Root Beer Float\", \"Banana Split\", \"S'mores\"]\n",
    "\n"
   ]
  },
  {
   "cell_type": "markdown",
   "metadata": {
    "id": "bF766QXJX72L"
   },
   "source": [
    "## Part H - Initializing Recipe Counts\n",
    "\n",
    "In this part, you will create a complex data structure (a dictionary of dictionaries) to store the number of recipes that each member makes.\n",
    "\n",
    "**Actions:**\n",
    "\n",
    "- Create a dictionary called `recipeCounts`.\n",
    "- Use a combination of loops and existing variables (`memberNames`, `recipeNamesInOrder`, etc.) to dynamically create a dictionary of dictionaries where:\n",
    "    - The keys for the outer dictionary are the member names.\n",
    "    - The keys for the inner dictionary are the recipe names.\n",
    "    - The value for each member and each recipe is initialized to an integer value of zero (0).\n",
    "- Output `recipeCounts` to the screen to verify the data structure, keys, and values."
   ]
  },
  {
   "cell_type": "code",
   "execution_count": 86,
   "metadata": {
    "colab": {
     "base_uri": "https://localhost:8080/"
    },
    "executionInfo": {
     "elapsed": 13,
     "status": "ok",
     "timestamp": 1760201536196,
     "user": {
      "displayName": "Colleen Miller",
      "userId": "13318505713755673453"
     },
     "user_tz": 240
    },
    "id": "nh8IgTr0X72L",
    "outputId": "cafcd94f-f5c8-4ca1-c1a8-fbe03b190eb0"
   },
   "outputs": [
    {
     "name": "stdout",
     "output_type": "stream",
     "text": [
      "{'Alex': {'Key Lime Pie': 0, 'Apple Pie': 0, 'Cafe Mocha': 0, 'Cola': 0, 'Hot Chocolate': 0, 'Chocolate-Dipped Strawberries': 0, 'Pink Lemonade': 0, 'Root Beer Float': 0, 'Banana Split': 0, \"S'mores\": 0}, 'Ben': {'Key Lime Pie': 0, 'Apple Pie': 0, 'Cafe Mocha': 0, 'Cola': 0, 'Hot Chocolate': 0, 'Chocolate-Dipped Strawberries': 0, 'Pink Lemonade': 0, 'Root Beer Float': 0, 'Banana Split': 0, \"S'mores\": 0}, 'Clara': {'Key Lime Pie': 0, 'Apple Pie': 0, 'Cafe Mocha': 0, 'Cola': 0, 'Hot Chocolate': 0, 'Chocolate-Dipped Strawberries': 0, 'Pink Lemonade': 0, 'Root Beer Float': 0, 'Banana Split': 0, \"S'mores\": 0}}\n"
     ]
    }
   ],
   "source": [
    "# Create an empty dictionary called recipeCounts\n",
    "\n",
    "recipeCounts = {}\n",
    "\n",
    "# Use a combination of loops and existing variables (memberNames, recipeNamesinOrder)\n",
    "# populate the dictionary with\n",
    "# outer keys member names\n",
    "# inner keys recipe names\n",
    "# value for each member and each recipe is initalized to an integer value 0\n",
    "\n",
    "for name in memberNames:\n",
    "    recipeCounts[name] = {}\n",
    "    for recipe in recipeNamesInOrder:\n",
    "        recipeCounts[name][recipe] = 0\n",
    "\n",
    "\n",
    "#Output recipeCounts to verify structure\n",
    "\n",
    "print(recipeCounts)\n"
   ]
  },
  {
   "cell_type": "markdown",
   "metadata": {
    "id": "bKBKiIRCX72L"
   },
   "source": [
    "## Part I - Making Recipes\n",
    "\n",
    "In this part, you will have the members \"make\" the recipes and \"eat\" the beans, dynamically.\n",
    "\n",
    "**Action:** Implement the following algorithm:\n",
    "\n",
    "- Iterate over each member\n",
    "- The current member tries to make each recipe, one at a time, in the order specified in `recipeNamesInOrder`.\n",
    "- Each recipe will require the exact ingredient flavors and quantity of beans.\n",
    "- Check if the recipe can be made before the member eats the beans.\n",
    "- If the recipe cannot be made, the member moves on to the next recipe.\n",
    "- Otherwise (if the recipe can be made):\n",
    "    - The recipe count is incremented by 1 for that recipe and that member, and\n",
    "    - The member eats the recipe (all the recipe's beans), so\n",
    "    - The program adjusts (subtracts) the flavor totals in the member's bag of beans accordingly.  You can't reuse an eaten bean!\n",
    "- After the last recipe in the order specified in `recipeNamesInOrder`, if the member has made at least one recipe successfully (any recipe), then repeat the order again from the beginning.\n",
    "- Otherwise (if the member went through the entire order without being able to make a single recipe), then:\n",
    "    - Stop making recipes (because this member cannot make any more recipes of any kind), and\n",
    "    - Move on to the next member (until there are no more members).\n",
    "- When finished, output `recipeCounts` to the screen to verify the data structure, keys, and values."
   ]
  },
  {
   "cell_type": "code",
   "execution_count": 87,
   "metadata": {
    "colab": {
     "base_uri": "https://localhost:8080/"
    },
    "executionInfo": {
     "elapsed": 7,
     "status": "ok",
     "timestamp": 1760201536201,
     "user": {
      "displayName": "Colleen Miller",
      "userId": "13318505713755673453"
     },
     "user_tz": 240
    },
    "id": "qB7_lUBjX72L",
    "outputId": "9f72e103-d902-4696-d8e4-d53853f8eb2e"
   },
   "outputs": [
    {
     "name": "stdout",
     "output_type": "stream",
     "text": [
      "recipe made!\n",
      "recipe made!\n",
      "recipe made!\n",
      "recipe made!\n",
      "recipe made!\n",
      "recipe made!\n",
      "recipe made!\n",
      "recipe made!\n",
      "recipe made!\n",
      "recipe made!\n",
      "recipe made!\n",
      "recipe made!\n",
      "recipe made!\n",
      "recipe made!\n",
      "recipe made!\n",
      "recipe made!\n",
      "recipe made!\n",
      "recipe made!\n",
      "recipe made!\n",
      "recipe made!\n",
      "recipe made!\n",
      "recipe made!\n",
      "recipe made!\n",
      "recipe made!\n",
      "recipe made!\n",
      "recipe made!\n",
      "recipe made!\n",
      "recipe made!\n",
      "recipe made!\n",
      "recipe made!\n",
      "{'Alex': {'Key Lime Pie': 6, 'Apple Pie': 3, 'Cafe Mocha': 0, 'Cola': 0, 'Hot Chocolate': 0, 'Chocolate-Dipped Strawberries': 0, 'Pink Lemonade': 0, 'Root Beer Float': 0, 'Banana Split': 0, \"S'mores\": 0}, 'Ben': {'Key Lime Pie': 7, 'Apple Pie': 3, 'Cafe Mocha': 1, 'Cola': 0, 'Hot Chocolate': 0, 'Chocolate-Dipped Strawberries': 0, 'Pink Lemonade': 0, 'Root Beer Float': 0, 'Banana Split': 0, \"S'mores\": 0}, 'Clara': {'Key Lime Pie': 7, 'Apple Pie': 3, 'Cafe Mocha': 0, 'Cola': 0, 'Hot Chocolate': 0, 'Chocolate-Dipped Strawberries': 0, 'Pink Lemonade': 0, 'Root Beer Float': 0, 'Banana Split': 0, \"S'mores\": 0}}\n"
     ]
    }
   ],
   "source": [
    "# Iterate over each member (for loop)\n",
    "\n",
    "for name in memberNames:\n",
    "\n",
    "    # Try to make each recipe, one at a time, in order specified in recipeNamesInOrder\n",
    "\n",
    "    for recipe in recipeNamesInOrder:\n",
    "\n",
    "        # Each recipe requires exact flavors and quantity\n",
    "        # Check if the recipe can be made (>=) before member eats the beans\n",
    "        ###### Boolean true/false here?\n",
    "\n",
    "       while (beanBags[name][flavor] >= recipeCounts[name][recipe]):\n",
    "\n",
    "\n",
    "          if True:\n",
    "\n",
    "           # Recipe count incremented by 1 for that member\n",
    "\n",
    "           recipeCounts[name][recipe] = recipeCounts[name][recipe] + 1\n",
    "\n",
    "           # Subtrack the flavor totals in the members's bag of beans accordingly\n",
    "\n",
    "           beanBags[name][flavor] = beanBags[name][flavor] - recipeCounts[name][recipe]\n",
    "\n",
    "\n",
    "          # Inspection to see something happened\n",
    "           print(\"recipe made!\")\n",
    "\n",
    "        # If recipe cannot (<) be made, move on to next recipe\n",
    "\n",
    "           if False:\n",
    "\n",
    "                # Inspection to see something happened\n",
    "                print(\"recipe not made\")\n",
    "\n",
    "\n",
    "        # Otherwise (ifelse)\n",
    "\n",
    "\n",
    "\n",
    "    # At least on recipe made successfully, then repeat until cannot make another\n",
    "\n",
    "        # Otherwise (ifelse)\n",
    "        # Stop making recipes and continue to next member\n",
    "\n",
    "\n",
    "# Done when all members have made all the recipes they can\n",
    "\n",
    "\n",
    "# Output recipeCounts to verify data structure, keys, values maintained\n",
    "\n",
    "print(recipeCounts)\n",
    "\n"
   ]
  },
  {
   "cell_type": "markdown",
   "metadata": {
    "id": "VIAnIazzX72L"
   },
   "source": [
    "## Part J - Display Recipe Counts\n",
    "\n",
    "**Action:** Create a table showing the counts of each recipe made by each of the Jelly Belly Fan Club members.\n",
    "\n",
    "- Use the `tabulate` Python package to achieve column-based layout.- Column 1: Recipe (display the recipe name)\n",
    "- Column 2: Alex (display the number of recipes made of this recipe by Alex)\n",
    "- Column 3: Ben (display the number of recipes made of this recipe by Ben)\n",
    "- Column 4: Clara (display the number of recipes made of this recipe by Clara)\n",
    "- Do not use hard-coded strings for recipe names.\n",
    "- Do not use hard-coded strings for member names."
   ]
  },
  {
   "cell_type": "code",
   "execution_count": 92,
   "metadata": {
    "colab": {
     "base_uri": "https://localhost:8080/"
    },
    "executionInfo": {
     "elapsed": 41,
     "status": "ok",
     "timestamp": 1760201593407,
     "user": {
      "displayName": "Colleen Miller",
      "userId": "13318505713755673453"
     },
     "user_tz": 240
    },
    "id": "4_Dh2LXhX72L",
    "outputId": "cda71dba-05e0-48b4-c7ce-ba7c5dc5c32e"
   },
   "outputs": [
    {
     "name": "stdout",
     "output_type": "stream",
     "text": [
      "Recipes                         Alex\n",
      "Key Lime Pie                     7\n",
      "Apple Pie                        3\n",
      "Cafe Mocha                       0\n",
      "Cola                             0\n",
      "Hot Chocolate                    0\n",
      "Chocolate-Dipped Strawberries    0\n",
      "Pink Lemonade                    0\n",
      "Root Beer Float                  0\n",
      "Banana Split                     0\n",
      "S'mores                          0\n"
     ]
    }
   ],
   "source": [
    "# Use tabulate to display count of recipes by each member\n",
    "# Column 1 recipe name\n",
    "# Column 2 Alex\n",
    "# Column 3 Ben\n",
    "# Column 4 Clara\n",
    "\n",
    "import tabulate\n",
    "\n",
    "data = recipeCounts[name].items()\n",
    "\n",
    "##### Again, I know this is wrong but how\n",
    "\n",
    "column_names = [\"Recipes\", memberNames[0], memberNames[1], memberNames[2]]\n",
    "\n",
    "table2 = tabulate.tabulate (data, headers=column_names, tablefmt = \"plain\", stralign = \"left\", numalign = \"center\")\n",
    "\n",
    "print (table2)\n",
    "\n"
   ]
  },
  {
   "cell_type": "markdown",
   "metadata": {
    "id": "ukoU5Xt_X72L"
   },
   "source": [
    "**Action:** Store the number of \"Root Beer Float\" recipes that Ben made in a variable called `numRootBeerFloats`.\n",
    "\n",
    "- Note: You may use hard-coded string values for list, tuple, or dictionary access."
   ]
  },
  {
   "cell_type": "code",
   "execution_count": 93,
   "metadata": {
    "colab": {
     "base_uri": "https://localhost:8080/"
    },
    "executionInfo": {
     "elapsed": 6,
     "status": "ok",
     "timestamp": 1760201608446,
     "user": {
      "displayName": "Colleen Miller",
      "userId": "13318505713755673453"
     },
     "user_tz": 240
    },
    "id": "MXUhePukX72L",
    "outputId": "e76aaf65-d5a6-4dbb-bafe-e27e91e1d168"
   },
   "outputs": [
    {
     "name": "stdout",
     "output_type": "stream",
     "text": [
      "0\n"
     ]
    }
   ],
   "source": [
    "# Store the number of Root Beer Float recipes that Ben made with a variable called numRootBeerFloats\n",
    "\n",
    "numRootBeerFloats = recipeCounts[\"Ben\"][\"Root Beer Float\"]\n",
    "\n",
    "# Inspect\n",
    "\n",
    "print(numRootBeerFloats)\n"
   ]
  },
  {
   "cell_type": "markdown",
   "metadata": {
    "id": "gtrCtR1jX72L"
   },
   "source": [
    "**Action:** Use a loop to dynamically determine which member made the most \"Pink Lemonade\" recipes (and how many).\n",
    "\n",
    "- Store the correct member name value in `pinkLemonadeMaxMemberName`.\n",
    "- Store the correct number of recipes in `pinkLemonadeMaxNumber`.\n",
    "- You may use a hard-coded string for \"Pink Lemonade\", but not for member names."
   ]
  },
  {
   "cell_type": "code",
   "execution_count": 94,
   "metadata": {
    "colab": {
     "base_uri": "https://localhost:8080/"
    },
    "executionInfo": {
     "elapsed": 19,
     "status": "ok",
     "timestamp": 1760201609810,
     "user": {
      "displayName": "Colleen Miller",
      "userId": "13318505713755673453"
     },
     "user_tz": 240
    },
    "id": "pXMRatY4X72L",
    "outputId": "cdc58377-c603-4afb-9f6d-c0a8d6753da2"
   },
   "outputs": [
    {
     "name": "stdout",
     "output_type": "stream",
     "text": [
      "\n",
      "0\n",
      "\n",
      "0\n",
      "\n",
      "0\n"
     ]
    }
   ],
   "source": [
    "\n",
    "# Store the correct member name value in pinkLemonadeMaxMemberName\n",
    "\n",
    "# pinkLemonadeMaxMemberName = \"\"\n",
    "\n",
    "# Store the correct numer of recipes in pinkLemonadeMaxNumber\n",
    "\n",
    "pinkLemonadeMaxNumber = 0\n",
    "\n",
    "# Use a loop to dynamically determine which member made the most Pink Lemonade recipes (and how many)\n",
    "\n",
    "for name in memberNames:\n",
    "    if recipeCounts[name][\"Pink Lemonade\"] > pinkLemonadeMaxNumber:\n",
    "        pinkLemonadeMaxNumber = pinkLemonadeMaxNumber + recipeCounts[name][\"Pink Lemonade\"]\n",
    "        pinkLemonadeMaxMemberName = name\n",
    "\n",
    "    print(pinkLemonadeMaxMemberName)\n",
    "    print(pinkLemonadeMaxNumber)\n",
    "\n",
    "\n",
    "#### Is this coming out 0 because I didn't figure out section I.."
   ]
  },
  {
   "cell_type": "markdown",
   "metadata": {
    "id": "KndUVOILX72M"
   },
   "source": [
    "**Action:** How many total recipes combined did all the members make?  Store the value in a variable called `totalRecipes`."
   ]
  },
  {
   "cell_type": "code",
   "execution_count": 95,
   "metadata": {
    "colab": {
     "base_uri": "https://localhost:8080/"
    },
    "executionInfo": {
     "elapsed": 6,
     "status": "ok",
     "timestamp": 1760201611724,
     "user": {
      "displayName": "Colleen Miller",
      "userId": "13318505713755673453"
     },
     "user_tz": 240
    },
    "id": "OjHoVAEnX72M",
    "outputId": "d2cafa0e-71c5-4bd6-b6cc-094b68be1827"
   },
   "outputs": [
    {
     "name": "stdout",
     "output_type": "stream",
     "text": [
      "Combined, all members made 30 recipes.\n"
     ]
    }
   ],
   "source": [
    "# In a variable called totalRecipes, how many recipes combined did all the members make?\n",
    "\n",
    "totalRecipes = 0\n",
    "\n",
    "for name in memberNames:\n",
    "    for recipe in recipeCounts[name]:\n",
    "        totalRecipes = totalRecipes + recipeCounts[name][recipe]\n",
    "\n",
    "#output totalRecipes\n",
    "\n",
    "print(\"Combined, all members made \"+str(totalRecipes)+\" recipes.\")\n",
    "\n"
   ]
  },
  {
   "cell_type": "markdown",
   "metadata": {
    "id": "hx6LFZ1FX72M"
   },
   "source": [
    "## Part K - The Final Results\n",
    "\n",
    "To achieve points in this part, you must have previously determined the correct results/numbers.\n",
    "\n",
    "**Action:** Execute the following code block to report the final results."
   ]
  },
  {
   "cell_type": "code",
   "execution_count": 96,
   "metadata": {
    "colab": {
     "base_uri": "https://localhost:8080/"
    },
    "executionInfo": {
     "elapsed": 6,
     "status": "ok",
     "timestamp": 1760201619246,
     "user": {
      "displayName": "Colleen Miller",
      "userId": "13318505713755673453"
     },
     "user_tz": 240
    },
    "id": "uXBo1abkX72M",
    "outputId": "11977f97-3143-4b82-fa4f-3cd050621825"
   },
   "outputs": [
    {
     "name": "stdout",
     "output_type": "stream",
     "text": [
      "All\tTotal Beans:\t\t\t\t5,848\n",
      "All\tTotal Recipes Made:\t\t\t30\n",
      "All\tTotal 'Lemon Line' Beans:\t\t137\n",
      "Alex\tTotal Beans:\t\t\t\t1,827\n",
      "Ben\tRoot Beer Float Recipes Made:\t\t0\n",
      "\tMost Pink Lemonade Recipes Made:\t0 (by )\n"
     ]
    }
   ],
   "source": [
    "# print the final results\n",
    "\n",
    "try:\n",
    "    print (\"All\\tTotal Beans:\\t\\t\\t\\t{:,}\".format (totalBeansAllMembers))\n",
    "except NameError:\n",
    "    print (\"Error: totalBeansAllMembers not found.\")\n",
    "\n",
    "try:\n",
    "    print (\"All\\tTotal Recipes Made:\\t\\t\\t{:,}\".format(totalRecipes))\n",
    "except NameError:\n",
    "    print (\"Error: totalRecipes not found.\")\n",
    "\n",
    "try:\n",
    "    print (\"All\\tTotal 'Lemon Line' Beans:\\t\\t{:,}\".format (totalLemonLimeAllMembers))\n",
    "except NameError:\n",
    "    print (\"Error: totalLemonLimeAllMembers not found.\")\n",
    "\n",
    "try:\n",
    "    print (\"Alex\\tTotal Beans:\\t\\t\\t\\t{:,}\".format(totalBeansAlex))\n",
    "except NameError:\n",
    "    print (\"Error: totalBeansAlex not found.\")\n",
    "\n",
    "try:\n",
    "    print (\"Ben\\tRoot Beer Float Recipes Made:\\t\\t{:,}\".format (numRootBeerFloats))\n",
    "except NameError:\n",
    "    print (\"Error: numRootBeerFloats not found.\")\n",
    "\n",
    "try:\n",
    "    print (\"\\tMost Pink Lemonade Recipes Made:\\t{:,} (by {})\".format (pinkLemonadeMaxNumber, pinkLemonadeMaxMemberName))\n",
    "except NameError:\n",
    "    print (\"Error: pinkLemonadeMaxNumber or pinkLemonadeMaxMemberName not found.\")"
   ]
  }
 ],
 "metadata": {
  "colab": {
   "provenance": []
  },
  "kernelspec": {
   "display_name": "Python [conda env:base] *",
   "language": "python",
   "name": "conda-base-py"
  },
  "language_info": {
   "codemirror_mode": {
    "name": "ipython",
    "version": 3
   },
   "file_extension": ".py",
   "mimetype": "text/x-python",
   "name": "python",
   "nbconvert_exporter": "python",
   "pygments_lexer": "ipython3",
   "version": "3.12.7"
  }
 },
 "nbformat": 4,
 "nbformat_minor": 4
}
