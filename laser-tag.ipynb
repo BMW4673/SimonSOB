{
 "cells": [
  {
   "cell_type": "markdown",
   "metadata": {},
   "source": [
    "# Putting It All Together (Laser Tag) (Starter)"
   ]
  },
  {
   "cell_type": "code",
   "execution_count": 14,
   "metadata": {
    "id": "Usoi4k3u29EZ"
   },
   "outputs": [],
   "source": [
    "# Player Names\n",
    "red_team_players = [ \"Einstein\",  \"Bond\",  \"Spock\",  \"Noob\",  \"Snake\",  \"Pineapple\",  \"Kirk\",  \"Worf\",  \"Bean\",  \"Mabel\" ]\n",
    "green_team_players = [ \"Cupcake\",  \"Boss Level\",  \"Pudding\",  \"Watermelon\",  \"Ham Sandwich\",  \"Hot Sauce\",  \"Jelly Bean\",  \"Rambo\",  \"Weasley\",  \"Sherlock\" ]\n",
    "\n",
    "# Red Player Scores for Games 1-8\n",
    "red_player_scores = [\n",
    "        [ 32645, 43254, 30085, 27778, 34794, 22655, 32973, 22573, 52667, 22427 ],\n",
    "        [ 44130, 40428, 20832, 34975, 36619, 36397, 31588, 42207, 14973, 21269 ],\n",
    "        [ 32163, 53576, 26532, 28946, 11174, 11714, 27134, 30225, 23268, 26403 ],\n",
    "        [ 21929, 49045, 38619, 25720, 22744, 53698, 30021, 37116, 24387, 47893 ],\n",
    "        [ 55633, 24876, 32801, 20512, 47961, 23739, 37963, 25277, 22272, 33279 ],\n",
    "        [ 30177, 19649, 31110, 15494, 33072, 42076, 41820, 31452, 33373, 42131 ],\n",
    "        [ 31759, 31375, 31975, 24144, 24347, 30379, 36231, 24711, 41653, 38181 ],\n",
    "        [ 35060, 15172, 42249, 17547, 12911, 17610, 19106, 29184, 29837, 28373 ]\n",
    "    ]\n",
    "\n",
    "# Green Player Scores for Games 1-8\n",
    "green_player_scores = [\n",
    "        [ 24548, 36897, 37525, 56700, 32273, 33940, 20613, 28572, 33729, 35685 ],\n",
    "        [ 39750, 44572, 6245, 36579, 37148, 31459, 46677, 35618, 35141, 35239 ],\n",
    "        [ 36341, 37177, 38622, 42036, 23647, 45705, 36379, 26774, 23467, 33767 ],\n",
    "        [ 29791, 22841, 36018, 39865, 20988, 31962, 13360, 31564, 28691, 33899 ],\n",
    "        [ 17418, 35085, 29004, 11515, 25331, 26541, 32692, 33534, 42084, 23517 ],\n",
    "        [ 38350, 9773, 40169, 36308, 24686, 36011, 29035, 21147, 43224, 36988 ],\n",
    "        [ 42046, 31046, 44619, 25441, 35483, 36049, 19678, 25663, 38857, 36171 ],\n",
    "        [ 37927, 27397, 33541, 52990, 15259, 29571, 31181, 22372, 26975, 34130 ]\n",
    "    ]"
   ]
  },
  {
   "cell_type": "markdown",
   "metadata": {},
   "source": [
    "Part A: Team Roster Dashboard Prototype"
   ]
  },
  {
   "cell_type": "code",
   "execution_count": 57,
   "metadata": {},
   "outputs": [],
   "source": [
    "#Determine the number of players on the Green Team.\n",
    "num_green_players = len(green_team_players)\n",
    "num_red_players = len(red_team_players)"
   ]
  },
  {
   "cell_type": "code",
   "execution_count": 73,
   "metadata": {},
   "outputs": [
    {
     "name": "stdout",
     "output_type": "stream",
     "text": [
      "Part A: Team Roster Dashboard Prototype\n",
      " ---------------------------------------\n",
      " \n",
      "The Green Team has 10 players.\n",
      "\n",
      "Player\t\tName\n",
      "------\t\t----\n",
      "1\t\tCupcake\n",
      "2\t\tBoss Level\n",
      "3\t\tPudding\n",
      "4\t\tWatermelon\n",
      "5\t\tHam Sandwich\n",
      "6\t\tHot Sauce\n",
      "7\t\tJelly Bean\n",
      "8\t\tRambo\n",
      "9\t\tWeasley\n",
      "10\t\tSherlock\n",
      "\n",
      "The Red Team has 10 players.\n",
      "\n",
      "Player\t\tName\n",
      "------\t\t----\n",
      "1\t\tEinstein\n",
      "2\t\tBond\n",
      "3\t\tSpock\n",
      "4\t\tNoob\n",
      "5\t\tSnake\n",
      "6\t\tPineapple\n",
      "7\t\tKirk\n",
      "8\t\tWorf\n",
      "9\t\tBean\n",
      "10\t\tMabel\n"
     ]
    }
   ],
   "source": [
    "#Generate example output dynamically\n",
    "print(\n",
    "    f\"Part A: Team Roster Dashboard Prototype\\n\",\n",
    "    f\"---------------------------------------\\n\",\n",
    "    f\"\\n\"\n",
    "    f\"The Green Team has {num_green_players} players.\\n\"\n",
    "    f\"\\n\"\n",
    "    f\"Player\\t\\tName\\n\"\n",
    "    f\"------\\t\\t----\"\n",
    ")\n",
    "for index, name in enumerate(green_team_players, start = 1):\n",
    "    print(f\"{index}\\t\\t{name}\")\n",
    "\n",
    "print(\n",
    "    f\"\\n\"\n",
    "    f\"The Red Team has {num_red_players} players.\\n\"\n",
    "    f\"\\n\"\n",
    "    f\"Player\\t\\tName\\n\"\n",
    "    f\"------\\t\\t----\"\n",
    ")\n",
    "for index, name in enumerate(red_team_players, start = 1):\n",
    "    print(f\"{index}\\t\\t{name}\")"
   ]
  },
  {
   "cell_type": "markdown",
   "metadata": {},
   "source": [
    "Part B: Game Summary Dashboard Protoype"
   ]
  },
  {
   "cell_type": "code",
   "execution_count": 83,
   "metadata": {},
   "outputs": [],
   "source": [
    "#Create lists for each team\n",
    "green_team_scores = []\n",
    "red_team_scores = []"
   ]
  },
  {
   "cell_type": "code",
   "execution_count": 85,
   "metadata": {},
   "outputs": [],
   "source": [
    "#Calculate the total points scored by the Green Team. Store these values in green_team_scores. Do the same for Red Team in red_team_scores.\n",
    "\n",
    "for game_scores in green_player_scores:\n",
    "    total = 0\n",
    "    for score in game_scores:\n",
    "        total += score\n",
    "    green_team_scores.append(total)\n",
    "\n",
    "for game_scores in red_player_scores:\n",
    "    total=0\n",
    "    for score in game_scores:\n",
    "        total+= score\n",
    "    red_team_scores.append(total)"
   ]
  },
  {
   "cell_type": "code",
   "execution_count": 232,
   "metadata": {},
   "outputs": [
    {
     "name": "stdout",
     "output_type": "stream",
     "text": [
      "Part B: Game Summary Dashboard Protoype A\n",
      " -----------------------------------------\n",
      " \n",
      " Game\t\tGreen\t\tRed\n",
      " -----\t\t-----\t\t---\n",
      " 1\t\t340,482\t\t321,851\n",
      " 2\t\t348,428\t\t323,418\n",
      " 3\t\t343,915\t\t271,135\n",
      " 4\t\t288,979\t\t351,172\n",
      " 5\t\t276,721\t\t324,313\n",
      " 6\t\t315,691\t\t320,354\n",
      " 7\t\t335,053\t\t314,755\n",
      " 8\t\t311,343\t\t247,049\n"
     ]
    }
   ],
   "source": [
    "#Generate example output dynamically\n",
    "print(\n",
    "    f\"Part B: Game Summary Dashboard Protoype A\\n\",\n",
    "    f\"-----------------------------------------\\n\",\n",
    "    f\"\\n\"    \n",
    "    f\" Game\\t\\tGreen\\t\\tRed\\n\",\n",
    "    f\"-----\\t\\t-----\\t\\t---\"\n",
    ")\n",
    "for game in range(len(green_team_scores)):\n",
    "    print(f\" {game+1}\\t\\t{green_team_scores[game]:,}\\t\\t{red_team_scores[game]:,}\")"
   ]
  },
  {
   "cell_type": "markdown",
   "metadata": {},
   "source": [
    "Part C: Game Summary Dashboard Prototype B"
   ]
  },
  {
   "cell_type": "code",
   "execution_count": 234,
   "metadata": {},
   "outputs": [
    {
     "name": "stdout",
     "output_type": "stream",
     "text": [
      "Part C: Game Summary Dashboard Prototype B\n",
      " ------------------------------------------\n",
      " \n",
      " =======================================================================\n",
      " | Game\t|\tGreen\t|\tRed\t|\tTotal\t|\tWinner\t|\n",
      " =======================================================================\n",
      "|  0\t|\t340,482\t|\t321,851\t|\t662,333\t|\tGreen\t|\t\n",
      " -----------------------------------------------------------------------\n",
      "|  1\t|\t348,428\t|\t323,418\t|\t671,846\t|\tGreen\t|\t\n",
      " -----------------------------------------------------------------------\n",
      "|  2\t|\t343,915\t|\t271,135\t|\t615,050\t|\tGreen\t|\t\n",
      " -----------------------------------------------------------------------\n",
      "|  3\t|\t288,979\t|\t351,172\t|\t640,151\t|\tRed\t|\t\n",
      " -----------------------------------------------------------------------\n",
      "|  4\t|\t276,721\t|\t324,313\t|\t601,034\t|\tRed\t|\t\n",
      " -----------------------------------------------------------------------\n",
      "|  5\t|\t315,691\t|\t320,354\t|\t636,045\t|\tRed\t|\t\n",
      " -----------------------------------------------------------------------\n",
      "|  6\t|\t335,053\t|\t314,755\t|\t649,808\t|\tGreen\t|\t\n",
      " -----------------------------------------------------------------------\n",
      "|  7\t|\t311,343\t|\t247,049\t|\t558,392\t|\tGreen\t|\t\n",
      " -----------------------------------------------------------------------\n"
     ]
    }
   ],
   "source": [
    "#Import tabulate package\n",
    "from tabulate import tabulate\n",
    "\n",
    "#Part C: Game Summary Dashboard Prototype B\n",
    "print(\n",
    "    f\"Part C: Game Summary Dashboard Prototype B\\n\",\n",
    "    f\"------------------------------------------\\n\",\n",
    "    f\"\\n\",\n",
    "    f\"=======================================================================\\n\",\n",
    "    f\"| Game\\t|\\tGreen\\t|\\tRed\\t|\\tTotal\\t|\\tWinner\\t|\\n\",\n",
    "    f\"=======================================================================\"\n",
    ")\n",
    "\n",
    "for game in range(len(green_team_scores)):\n",
    "    green = green_team_scores[game]\n",
    "    red = red_team_scores[game]\n",
    "    total = green + red\n",
    "    winner = \"Green\" if green > red else \"Red\"\n",
    "    print(f\"|  {game}\\t|\\t{green:,}\\t|\\t{red:,}\\t|\\t{total:,}\\t|\\t{winner}\\t|\\t\\n\",\n",
    "    \"-----------------------------------------------------------------------\",\n",
    ")"
   ]
  },
  {
   "cell_type": "code",
   "execution_count": 142,
   "metadata": {},
   "outputs": [],
   "source": [
    "# Using loop iterate once for each game played determining which team one storing results and calculating total score.\n",
    "game_winners = []\n",
    "games_total_points = []\n",
    "\n",
    "for winners in range(len(green_team_scores)):\n",
    "    total_points = green_team_scores[winners] + red_team_scores[winners]\n",
    "    games_total_points.append(total_points)\n",
    "\n",
    "    if green_team_scores[winners] > red_team_scores[winners]:\n",
    "         game_winners.append(\"Green\"),\n",
    "    elif green_team_scores[winners] < red_team_scores[winners]:\n",
    "        game_winners.append(\"Red\"),\n",
    "    else: game_winners.append(\"Tie\")"
   ]
  },
  {
   "cell_type": "markdown",
   "metadata": {},
   "source": [
    "Part D: Green Team Post-Game Dashboard Prototype"
   ]
  },
  {
   "cell_type": "code",
   "execution_count": 250,
   "metadata": {},
   "outputs": [
    {
     "name": "stdout",
     "output_type": "stream",
     "text": [
      "['In', 'Out', '_', '_1', '_100', '_102', '_104', '_106', '_108', '_11', '_110', '_112', '_114', '_116', '_118', '_120', '_121', '_123', '_125', '_127', '_129', '_13', '_131', '_133', '_135', '_137', '_139', '_141', '_143', '_145', '_147', '_149', '_15', '_150', '_152', '_154', '_156', '_158', '_160', '_162', '_164', '_166', '_168', '_17', '_170', '_172', '_174', '_176', '_178', '_18', '_180', '_182', '_184', '_186', '_188', '_190', '_192', '_194', '_196', '_198', '_20', '_200', '_202', '_204', '_206', '_208', '_210', '_212', '_214', '_216', '_218', '_22', '_220', '_221', '_223', '_225', '_227', '_229', '_23', '_231', '_233', '_235', '_237', '_239', '_24', '_241', '_243', '_245', '_247', '_249', '_26', '_28', '_3', '_30', '_32', '_34', '_36', '_38', '_4', '_40', '_42', '_44', '_46', '_48', '_5', '_50', '_52', '_54', '_56', '_58', '_60', '_62', '_64', '_66', '_68', '_7', '_70', '_72', '_74', '_75', '_76', '_78', '_80', '_82', '_84', '_86', '_88', '_9', '_90', '_92', '_94', '_96', '_98', '__', '___', '__builtin__', '__builtins__', '__doc__', '__loader__', '__name__', '__package__', '__pandas', '__session__', '__spec__', '_dh', '_i', '_i1', '_i10', '_i100', '_i101', '_i102', '_i103', '_i104', '_i105', '_i106', '_i107', '_i108', '_i109', '_i11', '_i110', '_i111', '_i112', '_i113', '_i114', '_i115', '_i116', '_i117', '_i118', '_i119', '_i12', '_i120', '_i121', '_i122', '_i123', '_i124', '_i125', '_i126', '_i127', '_i128', '_i129', '_i13', '_i130', '_i131', '_i132', '_i133', '_i134', '_i135', '_i136', '_i137', '_i138', '_i139', '_i14', '_i140', '_i141', '_i142', '_i143', '_i144', '_i145', '_i146', '_i147', '_i148', '_i149', '_i15', '_i150', '_i151', '_i152', '_i153', '_i154', '_i155', '_i156', '_i157', '_i158', '_i159', '_i16', '_i160', '_i161', '_i162', '_i163', '_i164', '_i165', '_i166', '_i167', '_i168', '_i169', '_i17', '_i170', '_i171', '_i172', '_i173', '_i174', '_i175', '_i176', '_i177', '_i178', '_i179', '_i18', '_i180', '_i181', '_i182', '_i183', '_i184', '_i185', '_i186', '_i187', '_i188', '_i189', '_i19', '_i190', '_i191', '_i192', '_i193', '_i194', '_i195', '_i196', '_i197', '_i198', '_i199', '_i2', '_i20', '_i200', '_i201', '_i202', '_i203', '_i204', '_i205', '_i206', '_i207', '_i208', '_i209', '_i21', '_i210', '_i211', '_i212', '_i213', '_i214', '_i215', '_i216', '_i217', '_i218', '_i219', '_i22', '_i220', '_i221', '_i222', '_i223', '_i224', '_i225', '_i226', '_i227', '_i228', '_i229', '_i23', '_i230', '_i231', '_i232', '_i233', '_i234', '_i235', '_i236', '_i237', '_i238', '_i239', '_i24', '_i240', '_i241', '_i242', '_i243', '_i244', '_i245', '_i246', '_i247', '_i248', '_i249', '_i25', '_i250', '_i26', '_i27', '_i28', '_i29', '_i3', '_i30', '_i31', '_i32', '_i33', '_i34', '_i35', '_i36', '_i37', '_i38', '_i39', '_i4', '_i40', '_i41', '_i42', '_i43', '_i44', '_i45', '_i46', '_i47', '_i48', '_i49', '_i5', '_i50', '_i51', '_i52', '_i53', '_i54', '_i55', '_i56', '_i57', '_i58', '_i59', '_i6', '_i60', '_i61', '_i62', '_i63', '_i64', '_i65', '_i66', '_i67', '_i68', '_i69', '_i7', '_i70', '_i71', '_i72', '_i73', '_i74', '_i75', '_i76', '_i77', '_i78', '_i79', '_i8', '_i80', '_i81', '_i82', '_i83', '_i84', '_i85', '_i86', '_i87', '_i88', '_i89', '_i9', '_i90', '_i91', '_i92', '_i93', '_i94', '_i95', '_i96', '_i97', '_i98', '_i99', '_ih', '_ii', '_iii', '_oh', 'all_stars', 'dataframe_columns', 'dataframe_hash', 'dtypes_str', 'exit', 'game', 'game_scores', 'game_winners', 'games_total_points', 'get_dataframes', 'get_ipython', 'getpass', 'green', 'green_player_scores', 'green_player_total_points', 'green_team_average_score', 'green_team_players', 'green_team_scores', 'green_team_win_percentage', 'hashlib', 'import_pandas_safely', 'index', 'is_data_frame', 'json', 'mvp', 'mvp_total_points', 'name', 'num_games_won_by_green_team', 'num_green_players', 'num_red_players', 'open', 'quit', 'red', 'red_player_scores', 'red_team_players', 'red_team_scores', 'score', 'tabulate', 'total', 'total_points', 'winner', 'winners']\n"
     ]
    }
   ],
   "source": [
    "print(dir())"
   ]
  },
  {
   "cell_type": "code",
   "execution_count": 248,
   "metadata": {},
   "outputs": [
    {
     "ename": "NameError",
     "evalue": "name 'games_winners' is not defined",
     "output_type": "error",
     "traceback": [
      "\u001b[0;31m---------------------------------------------------------------------------\u001b[0m",
      "\u001b[0;31mNameError\u001b[0m                                 Traceback (most recent call last)",
      "Cell \u001b[0;32mIn[248], line 15\u001b[0m\n\u001b[1;32m     12\u001b[0m mvp \u001b[38;5;241m=\u001b[39m \u001b[38;5;241m0\u001b[39m\n\u001b[1;32m     13\u001b[0m mvp_total_points \u001b[38;5;241m=\u001b[39m \u001b[38;5;241m0\u001b[39m\n\u001b[0;32m---> 15\u001b[0m \u001b[38;5;28;01mfor\u001b[39;00m winner \u001b[38;5;129;01min\u001b[39;00m games_winners:\n\u001b[1;32m     16\u001b[0m     \u001b[38;5;28;01mif\u001b[39;00m winner \u001b[38;5;241m==\u001b[39m \u001b[38;5;124m\"\u001b[39m\u001b[38;5;124mGreen\u001b[39m\u001b[38;5;124m\"\u001b[39m:\n\u001b[1;32m     17\u001b[0m         num_games_won_by_green_team \u001b[38;5;241m+\u001b[39m\u001b[38;5;241m=\u001b[39m \u001b[38;5;241m1\u001b[39m\n",
      "\u001b[0;31mNameError\u001b[0m: name 'games_winners' is not defined"
     ]
    }
   ],
   "source": [
    "#Calculate for Green Team:\n",
    "#games won, win percent, average score by game,\n",
    "#total individual points scored for each player across all games\n",
    "#All Stars average 30,000 points per game\n",
    "#MVP from highest scoring player name and score from all games played\n",
    "\n",
    "num_games_won_by_green_team = 0\n",
    "green_team_win_percentage = 0\n",
    "green_team_average_score = 0\n",
    "green_player_total_points = 0\n",
    "all_stars = []\n",
    "mvp = 0\n",
    "mvp_total_points = 0\n",
    "\n",
    "for winner in games_winners:\n",
    "    if winner == \"Green\":\n",
    "        num_games_won_by_green_team += 1\n",
    "\n",
    "num_games = len(green_team_scores)\n",
    "\n",
    "green_team_win_percentage = (num_games_won_by_green_team / num_games) * 100"
   ]
  },
  {
   "cell_type": "code",
   "execution_count": null,
   "metadata": {},
   "outputs": [],
   "source": []
  }
 ],
 "metadata": {
  "colab": {
   "authorship_tag": "ABX9TyP9vwJYu0V7Qsh2nS0EAHsf",
   "provenance": []
  },
  "kernelspec": {
   "display_name": "Python [conda env:base] *",
   "language": "python",
   "name": "conda-base-py"
  },
  "language_info": {
   "codemirror_mode": {
    "name": "ipython",
    "version": 3
   },
   "file_extension": ".py",
   "mimetype": "text/x-python",
   "name": "python",
   "nbconvert_exporter": "python",
   "pygments_lexer": "ipython3",
   "version": "3.12.7"
  }
 },
 "nbformat": 4,
 "nbformat_minor": 4
}
