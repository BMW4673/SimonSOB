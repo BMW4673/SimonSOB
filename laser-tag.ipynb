{
 "cells": [
  {
   "cell_type": "markdown",
   "metadata": {},
   "source": [
    "# Putting It All Together (Laser Tag) (Starter)"
   ]
  },
  {
   "cell_type": "code",
   "execution_count": 173,
   "metadata": {
    "id": "Usoi4k3u29EZ"
   },
   "outputs": [],
   "source": [
    "# Player Names\n",
    "red_team_players = [ \"Einstein\",  \"Bond\",  \"Spock\",  \"Noob\",  \"Snake\",  \"Pineapple\",  \"Kirk\",  \"Worf\",  \"Bean\",  \"Mabel\" ]\n",
    "green_team_players = [ \"Cupcake\",  \"Boss Level\",  \"Pudding\",  \"Watermelon\",  \"Ham Sandwich\",  \"Hot Sauce\",  \"Jelly Bean\",  \"Rambo\",  \"Weasley\",  \"Sherlock\" ]\n",
    "\n",
    "# Red Player Scores for Games 1-8\n",
    "red_player_scores = [\n",
    "        [ 32645, 43254, 30085, 27778, 34794, 22655, 32973, 22573, 52667, 22427 ],\n",
    "        [ 44130, 40428, 20832, 34975, 36619, 36397, 31588, 42207, 14973, 21269 ],\n",
    "        [ 32163, 53576, 26532, 28946, 11174, 11714, 27134, 30225, 23268, 26403 ],\n",
    "        [ 21929, 49045, 38619, 25720, 22744, 53698, 30021, 37116, 24387, 47893 ],\n",
    "        [ 55633, 24876, 32801, 20512, 47961, 23739, 37963, 25277, 22272, 33279 ],\n",
    "        [ 30177, 19649, 31110, 15494, 33072, 42076, 41820, 31452, 33373, 42131 ],\n",
    "        [ 31759, 31375, 31975, 24144, 24347, 30379, 36231, 24711, 41653, 38181 ],\n",
    "        [ 35060, 15172, 42249, 17547, 12911, 17610, 19106, 29184, 29837, 28373 ]\n",
    "    ]\n",
    "\n",
    "# Green Player Scores for Games 1-8\n",
    "green_player_scores = [\n",
    "        [ 24548, 36897, 37525, 56700, 32273, 33940, 20613, 28572, 33729, 35685 ],\n",
    "        [ 39750, 44572, 6245, 36579, 37148, 31459, 46677, 35618, 35141, 35239 ],\n",
    "        [ 36341, 37177, 38622, 42036, 23647, 45705, 36379, 26774, 23467, 33767 ],\n",
    "        [ 29791, 22841, 36018, 39865, 20988, 31962, 13360, 31564, 28691, 33899 ],\n",
    "        [ 17418, 35085, 29004, 11515, 25331, 26541, 32692, 33534, 42084, 23517 ],\n",
    "        [ 38350, 9773, 40169, 36308, 24686, 36011, 29035, 21147, 43224, 36988 ],\n",
    "        [ 42046, 31046, 44619, 25441, 35483, 36049, 19678, 25663, 38857, 36171 ],\n",
    "        [ 37927, 27397, 33541, 52990, 15259, 29571, 31181, 22372, 26975, 34130 ]\n",
    "    ]"
   ]
  },
  {
   "cell_type": "markdown",
   "metadata": {},
   "source": [
    "Part A: Team Roster Dashboard Prototype"
   ]
  },
  {
   "cell_type": "code",
   "execution_count": 176,
   "metadata": {},
   "outputs": [],
   "source": [
    "#Determine the number of players on the Green Team.\n",
    "num_green_players = len(green_team_players)\n",
    "num_red_players = len(red_team_players)"
   ]
  },
  {
   "cell_type": "code",
   "execution_count": 178,
   "metadata": {},
   "outputs": [
    {
     "name": "stdout",
     "output_type": "stream",
     "text": [
      "Part A: Team Roster Dashboard Prototype\n",
      " ---------------------------------------\n",
      " \n",
      "The Green Team has 10 players.\n",
      "\n",
      "Player\t\tName\n",
      "------\t\t----\n",
      "1\t\tCupcake\n",
      "2\t\tBoss Level\n",
      "3\t\tPudding\n",
      "4\t\tWatermelon\n",
      "5\t\tHam Sandwich\n",
      "6\t\tHot Sauce\n",
      "7\t\tJelly Bean\n",
      "8\t\tRambo\n",
      "9\t\tWeasley\n",
      "10\t\tSherlock\n",
      "\n",
      "The Red Team has 10 players.\n",
      "\n",
      "Player\t\tName\n",
      "------\t\t----\n",
      "1\t\tEinstein\n",
      "2\t\tBond\n",
      "3\t\tSpock\n",
      "4\t\tNoob\n",
      "5\t\tSnake\n",
      "6\t\tPineapple\n",
      "7\t\tKirk\n",
      "8\t\tWorf\n",
      "9\t\tBean\n",
      "10\t\tMabel\n"
     ]
    }
   ],
   "source": [
    "#Generate example output dynamically\n",
    "\n",
    "#Print grean team header\n",
    "print(\n",
    "    f\"Part A: Team Roster Dashboard Prototype\\n\",\n",
    "    f\"---------------------------------------\\n\",\n",
    "    f\"\\n\"\n",
    "    f\"The Green Team has {num_green_players} players.\\n\"\n",
    "    f\"\\n\"\n",
    "    f\"Player\\t\\tName\\n\"\n",
    "    f\"------\\t\\t----\"\n",
    ")\n",
    "\n",
    "#Loop over index to add green team names\n",
    "for index, name in enumerate(green_team_players, start = 1):\n",
    "    print(f\"{index}\\t\\t{name}\")\n",
    "\n",
    "#Print read team header\n",
    "print(\n",
    "    f\"\\n\"\n",
    "    f\"The Red Team has {num_red_players} players.\\n\"\n",
    "    f\"\\n\"\n",
    "    f\"Player\\t\\tName\\n\"\n",
    "    f\"------\\t\\t----\"\n",
    ")\n",
    "\n",
    "#loop over index to add red team names\n",
    "for index, name in enumerate(red_team_players, start = 1):\n",
    "    print(f\"{index}\\t\\t{name}\")"
   ]
  },
  {
   "cell_type": "markdown",
   "metadata": {},
   "source": [
    "Part B: Game Summary Dashboard Protoype"
   ]
  },
  {
   "cell_type": "code",
   "execution_count": 181,
   "metadata": {},
   "outputs": [],
   "source": [
    "#Create lists for each team\n",
    "\n",
    "green_team_scores = []\n",
    "red_team_scores = []"
   ]
  },
  {
   "cell_type": "code",
   "execution_count": 183,
   "metadata": {},
   "outputs": [],
   "source": [
    "#Calculate the total points scored by the Green Team. Store these values in green_team_scores. Do the same for Red Team in red_team_scores.\n",
    "\n",
    "#loop over game scores adding to team score for green players\n",
    "for game_scores in green_player_scores:\n",
    "    total = 0\n",
    "    for score in game_scores:\n",
    "        total += score\n",
    "    green_team_scores.append(total)\n",
    "\n",
    "#loop over game scores adding to team score for red players\n",
    "for game_scores in red_player_scores:\n",
    "    total=0\n",
    "    for score in game_scores:\n",
    "        total+= score\n",
    "    red_team_scores.append(total)"
   ]
  },
  {
   "cell_type": "code",
   "execution_count": 185,
   "metadata": {},
   "outputs": [
    {
     "name": "stdout",
     "output_type": "stream",
     "text": [
      "Part B: Game Summary Dashboard Protoype A\n",
      "------------------------------------------\n",
      "Game\t\tGreen\t\tRed\n",
      "-----\t\t-----\t\t---\n",
      "1\t\t340,482\t\t321,851\n",
      "2\t\t348,428\t\t323,418\n",
      "3\t\t343,915\t\t271,135\n",
      "4\t\t288,979\t\t351,172\n",
      "5\t\t276,721\t\t324,313\n",
      "6\t\t315,691\t\t320,354\n",
      "7\t\t335,053\t\t314,755\n",
      "8\t\t311,343\t\t247,049\n"
     ]
    }
   ],
   "source": [
    "#Generate example output dynamically\n",
    "\n",
    "#Print header\n",
    "print(f\"Part B: Game Summary Dashboard Protoype A\")\n",
    "print(f\"-\" * 42)\n",
    "print(f\"Game\\t\\tGreen\\t\\tRed\")\n",
    "print(f\"-----\\t\\t-----\\t\\t---\")\n",
    "\n",
    "#loop over game withing table length to list scores. Add 1 to game to start at 1, not 0\n",
    "for game in range(len(green_team_scores)):\n",
    "    print(f\"{game+1}\\t\\t{green_team_scores[game]:,}\\t\\t{red_team_scores[game]:,}\")"
   ]
  },
  {
   "cell_type": "markdown",
   "metadata": {},
   "source": [
    "Part C: Game Summary Dashboard Prototype B"
   ]
  },
  {
   "cell_type": "code",
   "execution_count": 188,
   "metadata": {},
   "outputs": [
    {
     "name": "stdout",
     "output_type": "stream",
     "text": [
      "Part C: Game Summary Dashboard Prototype B\n",
      "------------------------------------------\n",
      "\n",
      "=================================================================\n",
      "| Game\t| Green\t\t| Red\t\t| Total\t\t| Winner|\n",
      "=================================================================\n",
      "| 1\t| 340,482\t| 321,851\t| 662,333\t| Green\t|\n",
      "| 2\t| 348,428\t| 323,418\t| 671,846\t| Green\t|\n",
      "| 3\t| 343,915\t| 271,135\t| 615,050\t| Green\t|\n",
      "| 4\t| 288,979\t| 351,172\t| 640,151\t| Red\t|\n",
      "| 5\t| 276,721\t| 324,313\t| 601,034\t| Red\t|\n",
      "| 6\t| 315,691\t| 320,354\t| 636,045\t| Red\t|\n",
      "| 7\t| 335,053\t| 314,755\t| 649,808\t| Green\t|\n",
      "| 8\t| 311,343\t| 247,049\t| 558,392\t| Green\t|\n",
      "=================================================================\n"
     ]
    }
   ],
   "source": [
    "#Part C: Game Summary Dashboard Prototype B\n",
    "\n",
    "#Print header\n",
    "print(f\"Part C: Game Summary Dashboard Prototype B\")\n",
    "print(\"-\" * 42)\n",
    "print()\n",
    "print(\"=\" * 65)\n",
    "print(f\"| Game\\t| Green\\t\\t| Red\\t\\t| Total\\t\\t| Winner|\")\n",
    "print(\"=\" * 65)\n",
    "\n",
    "#Loop over game the number of instances within scores, evaluating who won\n",
    "for game in range(len(green_team_scores)):\n",
    "    green = green_team_scores[game]\n",
    "    red = red_team_scores[game]\n",
    "    total = green + red\n",
    "    winner = \"Green\" if green > red else \"Red\"\n",
    "\n",
    "    print(f\"| {game+1}\\t| {green:,}\\t| {red:,}\\t| {total:,}\\t| {winner}\\t|\")\n",
    "\n",
    "print(\"=\" * 65)"
   ]
  },
  {
   "cell_type": "code",
   "execution_count": 190,
   "metadata": {},
   "outputs": [],
   "source": [
    "#Using loop iterate once for each game played determining which team one storing results and calculating total score.\n",
    "\n",
    "#Define variables\n",
    "game_winners = []\n",
    "games_total_points = []\n",
    "\n",
    "#Loop 2 over number of scores to calculate total points and determining who won.\n",
    "for w in range(len(green_team_scores)):\n",
    "    total_points = green_team_scores[w] + red_team_scores[w]\n",
    "    games_total_points.append(total_points)\n",
    "\n",
    "    if green_team_scores[w] > red_team_scores[w]:\n",
    "         game_winners.append(\"Green\"),\n",
    "    elif green_team_scores[w] < red_team_scores[w]:\n",
    "        game_winners.append(\"Red\"),\n",
    "    else: game_winners.append(\"Tie\")"
   ]
  },
  {
   "cell_type": "markdown",
   "metadata": {},
   "source": [
    "Part D: Green Team Post-Game Dashboard Prototype"
   ]
  },
  {
   "cell_type": "code",
   "execution_count": 193,
   "metadata": {},
   "outputs": [
    {
     "name": "stdout",
     "output_type": "stream",
     "text": [
      "Part D: Green Team Post-Game Dashboard Prototype\n",
      "------------------------------------------------\n",
      "\n",
      "Number of players:\t\t10\n",
      "Games won:\t\t\t5 of 8 (62.5%)\n",
      "Average team score:\t\t320,076 points\n",
      "All-Stars:\t\t\tCupcake, Boss Level, Pudding, Watermelon, Hot Sauce, Weasley, Sherlock\n",
      "MVP:\t\t\t\tWatermelon (301,434 total points)\n"
     ]
    }
   ],
   "source": [
    "#Calculate for Green Team:\n",
    "#games won, win percent, average score by game,\n",
    "#total individual points scored for each player across all games\n",
    "#All Stars average 30,000 points per game\n",
    "#MVP from highest scoring player name and score from all games played\n",
    "\n",
    "#Define variables.\n",
    "num_games_won_by_green_team = 0\n",
    "green_team_win_percentage = 0\n",
    "green_team_average_score = 0\n",
    "green_player_total_points = 0\n",
    "all_stars = []\n",
    "mvp_name = \"\"\n",
    "mvp_total_points = 0\n",
    "\n",
    "#Loop through W separating win scores by team\n",
    "for w in game_winners:\n",
    "    if w == \"Green\":\n",
    "        num_games_won_by_green_team += 1\n",
    "\n",
    "#Calculate win metrics\n",
    "green_team_win_percentage = num_games_won_by_green_team / len(green_team_scores) * 100\n",
    "\n",
    "green_team_average_score = round(sum(green_team_scores) / len(green_team_scores))\n",
    "\n",
    "green_player_total_points = [sum(player_scores[player] for player_scores in green_player_scores)\n",
    "                             for player in range(len(green_player_scores[0]))]\n",
    "\n",
    "#Loop through players to find all_stars adding names to list\n",
    "for i in range(num_green_players):\n",
    "    if (green_player_total_points[i] / len(green_player_scores)) >= 30000:\n",
    "        all_stars.append(green_team_players[i])\n",
    "\n",
    "#Loop through players to find highest scoring MVP\n",
    "for i in range (num_green_players):\n",
    "    if green_player_total_points[i] > mvp_total_points:\n",
    "        mvp_total_points = green_player_total_points[i]\n",
    "        mvp_name = green_team_players[i]\n",
    "\n",
    "#Print header\n",
    "print(f\"Part D: Green Team Post-Game Dashboard Prototype\")\n",
    "print(f\"-\" * 48)\n",
    "print()\n",
    "\n",
    "#Print table - use loop within print function to list all_stars as string\n",
    "print(f\"Number of players:\\t\\t{num_green_players}\")\n",
    "print(f\"Games won:\\t\\t\\t{num_games_won_by_green_team} of {len(green_team_scores)} ({green_team_win_percentage:.1f}%)\")\n",
    "print(f\"Average team score:\\t\\t{green_team_average_score:,} points\")\n",
    "print(\"All-Stars:\\t\\t\\t\", end=\"\")\n",
    "for i in range(len(all_stars)):\n",
    "    if i < len(all_stars) - 1:\n",
    "        print(all_stars[i], end=\", \")\n",
    "    else:\n",
    "        print(all_stars[i])\n",
    "print(f\"MVP:\\t\\t\\t\\t{mvp_name} ({mvp_total_points:,} total points)\")\n"
   ]
  },
  {
   "cell_type": "markdown",
   "metadata": {},
   "source": [
    "Part E Player Summary Dashboard Prototype"
   ]
  },
  {
   "cell_type": "code",
   "execution_count": 196,
   "metadata": {},
   "outputs": [
    {
     "name": "stdout",
     "output_type": "stream",
     "text": [
      "Part E: Player Summary Dashboard Prototype\n",
      "-------------------------------------------------------\n",
      "\n",
      "Green Team\n",
      "\n",
      "+--------------+------------+------------+-----------+--------------+\n",
      "| Player       | Best       | Worst      | Average   | Total        |\n",
      "+==============+============+============+===========+==============+\n",
      "| Cupcake      | 42,046 (7) | 17,418 (5) | 33,271    | 266,17110.4% |\n",
      "+--------------+------------+------------+-----------+--------------+\n",
      "| Boss Level   | 44,572 (2) | 9,773 (6)  | 30,598    | 244,7889.6%  |\n",
      "+--------------+------------+------------+-----------+--------------+\n",
      "| Pudding      | 44,619 (7) | 6,245 (2)  | 33,218    | 265,74310.4% |\n",
      "+--------------+------------+------------+-----------+--------------+\n",
      "| Watermelon   | 56,700 (1) | 11,515 (5) | 37,679    | 301,43411.8% |\n",
      "+--------------+------------+------------+-----------+--------------+\n",
      "| Ham Sandwich | 37,148 (2) | 15,259 (8) | 26,852    | 214,8158.4%  |\n",
      "+--------------+------------+------------+-----------+--------------+\n",
      "| Hot Sauce    | 45,705 (3) | 26,541 (5) | 33,905    | 271,23810.6% |\n",
      "+--------------+------------+------------+-----------+--------------+\n",
      "| Jelly Bean   | 46,677 (2) | 13,360 (4) | 28,702    | 229,6159.0%  |\n",
      "+--------------+------------+------------+-----------+--------------+\n",
      "| Rambo        | 35,618 (2) | 21,147 (6) | 28,156    | 225,2448.8%  |\n",
      "+--------------+------------+------------+-----------+--------------+\n",
      "| Weasley      | 43,224 (6) | 23,467 (3) | 34,021    | 272,16810.6% |\n",
      "+--------------+------------+------------+-----------+--------------+\n",
      "| Sherlock     | 36,988 (6) | 23,517 (5) | 33,674    | 269,39610.5% |\n",
      "+--------------+------------+------------+-----------+--------------+\n"
     ]
    }
   ],
   "source": [
    "#With Tabulate package calculate the total number of points scored by the Green Team across all games.\n",
    "#For each player, determine player's best score, best game, worst score, worst game, average score, total number of points across all games, and percentage of Green Team points by each player.\n",
    "\n",
    "#import tabulate package and populate\n",
    "from tabulate import tabulate\n",
    "\n",
    "#print header\n",
    "print(\"Part E: Player Summary Dashboard Prototype\")\n",
    "print(\"-\" * 55)\n",
    "print(\"\\nGreen Team\\n\")\n",
    "\n",
    "#build table\n",
    "total_team_points = sum(green_player_total_points)\n",
    "\n",
    "player_table = []\n",
    "\n",
    "for i in range(num_green_players):\n",
    "    scores = [game[i] for game in green_player_scores]\n",
    "    best_score = max(scores)\n",
    "    best_game = scores.index(best_score) + 1\n",
    "    worst_score = min(scores)\n",
    "    worst_game = scores.index(worst_score) + 1\n",
    "    avg_score = sum(scores) / len(scores)\n",
    "    total_score = green_player_total_points[i]\n",
    "    percent = (total_score / total_team_points) * 100\n",
    "\n",
    "    player_table.append([\n",
    "    green_team_players[i],\n",
    "    f\"{best_score:,} ({best_game})\",\n",
    "    f\"{worst_score:,} ({worst_game})\",\n",
    "    f\"{avg_score:,.0f}\",\n",
    "    f\"{total_score:,}\"\n",
    "    f\"{percent:.1f}%\",\n",
    "])\n",
    "\n",
    "headers = [\"Player\", \"Best\", \"Worst\", \"Average\", \"Total\", \"Percent\"]\n",
    "\n",
    "#print table\n",
    "print(tabulate(player_table, headers = headers, tablefmt=\"grid\"))"
   ]
  }
 ],
 "metadata": {
  "colab": {
   "authorship_tag": "ABX9TyP9vwJYu0V7Qsh2nS0EAHsf",
   "provenance": []
  },
  "kernelspec": {
   "display_name": "Python [conda env:base] *",
   "language": "python",
   "name": "conda-base-py"
  },
  "language_info": {
   "codemirror_mode": {
    "name": "ipython",
    "version": 3
   },
   "file_extension": ".py",
   "mimetype": "text/x-python",
   "name": "python",
   "nbconvert_exporter": "python",
   "pygments_lexer": "ipython3",
   "version": "3.12.7"
  }
 },
 "nbformat": 4,
 "nbformat_minor": 4
}
