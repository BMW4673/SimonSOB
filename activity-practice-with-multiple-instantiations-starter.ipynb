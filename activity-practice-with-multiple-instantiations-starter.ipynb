{
 "cells": [
  {
   "cell_type": "markdown",
   "metadata": {},
   "source": [
    "# Activity - Practice with Multiple Instantiations (Starter)"
   ]
  },
  {
   "cell_type": "markdown",
   "metadata": {},
   "source": [
    "## Part A - Dog Class\n",
    "\n",
    "**Actions:**\n",
    "\n",
    "- Copy your `Dog` class (from Activity 3) in the cell below."
   ]
  },
  {
   "cell_type": "code",
   "execution_count": 12,
   "metadata": {},
   "outputs": [],
   "source": [
    "# Your implementation:\n",
    "class Dog:\n",
    "    def __init__(self, name):\n",
    "        self.name = name\n",
    "    def __repr__(self):\n",
    "        return \"Ruff! My name is {}.\".format (self.name)\n",
    "    def bar (self):\n",
    "        print(self.name + \": bark, bark, bark!\")\n",
    "        \n"
   ]
  },
  {
   "cell_type": "markdown",
   "metadata": {},
   "source": [
    "## Part B - Lots of Dogs\n",
    "\n",
    "**Actions:**\n",
    "\n",
    "- Create a `Dog` object for a dog named \"Archie\".\n",
    "- Store the created object in a variable named `archie`.\n",
    "- Create a `Dog` object for a dog named \"Homer\".\n",
    "- Store the created object in a variable named `homer`.\n",
    "- Create a `Dog` object for a dog named \"Audrey\".\n",
    "- Store the created object in a variable named `audrey`.\n",
    "- Print the following output using string formatting, accessing the `name` attibute for each object.\n",
    "\n",
    "```\n",
    "My dogs are Archie, Homer, and Audrey.\n",
    "```"
   ]
  },
  {
   "cell_type": "code",
   "execution_count": 15,
   "metadata": {},
   "outputs": [],
   "source": [
    "# Your implementation:\n",
    "\n",
    "archie = Dog (\"Archie\")\n",
    "homer = Dog (\"Homer\")\n",
    "audrey = Dog (\"Audrey\")"
   ]
  },
  {
   "cell_type": "code",
   "execution_count": 21,
   "metadata": {},
   "outputs": [
    {
     "name": "stdout",
     "output_type": "stream",
     "text": [
      "My dogs are Archie, Homer and Audrey.\n"
     ]
    }
   ],
   "source": [
    "s = \"My dogs are {}, {} and {}.\"\n",
    "\n",
    "print (s.format(archie.name, homer.name, audrey.name))"
   ]
  },
  {
   "cell_type": "code",
   "execution_count": 23,
   "metadata": {},
   "outputs": [],
   "source": [
    "dogNames = [\"Archie\", \"Homer\", \"Audrey\", \"Winnie\", \"Sammy\"]\n",
    "dogNames = tuple(dogNames)"
   ]
  },
  {
   "cell_type": "code",
   "execution_count": 43,
   "metadata": {},
   "outputs": [
    {
     "ename": "AttributeError",
     "evalue": "'Dog' object has no attribute 'bark'",
     "output_type": "error",
     "traceback": [
      "\u001b[0;31m---------------------------------------------------------------------------\u001b[0m",
      "\u001b[0;31mAttributeError\u001b[0m                            Traceback (most recent call last)",
      "Cell \u001b[0;32mIn[43], line 8\u001b[0m\n\u001b[1;32m      5\u001b[0m     dogs\u001b[38;5;241m.\u001b[39mappend (dog)\n\u001b[1;32m      7\u001b[0m \u001b[38;5;28;01mfor\u001b[39;00m dog \u001b[38;5;129;01min\u001b[39;00m dogs:\n\u001b[0;32m----> 8\u001b[0m     dog\u001b[38;5;241m.\u001b[39mbark()\n",
      "\u001b[0;31mAttributeError\u001b[0m: 'Dog' object has no attribute 'bark'"
     ]
    }
   ],
   "source": [
    "dogs = []\n",
    "\n",
    "for dogName in dogNames:\n",
    "    dog = Dog (dogName)\n",
    "    dogs.append (dog)\n",
    "\n",
    "for dog in dogs:\n",
    "    dog.bark()"
   ]
  },
  {
   "cell_type": "code",
   "execution_count": 39,
   "metadata": {},
   "outputs": [
    {
     "data": {
      "text/plain": [
       "[Ruff! My name is Archie.,\n",
       " Ruff! My name is Homer.,\n",
       " Ruff! My name is Audrey.,\n",
       " Ruff! My name is Winnie.,\n",
       " Ruff! My name is Sammy.]"
      ]
     },
     "execution_count": 39,
     "metadata": {},
     "output_type": "execute_result"
    }
   ],
   "source": [
    "dogs"
   ]
  },
  {
   "cell_type": "markdown",
   "metadata": {},
   "source": [
    "## Part C - Lots of Barking\n",
    "**Actions:**\n",
    "\n",
    "- Create a tuple containing five (5) dog names.\n",
    "- Iterate over the dog names.\n",
    "- Instantiate a `Dog` object for each one.\n",
    "- Call each `dog`'s bark method.\n",
    "- Example output (for Archie, Homer, Audrey, Winnie, and Sammy):\n",
    "\n",
    "```\n",
    "Archie: bark, bark, bark!\n",
    "Homer: bark, bark, bark!\n",
    "Audrey: bark, bark, bark!\n",
    "Winnie: bark, bark, bark!\n",
    "Sammy: bark, bark, bark!\n",
    "```"
   ]
  },
  {
   "cell_type": "code",
   "execution_count": null,
   "metadata": {},
   "outputs": [],
   "source": [
    "# Your implementation:\n",
    "\n"
   ]
  }
 ],
 "metadata": {
  "kernelspec": {
   "display_name": "Python [conda env:base] *",
   "language": "python",
   "name": "conda-base-py"
  },
  "language_info": {
   "codemirror_mode": {
    "name": "ipython",
    "version": 3
   },
   "file_extension": ".py",
   "mimetype": "text/x-python",
   "name": "python",
   "nbconvert_exporter": "python",
   "pygments_lexer": "ipython3",
   "version": "3.12.7"
  }
 },
 "nbformat": 4,
 "nbformat_minor": 4
}
