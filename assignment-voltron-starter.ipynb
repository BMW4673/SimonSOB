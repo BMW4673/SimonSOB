{
 "cells": [
  {
   "cell_type": "markdown",
   "metadata": {
    "slideshow": {
     "slide_type": "-"
    }
   },
   "source": [
    "# Skill-Building with Advanced Collections (Voltron) (Starter)"
   ]
  },
  {
   "cell_type": "markdown",
   "metadata": {},
   "source": [
    "## Part A\n",
    "**Action:** Create a list called `lionColorsList` that contains the colors for The Lions (Blue, Yellow, Green, Red, Black)."
   ]
  },
  {
   "cell_type": "code",
   "execution_count": 40,
   "metadata": {},
   "outputs": [],
   "source": [
    "# your implementation:\n",
    "\n",
    "lionColorsList = [\"Blue\", \"Yellow\", \"Green\", \"Red\", \"Black\"]"
   ]
  },
  {
   "cell_type": "markdown",
   "metadata": {},
   "source": [
    "**Action:** Print the value in `lionColorsList` to the screen."
   ]
  },
  {
   "cell_type": "code",
   "execution_count": 43,
   "metadata": {},
   "outputs": [
    {
     "name": "stdout",
     "output_type": "stream",
     "text": [
      "['Blue', 'Yellow', 'Green', 'Red', 'Black']\n"
     ]
    }
   ],
   "source": [
    "# your implementation:\n",
    "\n",
    "print(lionColorsList)"
   ]
  },
  {
   "cell_type": "markdown",
   "metadata": {},
   "source": [
    "**Action:** Convert `lionColorsList` into tuple and assign the value to a new variable called `lionColorsTuple`."
   ]
  },
  {
   "cell_type": "code",
   "execution_count": 46,
   "metadata": {},
   "outputs": [],
   "source": [
    "# your implementation:\n",
    "\n",
    "lionColorsTuple = tuple(lionColorsList)"
   ]
  },
  {
   "cell_type": "markdown",
   "metadata": {},
   "source": [
    "**Action:** Print the value in `lionColorsTuple` to the screen."
   ]
  },
  {
   "cell_type": "code",
   "execution_count": 49,
   "metadata": {},
   "outputs": [
    {
     "name": "stdout",
     "output_type": "stream",
     "text": [
      "('Blue', 'Yellow', 'Green', 'Red', 'Black')\n"
     ]
    }
   ],
   "source": [
    "# your implementation:\n",
    "\n",
    "print(lionColorsTuple)"
   ]
  },
  {
   "cell_type": "markdown",
   "metadata": {},
   "source": [
    "**Action:** Iterate over the items in `lionColorsTuple` in order to print each color on a separate line."
   ]
  },
  {
   "cell_type": "code",
   "execution_count": 52,
   "metadata": {},
   "outputs": [
    {
     "name": "stdout",
     "output_type": "stream",
     "text": [
      "Blue\n",
      "Yellow\n",
      "Green\n",
      "Red\n",
      "Black\n"
     ]
    }
   ],
   "source": [
    "# your implementation:\n",
    "\n",
    "for colors in lionColorsTuple:\n",
    "    print(colors)"
   ]
  },
  {
   "cell_type": "markdown",
   "metadata": {},
   "source": [
    "## Part B\n",
    "\n",
    "Near the beginning of the show, Shiro becomes Paladin of the Black Lion and wears the matching Black uniform color.  This data is captured in the variables in the following cell:"
   ]
  },
  {
   "cell_type": "code",
   "execution_count": 55,
   "metadata": {},
   "outputs": [],
   "source": [
    "# Black Paladin Data\n",
    "\n",
    "name = \"Shiro\"\n",
    "isPaladin = True\n",
    "uniformColor = lionColorsTuple [4]\n",
    "lionColor = lionColorsTuple [4]"
   ]
  },
  {
   "cell_type": "markdown",
   "metadata": {},
   "source": [
    "**Action:** Create a dictionary of key-value pairs based on the variables above and store in a variable called `blackPaladinData`.\n",
    "\n",
    "- For the key of each key-value pair, use the variable's name.\n",
    "- For the value of each key-value pair, reference the variable's value."
   ]
  },
  {
   "cell_type": "code",
   "execution_count": 58,
   "metadata": {},
   "outputs": [],
   "source": [
    "# Your implementation:\n",
    "\n",
    "blackPaladinData = {\"name\" : \"Shiro\", \"isPaladin\" : True, \"uniformColor\" : lionColorsTuple [4], \"lionColor\" : lionColorsTuple [4]}"
   ]
  },
  {
   "cell_type": "markdown",
   "metadata": {},
   "source": [
    "**Action:** Print out the entire dictionary in `blackPaladinData`."
   ]
  },
  {
   "cell_type": "code",
   "execution_count": 61,
   "metadata": {},
   "outputs": [
    {
     "name": "stdout",
     "output_type": "stream",
     "text": [
      "{'name': 'Shiro', 'isPaladin': True, 'uniformColor': 'Black', 'lionColor': 'Black'}\n"
     ]
    }
   ],
   "source": [
    "# Your implementation:\n",
    "\n",
    "print(blackPaladinData)"
   ]
  },
  {
   "cell_type": "markdown",
   "metadata": {},
   "source": [
    "In Jupyter Notebook, you don't always need a print function for quick data dump; you can just write an expression on the last line of a code cell.\n",
    "\n",
    "**Action:** Print out the entire dictionary in `blackPaladinData` without using a print function."
   ]
  },
  {
   "cell_type": "code",
   "execution_count": 64,
   "metadata": {},
   "outputs": [
    {
     "data": {
      "text/plain": [
       "{'name': 'Shiro',\n",
       " 'isPaladin': True,\n",
       " 'uniformColor': 'Black',\n",
       " 'lionColor': 'Black'}"
      ]
     },
     "execution_count": 64,
     "metadata": {},
     "output_type": "execute_result"
    }
   ],
   "source": [
    "# Your implementation:\n",
    "\n",
    "blackPaladinData"
   ]
  },
  {
   "cell_type": "markdown",
   "metadata": {},
   "source": [
    "To keep track of Shiro's age, we need to add a new key-value pair to the `blackPaladinData` dictionary.\n",
    "\n",
    "Shiro is 25 years old.\n",
    "\n",
    "**Actions:**\n",
    "- Add a key named `age`.\n",
    "- Add an integer value `25`.\n",
    "- Print out the entire dictionary in `blackPaladinData` to verify if Shiro's age was added successfully."
   ]
  },
  {
   "cell_type": "code",
   "execution_count": 67,
   "metadata": {},
   "outputs": [
    {
     "data": {
      "text/plain": [
       "{'name': 'Shiro',\n",
       " 'isPaladin': True,\n",
       " 'uniformColor': 'Black',\n",
       " 'lionColor': 'Black',\n",
       " 'age': 25}"
      ]
     },
     "execution_count": 67,
     "metadata": {},
     "output_type": "execute_result"
    }
   ],
   "source": [
    "# Your implementation:\n",
    "\n",
    "blackPaladinData[\"age\"] = 25\n",
    "blackPaladinData"
   ]
  },
  {
   "cell_type": "markdown",
   "metadata": {},
   "source": [
    "Later in the show, Shiro no longer pilots the Black Lion, but continues to wear the Black uniform color.\n",
    "\n",
    "**Actions:**\n",
    "\n",
    "- Change the value associated with the `isPaladin` key to `False`.\n",
    "- Change the value associated with the `lionColor` key to `None`.\n",
    "- Print out the entire dictionary in `blackPaladinData` to verify these changes were made successfully."
   ]
  },
  {
   "cell_type": "code",
   "execution_count": 70,
   "metadata": {},
   "outputs": [
    {
     "data": {
      "text/plain": [
       "{'name': 'Shiro',\n",
       " 'isPaladin': False,\n",
       " 'uniformColor': 'Black',\n",
       " 'lionColor': None,\n",
       " 'age': 25}"
      ]
     },
     "execution_count": 70,
     "metadata": {},
     "output_type": "execute_result"
    }
   ],
   "source": [
    "# Your implementation:\n",
    "\n",
    "blackPaladinData[\"isPaladin\"] = False\n",
    "blackPaladinData[\"lionColor\"] = None\n",
    "blackPaladinData"
   ]
  },
  {
   "cell_type": "markdown",
   "metadata": {},
   "source": [
    "**Actions:**\n",
    "\n",
    "- Write a conditional statement to check if the `blackPaladinData` dictionary contains a key called `isPaladin`.\n",
    "- If it does, print `The key 'isPaladin' is in the dictionary.`.\n",
    "- If it does not, print `The key 'isPaladin' is not in the dictionary.`."
   ]
  },
  {
   "cell_type": "code",
   "execution_count": 73,
   "metadata": {},
   "outputs": [
    {
     "name": "stdout",
     "output_type": "stream",
     "text": [
      "The key 'isPaladin' is in the dicionary.\n"
     ]
    }
   ],
   "source": [
    "# Your implementation:\n",
    "\n",
    "if \"isPaladin\" in blackPaladinData:\n",
    "    print(\"The key 'isPaladin' is in the dicionary.\")\n",
    "else:\n",
    "    print(\"The key 'isPaladin' is not in the dictionary.\")"
   ]
  },
  {
   "cell_type": "markdown",
   "metadata": {},
   "source": [
    "A Bayard is the traditional weapon of a Voltron Paladin.\n",
    "\n",
    "We don't currently have any data on Shiro's Bayard stored in `blackPaladinData`.\n",
    "\n",
    "**Actions:**\n",
    "\n",
    "- Use the dictionary's `get` method to attempt to access the non-existent key `bayard` in `blackPaladinData`.\n",
    "- Print this value to the screen."
   ]
  },
  {
   "cell_type": "code",
   "execution_count": 76,
   "metadata": {},
   "outputs": [],
   "source": [
    "# Your implementation:\n",
    "\n",
    "blackPaladinData.get(\"bayard\")"
   ]
  },
  {
   "cell_type": "markdown",
   "metadata": {},
   "source": [
    "**Actions:**\n",
    "\n",
    "- Use the dictionary's `get` method (again) to attempt to access the non-existent key `bayard` in `blackPaladinData`.\n",
    "- This time, specify a value of `Sword` as a default value for `bayard`.\n",
    "- Print this value to the screen."
   ]
  },
  {
   "cell_type": "code",
   "execution_count": 79,
   "metadata": {},
   "outputs": [],
   "source": [
    "# Your implementation:\n",
    "\n",
    "blackPaladinData [\"bayard\"] = \"sword\""
   ]
  },
  {
   "cell_type": "markdown",
   "metadata": {},
   "source": [
    "When using a default value and the method `get`, does the `bayard`:`Sword` key-value pair get added to `blackPaladinData`?\n",
    "\n",
    "**Actions:**\n",
    "\n",
    "- Write a conditional statement to check if the `blackPaladinData` dictionary contains a key called `bayard`.\n",
    "- If it does, print `The key 'bayard' is in the dictionary.`.\n",
    "- If it does not, print `The key 'bayard' is not in the dictionary.`."
   ]
  },
  {
   "cell_type": "code",
   "execution_count": 82,
   "metadata": {},
   "outputs": [
    {
     "name": "stdout",
     "output_type": "stream",
     "text": [
      "The key 'bayard' is in the dictionary\n"
     ]
    }
   ],
   "source": [
    "# Your implementation:\n",
    "\n",
    "if \"bayard\" in blackPaladinData:\n",
    "    print(\"The key 'bayard' is in the dictionary\")\n",
    "else:\n",
    "    print(\"The key 'bayard' is not in the dictionary\")"
   ]
  },
  {
   "cell_type": "markdown",
   "metadata": {},
   "source": [
    "**Actions:**\n",
    "\n",
    "- Remove the key-value pair for `uniformColor` from `blackPaladinData`.\n",
    "- Print out the entire dictionary in `blackPaladinData` to verify these changes were made successfully without using the print function."
   ]
  },
  {
   "cell_type": "code",
   "execution_count": 85,
   "metadata": {},
   "outputs": [
    {
     "data": {
      "text/plain": [
       "{'name': 'Shiro',\n",
       " 'isPaladin': False,\n",
       " 'uniformColor': '',\n",
       " 'lionColor': None,\n",
       " 'age': 25,\n",
       " 'bayard': 'sword'}"
      ]
     },
     "execution_count": 85,
     "metadata": {},
     "output_type": "execute_result"
    }
   ],
   "source": [
    "# Your implementation:\n",
    "\n",
    "blackPaladinData [\"uniformColor\"] = ''\n",
    "blackPaladinData"
   ]
  },
  {
   "cell_type": "markdown",
   "metadata": {},
   "source": [
    "## Part C\n",
    "**Action:** Execute the following code:"
   ]
  },
  {
   "cell_type": "code",
   "execution_count": 88,
   "metadata": {
    "editable": false
   },
   "outputs": [],
   "source": [
    "# create data dictionary for Lance\n",
    "\n",
    "bluePaladinData = { \n",
    "    \"name\": \"Lance\",\n",
    "    \"age\": 17,\n",
    "    \"isPaladin\": True,\n",
    "    \"uniformColor\": \"Blue\",\n",
    "    \"lionColor\": \"Blue\"\n",
    "}"
   ]
  },
  {
   "cell_type": "markdown",
   "metadata": {},
   "source": [
    "**Action:** Using the `keys` method, iterate over the `bluePaladinData` dictionary's **keys** to print each **key** on a separate line."
   ]
  },
  {
   "cell_type": "code",
   "execution_count": 91,
   "metadata": {},
   "outputs": [
    {
     "name": "stdout",
     "output_type": "stream",
     "text": [
      "name\n",
      "age\n",
      "isPaladin\n",
      "uniformColor\n",
      "lionColor\n"
     ]
    }
   ],
   "source": [
    "# Your implementation:\n",
    "\n",
    "for key in bluePaladinData.keys():\n",
    "    print(key)"
   ]
  },
  {
   "cell_type": "markdown",
   "metadata": {},
   "source": [
    "**Action:** Using the `values` method, iterate over the `bluePaladinData` dictionary's **values** to print each **value** on a separate line."
   ]
  },
  {
   "cell_type": "code",
   "execution_count": 94,
   "metadata": {},
   "outputs": [
    {
     "name": "stdout",
     "output_type": "stream",
     "text": [
      "Lance\n",
      "17\n",
      "True\n",
      "Blue\n",
      "Blue\n"
     ]
    }
   ],
   "source": [
    "# Your implementation:\n",
    "\n",
    "for value in bluePaladinData.values():\n",
    "    print(value)"
   ]
  },
  {
   "cell_type": "markdown",
   "metadata": {},
   "source": [
    "**Action:** Using the `keys` method, iterate over the `bluePaladinData` dictionary's **keys** and print each **value** out on a separate line."
   ]
  },
  {
   "cell_type": "code",
   "execution_count": 97,
   "metadata": {},
   "outputs": [
    {
     "name": "stdout",
     "output_type": "stream",
     "text": [
      "Lance\n",
      "17\n",
      "True\n",
      "Blue\n",
      "Blue\n"
     ]
    }
   ],
   "source": [
    "# Your implementation:\n",
    "\n",
    "for keys in bluePaladinData.values():\n",
    "    print(keys)"
   ]
  },
  {
   "cell_type": "markdown",
   "metadata": {},
   "source": [
    "**Action:** Using the `items` method, iterate over the `bluePaladinData` dictionary's **keys** and **values**, and print each **key** and **value** out on a separate line."
   ]
  },
  {
   "cell_type": "code",
   "execution_count": 100,
   "metadata": {},
   "outputs": [
    {
     "name": "stdout",
     "output_type": "stream",
     "text": [
      "name: and Lance\n",
      "age: and 17\n",
      "isPaladin: and True\n",
      "uniformColor: and Blue\n",
      "lionColor: and Blue\n"
     ]
    }
   ],
   "source": [
    "# Your implementation:\n",
    "\n",
    "for key, value in bluePaladinData.items():\n",
    "    print(f\"{key}: and {value}\")\n"
   ]
  },
  {
   "cell_type": "markdown",
   "metadata": {},
   "source": [
    "## Part D\n",
    "Now you are going to make a dictionary representing a larger set of structured data.\n",
    "\n",
    "It will be a \"dictionary of dictionaries\".\n",
    "\n",
    "Like any dictionary, the top-level dictionary will contain key-values pairs.  The key will be a lion color.  The value will be a dictionary containing additional key-value pairs for the Paladin who pilots that lion.\n",
    "\n",
    "**Action:** Create an empty dictionary called `lionsData`."
   ]
  },
  {
   "cell_type": "code",
   "execution_count": 103,
   "metadata": {},
   "outputs": [],
   "source": [
    "# Your implementation:\n",
    "\n",
    "lionsData = {}"
   ]
  },
  {
   "cell_type": "markdown",
   "metadata": {},
   "source": [
    "**Actions:**\n",
    "\n",
    "- Iterate over `lionColorsTuple` to create a key-value pair in `lionsData` for each color.\n",
    "- The key will be the color.\n",
    "- The value will be an empty dictionary.\n",
    "- After you are done iterating, print `lionsData` to the screen."
   ]
  },
  {
   "cell_type": "code",
   "execution_count": 125,
   "metadata": {},
   "outputs": [
    {
     "data": {
      "text/plain": [
       "{'Blue': {}, 'Yellow': {}, 'Green': {}, 'Red': {}, 'Black': {}}"
      ]
     },
     "execution_count": 125,
     "metadata": {},
     "output_type": "execute_result"
    }
   ],
   "source": [
    "# Your implementation:\n",
    "\n",
    "for color in lionColorsTuple:\n",
    "    lionsData[color] = {}\n",
    "\n",
    "lionsData"
   ]
  },
  {
   "cell_type": "markdown",
   "metadata": {},
   "source": [
    "**Actions:** \n",
    "- Add the following key-value pair to the `Blue` key in `lionsData`.\n",
    "    - key: `name`\n",
    "    - name: `Lance`\n",
    "- Print `lionsData` to the screen."
   ]
  },
  {
   "cell_type": "code",
   "execution_count": 131,
   "metadata": {},
   "outputs": [
    {
     "data": {
      "text/plain": [
       "{'Blue': {'name': 'Lance'}, 'Yellow': {}, 'Green': {}, 'Red': {}, 'Black': {}}"
      ]
     },
     "execution_count": 131,
     "metadata": {},
     "output_type": "execute_result"
    }
   ],
   "source": [
    "# Your implementation:\n",
    "\n",
    "lionsData [\"Blue\"][\"name\"] = \"Lance\"\n",
    "lionsData"
   ]
  },
  {
   "cell_type": "markdown",
   "metadata": {},
   "source": [
    "**Actions:**\n",
    "\n",
    "- Add the following key-value pairs to the appropriate key in `lionsData`.\n",
    "    - For `Yellow`: key is `name`, value is `Hunk`\n",
    "    - For `Green`: key is `name`, value is `Pidge`\n",
    "    - For `Red`: key is `name`, value is `Keith`\n",
    "    - For `Black`: key is `name`, value is `Shiro`\n",
    "- Print `lionsData` to the screen."
   ]
  },
  {
   "cell_type": "code",
   "execution_count": 135,
   "metadata": {},
   "outputs": [
    {
     "data": {
      "text/plain": [
       "{'Blue': {'name': 'Lance'},\n",
       " 'Yellow': {'name': 'Hunk'},\n",
       " 'Green': {'name': 'Pidge'},\n",
       " 'Red': {'name': 'Keith'},\n",
       " 'Black': {'name': 'Shiro'}}"
      ]
     },
     "execution_count": 135,
     "metadata": {},
     "output_type": "execute_result"
    }
   ],
   "source": [
    "# Your implementation:\n",
    "\n",
    "lionsData.update({\n",
    "    \"Yellow\": {\"name\": \"Hunk\"},\n",
    "    \"Green\": {\"name\": \"Pidge\"},\n",
    "    \"Red\": {\"name\": \"Keith\"},\n",
    "    \"Black\": {\"name\": \"Shiro\"}\n",
    "})\n",
    "\n",
    "lionsData"
   ]
  },
  {
   "cell_type": "markdown",
   "metadata": {},
   "source": [
    "Let's add the uniform colors.\n",
    "\n",
    "**Actions:**\n",
    "\n",
    "- Add the following key-value pairs to the appropriate key in `lionsData`.\n",
    "    - For `Blue`: key is `uniformColor`, value is `Blue`\n",
    "    - For `Yellow`: key is `uniformColor`, value is `Yelow`\n",
    "    - For `Green`: key is `uniformColor`, value is `Green`\n",
    "    - For `Red`: key is `uniformColor`, value is `Red`\n",
    "    - For `Black`: key is `uniformColor`, value is `Black`\n",
    "- Print `lionsData` to the screen."
   ]
  },
  {
   "cell_type": "code",
   "execution_count": 137,
   "metadata": {},
   "outputs": [
    {
     "data": {
      "text/plain": [
       "{'Blue': {'uniformColor': 'Blue'},\n",
       " 'Yellow': {'uniformColor': 'Yellow'},\n",
       " 'Green': {'uniformColor': 'Green'},\n",
       " 'Red': {'uniformColor': 'Red'},\n",
       " 'Black': {'uniformColor': 'Black'}}"
      ]
     },
     "execution_count": 137,
     "metadata": {},
     "output_type": "execute_result"
    }
   ],
   "source": [
    "# Your implementation:\n",
    "\n",
    "lionsData.update({\n",
    "    \"Blue\": {\"uniformColor\": \"Blue\"},\n",
    "    \"Yellow\": {\"uniformColor\": \"Yellow\"},\n",
    "    \"Green\": {\"uniformColor\": \"Green\"},\n",
    "    \"Red\": {\"uniformColor\": \"Red\"},\n",
    "    \"Black\": {\"uniformColor\": \"Black\"}\n",
    "})\n",
    "\n",
    "lionsData"
   ]
  },
  {
   "cell_type": "markdown",
   "metadata": {},
   "source": [
    "During the show, some Paladins pilot different lions, while continuing to wear their original uniform color.\n",
    "\n",
    "- Keith pilots the Black Lion, but continues to wear the red uniform color.\n",
    "- Lance pilots the Red Lion, but continues to wear the blue uniform color.\n",
    "\n",
    "**Actions:**\n",
    "\n",
    "- Change the values for the Black Lion so that it is now piloted by Keith wearing a Red uniform.\n",
    "- Change the values for the Red Lion so that it is now piloted by Lance wearing a Blue uniform.\n",
    "- Print `lionsData` to the screen."
   ]
  },
  {
   "cell_type": "code",
   "execution_count": null,
   "metadata": {},
   "outputs": [],
   "source": [
    "# Your implementation:\n",
    "\n"
   ]
  },
  {
   "cell_type": "markdown",
   "metadata": {},
   "source": [
    "During the show, some characters start being Paladins, wearing a new uniform color that does not match any lion.\n",
    "\n",
    "Now that Lance is piloting the Red Lion, we need Allura to pilot the Blue Lion.  Her uniform color is `Pink`.\n",
    "\n",
    "**Actions:**\n",
    "\n",
    "- Modify `lionsData` so that Allura pilots the Blue Lion while wearing a Pink uniform.\n",
    "- Print `lionsData` to the screen."
   ]
  },
  {
   "cell_type": "code",
   "execution_count": null,
   "metadata": {},
   "outputs": [],
   "source": [
    "# Your implementation:\n",
    "\n"
   ]
  },
  {
   "cell_type": "markdown",
   "metadata": {},
   "source": [
    "## Part E\n",
    "\n",
    "**Action:** Iterate over `lionsData` to achieve the following output dynamically.  The order of the Lions does not matter.\n",
    "\n",
    "`Blue Lion: Allura (Pink Uniform)`\n",
    "\n",
    "`Yellow Lion: Hunk (Yellow Uniform)`\n",
    "\n",
    "`Green Lion: Pidge (Green Uniform)`\n",
    "\n",
    "`Red Lion: Lance (Blue Uniform)`\n",
    "\n",
    "`Black Lion: Keith (Red Uniform)`"
   ]
  },
  {
   "cell_type": "code",
   "execution_count": null,
   "metadata": {},
   "outputs": [],
   "source": [
    "# Your implementation:\n",
    "\n"
   ]
  },
  {
   "cell_type": "markdown",
   "metadata": {},
   "source": [
    "**Action:** Lastly, use chain bracket syntax to print the value verifying the uniform color for the Blue Lion."
   ]
  },
  {
   "cell_type": "code",
   "execution_count": null,
   "metadata": {},
   "outputs": [],
   "source": [
    "# Your implementation:\n",
    "\n"
   ]
  }
 ],
 "metadata": {
  "kernelspec": {
   "display_name": "Python [conda env:base] *",
   "language": "python",
   "name": "conda-base-py"
  },
  "language_info": {
   "codemirror_mode": {
    "name": "ipython",
    "version": 3
   },
   "file_extension": ".py",
   "mimetype": "text/x-python",
   "name": "python",
   "nbconvert_exporter": "python",
   "pygments_lexer": "ipython3",
   "version": "3.12.7"
  }
 },
 "nbformat": 4,
 "nbformat_minor": 4
}
