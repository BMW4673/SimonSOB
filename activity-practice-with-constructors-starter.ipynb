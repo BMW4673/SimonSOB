{
 "cells": [
  {
   "cell_type": "markdown",
   "metadata": {},
   "source": [
    "# Activity - Practice with Constructors and Attributes (Starter)"
   ]
  },
  {
   "cell_type": "markdown",
   "metadata": {},
   "source": [
    "## Who Let The Dogs Out (Revisited)\n",
    "\n",
    "**Actions:**\n",
    "\n",
    "- Create a class named `Dog`.\n",
    "    - The class has one attribute called `name`.\n",
    "    - The class has no behaviors (methods).\n",
    "    - The class uses a constructor method to initialize the name attribute when the object is instantiated.\n",
    "- Instantiate the `Dog` class to create an object.  Use the constructor to give your dog a name.\n",
    "- Store the created object in a variable named `dog`.\n",
    "- Print the dog's name from the object by referencing the `name` attribute.\n",
    "- Example output (for Rex):\n",
    "\n",
    "```\n",
    "Rex\n",
    "```"
   ]
  },
  {
   "cell_type": "code",
   "execution_count": 8,
   "metadata": {},
   "outputs": [],
   "source": [
    "# Your implementation:\n",
    "\n",
    "# Establishing parameters, defaults can be given e.g. a=0\n",
    "class Dog:\n",
    "    def __init__(self, name, sex, breed, age=0):\n",
    "        self.name = name\n",
    "        self.age = age\n",
    "        self.sex = sex\n",
    "        self.breed = breed\n",
    "        self.hasOwner = False"
   ]
  },
  {
   "cell_type": "code",
   "execution_count": 10,
   "metadata": {},
   "outputs": [
    {
     "name": "stdout",
     "output_type": "stream",
     "text": [
      "Archie\n"
     ]
    }
   ],
   "source": [
    "myDog = Dog (\"Archie\", 3, \"Male\", \"Beagle\")\n",
    "print(myDog.name)"
   ]
  },
  {
   "cell_type": "code",
   "execution_count": 12,
   "metadata": {},
   "outputs": [
    {
     "name": "stdout",
     "output_type": "stream",
     "text": [
      "Male\n"
     ]
    }
   ],
   "source": [
    "print(myDog.breed)"
   ]
  },
  {
   "cell_type": "code",
   "execution_count": 14,
   "metadata": {},
   "outputs": [],
   "source": [
    "# Create a class named Dog1\n",
    "# Instantiate the Dog class to create an object, using the constructor\n",
    "# Store the created object in a variaable named dog\n",
    "# Print the dog's name by referencing the name attribute\n",
    "\n",
    "class Dog1:\n",
    "\n",
    "    pass"
   ]
  },
  {
   "cell_type": "code",
   "execution_count": 28,
   "metadata": {},
   "outputs": [],
   "source": [
    "class Dog1:\n",
    "    def __init__ (self, n):\n",
    "        self.name = n"
   ]
  },
  {
   "cell_type": "code",
   "execution_count": 18,
   "metadata": {},
   "outputs": [],
   "source": [
    "dog = Dog1(\"Rex\")"
   ]
  },
  {
   "cell_type": "code",
   "execution_count": 32,
   "metadata": {},
   "outputs": [
    {
     "data": {
      "text/plain": [
       "'Rex'"
      ]
     },
     "execution_count": 32,
     "metadata": {},
     "output_type": "execute_result"
    }
   ],
   "source": [
    "dog.name"
   ]
  },
  {
   "cell_type": "code",
   "execution_count": null,
   "metadata": {},
   "outputs": [],
   "source": []
  }
 ],
 "metadata": {
  "kernelspec": {
   "display_name": "Python [conda env:base] *",
   "language": "python",
   "name": "conda-base-py"
  },
  "language_info": {
   "codemirror_mode": {
    "name": "ipython",
    "version": 3
   },
   "file_extension": ".py",
   "mimetype": "text/x-python",
   "name": "python",
   "nbconvert_exporter": "python",
   "pygments_lexer": "ipython3",
   "version": "3.12.7"
  }
 },
 "nbformat": 4,
 "nbformat_minor": 4
}
